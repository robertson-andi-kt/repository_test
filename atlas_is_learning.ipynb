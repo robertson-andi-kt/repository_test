{
 "cells": [
  {
   "cell_type": "code",
   "execution_count": 5,
   "id": "de63d931-c828-406c-a475-39069e15e9bf",
   "metadata": {},
   "outputs": [],
   "source": [
    "#assigning a variable (string) \n",
    "my_name = \"andi\""
   ]
  },
  {
   "cell_type": "code",
   "execution_count": 7,
   "id": "88bb4ff9-2286-4b25-879b-9b83df1bb6d3",
   "metadata": {},
   "outputs": [],
   "source": [
    "#assigning a variable (number)\n",
    "xyz = 413"
   ]
  },
  {
   "cell_type": "code",
   "execution_count": 15,
   "id": "01923601-4c9d-4e50-b76c-c9c4d13ee1ab",
   "metadata": {},
   "outputs": [
    {
     "name": "stdout",
     "output_type": "stream",
     "text": [
      "andi\n"
     ]
    }
   ],
   "source": [
    "#print anything \n",
    "print (my_name)"
   ]
  },
  {
   "cell_type": "code",
   "execution_count": 13,
   "id": "125d6c34-4a27-4065-88d5-a3629a684bac",
   "metadata": {},
   "outputs": [
    {
     "name": "stdout",
     "output_type": "stream",
     "text": [
      "413\n"
     ]
    }
   ],
   "source": [
    "print (xyz)"
   ]
  },
  {
   "cell_type": "code",
   "execution_count": 21,
   "id": "988b47a8-6259-4c21-9f29-a9b73a388f55",
   "metadata": {},
   "outputs": [
    {
     "name": "stdout",
     "output_type": "stream",
     "text": [
      "my name is andi and the silly number is 413\n"
     ]
    }
   ],
   "source": [
    "#print with intention lmao \n",
    "print (\"my name is\", (my_name), \"and the silly number is\", (xyz),)"
   ]
  },
  {
   "cell_type": "code",
   "execution_count": 23,
   "id": "1d35cd48-7641-4339-b780-aaca6c4d052b",
   "metadata": {},
   "outputs": [
    {
     "data": {
      "text/plain": [
       "int"
      ]
     },
     "execution_count": 23,
     "metadata": {},
     "output_type": "execute_result"
    }
   ],
   "source": [
    "#typing, what type is this ?\n",
    "type(1)"
   ]
  },
  {
   "cell_type": "code",
   "execution_count": 25,
   "id": "81f89b19-255f-4b89-9fa6-fefe9d51a089",
   "metadata": {},
   "outputs": [
    {
     "data": {
      "text/plain": [
       "str"
      ]
     },
     "execution_count": 25,
     "metadata": {},
     "output_type": "execute_result"
    }
   ],
   "source": [
    "type(\"andi\")"
   ]
  },
  {
   "cell_type": "code",
   "execution_count": 27,
   "id": "eed38004-99ba-4ca7-8a44-9805ca8959de",
   "metadata": {},
   "outputs": [
    {
     "data": {
      "text/plain": [
       "float"
      ]
     },
     "execution_count": 27,
     "metadata": {},
     "output_type": "execute_result"
    }
   ],
   "source": [
    "type(4.13)"
   ]
  },
  {
   "cell_type": "code",
   "execution_count": 29,
   "id": "14aa0aa6-1b59-4156-9acf-30ac55060844",
   "metadata": {},
   "outputs": [
    {
     "data": {
      "text/plain": [
       "int"
      ]
     },
     "execution_count": 29,
     "metadata": {},
     "output_type": "execute_result"
    }
   ],
   "source": [
    "type(413)"
   ]
  },
  {
   "cell_type": "code",
   "execution_count": 33,
   "id": "646b95d8-c74c-4668-afee-8ce4062fccac",
   "metadata": {},
   "outputs": [
    {
     "data": {
      "text/plain": [
       "bool"
      ]
     },
     "execution_count": 33,
     "metadata": {},
     "output_type": "execute_result"
    }
   ],
   "source": [
    "type(True)"
   ]
  },
  {
   "cell_type": "code",
   "execution_count": 35,
   "id": "fa7ad7b2-0950-4678-8fdc-d01744776698",
   "metadata": {},
   "outputs": [
    {
     "data": {
      "text/plain": [
       "bool"
      ]
     },
     "execution_count": 35,
     "metadata": {},
     "output_type": "execute_result"
    }
   ],
   "source": [
    "type(False)"
   ]
  },
  {
   "cell_type": "code",
   "execution_count": 31,
   "id": "33dd6916-ba32-451c-a055-5a60b80eb2f8",
   "metadata": {},
   "outputs": [],
   "source": [
    "#types of container data \n",
    "#lists \n",
    "number_list = [7,2,1,4,18,79100]\n",
    "string_list = [\"john\", \"dave\", \"rose\", \"jade\"] \n",
    "mixed_list = [\"karkat\" , 612, \"egbert\", 413]"
   ]
  },
  {
   "cell_type": "code",
   "execution_count": 33,
   "id": "429e3931-0124-42e1-8ed5-3e1a5536a936",
   "metadata": {},
   "outputs": [
    {
     "data": {
      "text/plain": [
       "(list, list, list)"
      ]
     },
     "execution_count": 33,
     "metadata": {},
     "output_type": "execute_result"
    }
   ],
   "source": [
    "type(number_list), type(string_list), type(mixed_list) "
   ]
  },
  {
   "cell_type": "code",
   "execution_count": 35,
   "id": "7775ae86-0e05-4c58-84e7-a7feb5e842cd",
   "metadata": {},
   "outputs": [],
   "source": [
    "#that was me checking the type of the lists even though we already knew that \n",
    "#because we were mAkInG a LiST"
   ]
  },
  {
   "cell_type": "code",
   "execution_count": 45,
   "id": "62545578-be28-4edb-b040-4c8dc65c847d",
   "metadata": {},
   "outputs": [],
   "source": [
    "#adding elements to a list \n",
    "#using the 'append' function\n",
    "#this adds to the end of the lists btw \n",
    "number_list.append(612)"
   ]
  },
  {
   "cell_type": "code",
   "execution_count": 47,
   "id": "d5bf4aae-264f-4d81-aba3-0fb830a43454",
   "metadata": {},
   "outputs": [
    {
     "name": "stdout",
     "output_type": "stream",
     "text": [
      "[7, 2, 1, 4, 18, 79100, 612]\n"
     ]
    }
   ],
   "source": [
    "print(number_list)"
   ]
  },
  {
   "cell_type": "code",
   "execution_count": 37,
   "id": "fee0e9ee-c8b6-429a-b6c5-6f536702096a",
   "metadata": {},
   "outputs": [],
   "source": [
    "#see? lets go again \n",
    "string_list.append(\"dirk\")"
   ]
  },
  {
   "cell_type": "code",
   "execution_count": 39,
   "id": "30f09df5-9f36-4218-b8ca-4063006c4b19",
   "metadata": {},
   "outputs": [
    {
     "name": "stdout",
     "output_type": "stream",
     "text": [
      "['john', 'dave', 'rose', 'jade', 'dirk']\n"
     ]
    }
   ],
   "source": [
    "print(string_list)"
   ]
  },
  {
   "cell_type": "code",
   "execution_count": 53,
   "id": "4175f2e5-b904-4764-b60e-1c1f55ee5c2c",
   "metadata": {},
   "outputs": [],
   "source": [
    "#ehehehe"
   ]
  },
  {
   "cell_type": "code",
   "execution_count": 55,
   "id": "a12f2fa3-c9f5-4e3f-98f9-7a52727f3ce9",
   "metadata": {},
   "outputs": [],
   "source": [
    "#making a tuple\n",
    "#tuples are immutable\n",
    "your_tuple = (\"stuff\", \"things\", 345)"
   ]
  },
  {
   "cell_type": "code",
   "execution_count": 57,
   "id": "35da7441-0d56-4d89-af13-8ff8a75b4310",
   "metadata": {},
   "outputs": [
    {
     "data": {
      "text/plain": [
       "tuple"
      ]
     },
     "execution_count": 57,
     "metadata": {},
     "output_type": "execute_result"
    }
   ],
   "source": [
    "type(your_tuple)"
   ]
  },
  {
   "cell_type": "code",
   "execution_count": 59,
   "id": "eabbb4f5-e454-40d7-bee6-a7e5bcec51ec",
   "metadata": {},
   "outputs": [],
   "source": [
    "#tuples are in curly brackets and lists are in square brackets fyi\n",
    "#you can add tuples together \n",
    "your_tuple_again = (5, \"big\", \"booms\") "
   ]
  },
  {
   "cell_type": "code",
   "execution_count": 61,
   "id": "64d6d27f-d0f3-490c-8676-0e8692e5c57c",
   "metadata": {},
   "outputs": [
    {
     "name": "stdout",
     "output_type": "stream",
     "text": [
      "('stuff', 'things', 345, 5, 'big', 'booms')\n"
     ]
    }
   ],
   "source": [
    "your_tuple + your_tuple_again\n",
    "print(your_tuple + your_tuple_again)"
   ]
  },
  {
   "cell_type": "code",
   "execution_count": 63,
   "id": "cb0c1e9b-10aa-48da-ac52-504af99b6cf1",
   "metadata": {},
   "outputs": [],
   "source": [
    "#cant .append a tuple fyi"
   ]
  },
  {
   "cell_type": "code",
   "execution_count": 65,
   "id": "f4ef5150-2ea1-43bf-9c27-9494a92e23e1",
   "metadata": {},
   "outputs": [],
   "source": [
    "#creating a dict(ionary)"
   ]
  },
  {
   "cell_type": "code",
   "execution_count": 4,
   "id": "68c27333-199e-40e2-861d-1d2405c03593",
   "metadata": {},
   "outputs": [
    {
     "data": {
      "text/plain": [
       "dict"
      ]
     },
     "execution_count": 4,
     "metadata": {},
     "output_type": "execute_result"
    }
   ],
   "source": [
    "silly_try = {\"humans\": [\"jane\", \"jake\", \"roxy\", \"dirk\"], \n",
    "             \"patrons\": [\"gamzee\", \"arenea\", \"caliope\", \"caliborn\"],\n",
    "             \"surnames\": [\"crocker\", \"english\", \"lalonde\", \"strider\"]}\n",
    "type(silly_try)"
   ]
  },
  {
   "cell_type": "code",
   "execution_count": 79,
   "id": "210d423b-fe58-46d1-8e5c-3c904485ddb7",
   "metadata": {},
   "outputs": [
    {
     "name": "stdout",
     "output_type": "stream",
     "text": [
      "{'humans': ['jane', 'jake', 'roxy', 'dirk'], 'patrons': ['gamzee', 'arenea', 'caliope', 'caliborn'], 'surnames': ['crocker', 'english', 'lalonde', 'strider']}\n"
     ]
    }
   ],
   "source": [
    "#gotta make sure em commas are in the right place \n",
    "print(silly_try)"
   ]
  },
  {
   "cell_type": "code",
   "execution_count": 87,
   "id": "168c8e96-38b6-4aa1-8162-ad78818b34c0",
   "metadata": {},
   "outputs": [],
   "source": [
    "value = silly_try[\"humans\"]"
   ]
  },
  {
   "cell_type": "code",
   "execution_count": 89,
   "id": "edf006c7-0a88-4900-ba12-fe1de7358e6f",
   "metadata": {},
   "outputs": [
    {
     "data": {
      "text/plain": [
       "['jane', 'jake', 'roxy', 'dirk']"
      ]
     },
     "execution_count": 89,
     "metadata": {},
     "output_type": "execute_result"
    }
   ],
   "source": [
    "value"
   ]
  },
  {
   "cell_type": "code",
   "execution_count": 91,
   "id": "e919628d-7cc1-4c05-a0dd-b68295142e62",
   "metadata": {},
   "outputs": [],
   "source": [
    "#okay idk what i did there "
   ]
  },
  {
   "cell_type": "code",
   "execution_count": 95,
   "id": "0f18b923-d135-4e1c-b54f-1b26a310a9d4",
   "metadata": {},
   "outputs": [
    {
     "data": {
      "text/plain": [
       "1011"
      ]
     },
     "execution_count": 95,
     "metadata": {},
     "output_type": "execute_result"
    }
   ],
   "source": [
    "#can also be a super calulator \n",
    "9 + 8 + 98+ 8 + 888"
   ]
  },
  {
   "cell_type": "code",
   "execution_count": 97,
   "id": "9d5571d2-0770-4fa9-8a26-0bc8b3d48180",
   "metadata": {},
   "outputs": [
    {
     "data": {
      "text/plain": [
       "10"
      ]
     },
     "execution_count": 97,
     "metadata": {},
     "output_type": "execute_result"
    }
   ],
   "source": [
    "#multiplication is done the international way \n",
    "5 * 2"
   ]
  },
  {
   "cell_type": "code",
   "execution_count": 99,
   "id": "7cb32809-c362-4b8f-8cb8-c32ca2b8d203",
   "metadata": {},
   "outputs": [
    {
     "data": {
      "text/plain": [
       "5.0"
      ]
     },
     "execution_count": 99,
     "metadata": {},
     "output_type": "execute_result"
    }
   ],
   "source": [
    "#can also do division \n",
    "10/2"
   ]
  },
  {
   "cell_type": "code",
   "execution_count": 101,
   "id": "4f1d9735-7f14-41cf-9d4d-d13b5157616d",
   "metadata": {},
   "outputs": [
    {
     "data": {
      "text/plain": [
       "True"
      ]
     },
     "execution_count": 101,
     "metadata": {},
     "output_type": "execute_result"
    }
   ],
   "source": [
    "#checking if two things are exactly the same \n",
    "x = 4\n",
    "x == 4"
   ]
  },
  {
   "cell_type": "code",
   "execution_count": 103,
   "id": "bd08b4c1-bfd8-4f1a-832f-1d917cd9f13c",
   "metadata": {},
   "outputs": [
    {
     "data": {
      "text/plain": [
       "True"
      ]
     },
     "execution_count": 103,
     "metadata": {},
     "output_type": "execute_result"
    }
   ],
   "source": [
    "y = 2 * 2\n",
    "#therefore\n",
    "x == y"
   ]
  },
  {
   "cell_type": "code",
   "execution_count": 105,
   "id": "797fc8ee-02d1-4ec7-aed4-7c43d5a58e94",
   "metadata": {},
   "outputs": [
    {
     "data": {
      "text/plain": [
       "1.0"
      ]
     },
     "execution_count": 105,
     "metadata": {},
     "output_type": "execute_result"
    }
   ],
   "source": [
    "#comparing a float and an integer \n",
    "x/y"
   ]
  },
  {
   "cell_type": "code",
   "execution_count": 107,
   "id": "ceb0d856-1f31-4f26-abe1-7638236c7842",
   "metadata": {},
   "outputs": [
    {
     "data": {
      "text/plain": [
       "'boomboomboomboomboom'"
      ]
     },
     "execution_count": 107,
     "metadata": {},
     "output_type": "execute_result"
    }
   ],
   "source": [
    "#can also do this if you ever needed to \n",
    "\"boom\" * 5"
   ]
  },
  {
   "cell_type": "code",
   "execution_count": 111,
   "id": "f3821458-840d-4abc-9b33-bd26ae1a59b3",
   "metadata": {},
   "outputs": [
    {
     "name": "stdout",
     "output_type": "stream",
     "text": [
      "hey handsome, your name is andi\n"
     ]
    }
   ],
   "source": [
    "#conditional flow time \n",
    "if my_name == \"andi\":\n",
    "    print(\"hey handsome, your name is \" + my_name)\n",
    "\n",
    "#\"if my name is andi and that is true then tell me this plus this"
   ]
  },
  {
   "cell_type": "code",
   "execution_count": 113,
   "id": "135db395-ca84-4b5a-859f-7cfbc7b3d933",
   "metadata": {},
   "outputs": [
    {
     "name": "stdout",
     "output_type": "stream",
     "text": [
      "hey handsome, your name is andi\n"
     ]
    }
   ],
   "source": [
    "if my_name == \"andi\":\n",
    "    print(\"hey handsome, your name is \" + my_name)\n",
    "elif my_name == \"atlas\":\n",
    "    print(\"gamer time\")\n",
    "else:\n",
    "    print(\"who tf are u\")\n",
    "\n",
    "#if your name is andi and that is true then print this plus this\n",
    "#or if your name is this then print this \n",
    "#if its anything else at all then you get this "
   ]
  },
  {
   "cell_type": "code",
   "execution_count": 115,
   "id": "ea099af8-72bd-4181-8490-4371c784b810",
   "metadata": {},
   "outputs": [],
   "source": [
    "#the above can be tested by changing the input of my_name"
   ]
  },
  {
   "cell_type": "code",
   "execution_count": 121,
   "id": "cd052bda-ebf3-492a-bafa-fe4cea77e587",
   "metadata": {},
   "outputs": [
    {
     "name": "stdout",
     "output_type": "stream",
     "text": [
      "0\n",
      "1\n",
      "4\n",
      "9\n",
      "16\n",
      "25\n",
      "36\n",
      "49\n",
      "64\n",
      "81\n",
      "100\n",
      "121\n",
      "144\n",
      "169\n",
      "196\n",
      "225\n",
      "256\n",
      "289\n",
      "324\n",
      "361\n",
      "400\n",
      "441\n",
      "484\n",
      "529\n",
      "576\n",
      "625\n",
      "676\n",
      "729\n",
      "784\n",
      "841\n",
      "900\n",
      "961\n",
      "1024\n",
      "1089\n",
      "1156\n",
      "1225\n",
      "1296\n",
      "1369\n",
      "1444\n",
      "1521\n",
      "1600\n",
      "1681\n",
      "1764\n",
      "1849\n",
      "1936\n",
      "2025\n",
      "2116\n",
      "2209\n",
      "2304\n",
      "2401\n",
      "2500\n",
      "2601\n",
      "2704\n",
      "2809\n",
      "2916\n",
      "3025\n",
      "3136\n",
      "3249\n",
      "3364\n",
      "3481\n",
      "3600\n",
      "3721\n",
      "3844\n",
      "3969\n",
      "4096\n",
      "4225\n",
      "4356\n",
      "4489\n",
      "4624\n",
      "4761\n",
      "4900\n",
      "5041\n",
      "5184\n",
      "5329\n",
      "5476\n",
      "5625\n",
      "5776\n",
      "5929\n",
      "6084\n",
      "6241\n",
      "6400\n",
      "6561\n",
      "6724\n",
      "6889\n",
      "7056\n",
      "7225\n",
      "7396\n",
      "7569\n",
      "7744\n",
      "7921\n",
      "8100\n",
      "8281\n",
      "8464\n",
      "8649\n",
      "8836\n",
      "9025\n",
      "9216\n",
      "9409\n",
      "9604\n",
      "9801\n"
     ]
    }
   ],
   "source": [
    "#for loops \n",
    "for x in range(100):\n",
    "    print(x ** 2)\n",
    "\n",
    "#we be doubling shit until 100 lines have been reached \n",
    "#this was such a waste of lines oops "
   ]
  },
  {
   "cell_type": "code",
   "execution_count": 1,
   "id": "4b658e82-6a8d-449e-957c-dbeacae5fcea",
   "metadata": {},
   "outputs": [
    {
     "name": "stdout",
     "output_type": "stream",
     "text": [
      "0\n",
      "1\n",
      "2\n",
      "3\n",
      "4\n",
      "5\n",
      "6\n",
      "7\n",
      "8\n",
      "9\n",
      "20\n"
     ]
    }
   ],
   "source": [
    "#while loops \n",
    "#a while loop that works \n",
    "number_adder = 0\n",
    "\n",
    "while number_adder < 10:\n",
    "    print(number_adder)\n",
    "    number_adder +=1\n",
    "print(number_adder*2)"
   ]
  },
  {
   "cell_type": "code",
   "execution_count": 3,
   "id": "b7d29b61-6a9d-4b4f-aabe-0c5d57edd65a",
   "metadata": {},
   "outputs": [],
   "source": [
    "#for the above: we start with 0 / while the condition is less than 10, add 1 more and print waht that is / while loops wont stop unless\n",
    "#you tell them to "
   ]
  },
  {
   "cell_type": "code",
   "execution_count": 13,
   "id": "40311a43-c0cb-44ca-acf7-6d7eedfdf1f7",
   "metadata": {},
   "outputs": [],
   "source": [
    "#functions\n",
    "def squareFunction(last_number):\n",
    "    '''\n",
    "    A function to compute the square of a number \n",
    "    '''\n",
    "\n",
    "    number_list = []\n",
    "    for x in range(last_number):\n",
    "        number_list.append(x ** 2)\n",
    "\n",
    "    return(number_list)"
   ]
  },
  {
   "cell_type": "code",
   "execution_count": 15,
   "id": "a713fd33-7ec0-416f-a430-b6990e6de761",
   "metadata": {},
   "outputs": [
    {
     "data": {
      "text/plain": [
       "[0, 1, 4, 9, 16]"
      ]
     },
     "execution_count": 15,
     "metadata": {},
     "output_type": "execute_result"
    }
   ],
   "source": [
    "squareFunction(5)"
   ]
  },
  {
   "cell_type": "code",
   "execution_count": 17,
   "id": "de95bf34-07c4-49cd-8b0d-13f366468713",
   "metadata": {},
   "outputs": [],
   "source": [
    "#methods"
   ]
  },
  {
   "cell_type": "code",
   "execution_count": 19,
   "id": "441d5acd-fd79-448e-8df1-8829edc97fb9",
   "metadata": {},
   "outputs": [
    {
     "data": {
      "text/plain": [
       "True"
      ]
     },
     "execution_count": 19,
     "metadata": {},
     "output_type": "execute_result"
    }
   ],
   "source": [
    "\"this sentence is a string!\" .endswith(\"!\")"
   ]
  },
  {
   "cell_type": "code",
   "execution_count": 23,
   "id": "6dab7d8c-6c34-4deb-aa41-cdfc811504d6",
   "metadata": {},
   "outputs": [
    {
     "data": {
      "text/plain": [
       "False"
      ]
     },
     "execution_count": 23,
     "metadata": {},
     "output_type": "execute_result"
    }
   ],
   "source": [
    "\"four hundred and thirteen\" .isnumeric()"
   ]
  },
  {
   "cell_type": "code",
   "execution_count": 27,
   "id": "1d7603a8-d8a1-4954-9ef7-143127118e5c",
   "metadata": {},
   "outputs": [
    {
     "data": {
      "text/plain": [
       "True"
      ]
     },
     "execution_count": 27,
     "metadata": {},
     "output_type": "execute_result"
    }
   ],
   "source": [
    "\"413\" .isnumeric()"
   ]
  },
  {
   "cell_type": "code",
   "execution_count": 41,
   "id": "85ef9e5e-7a08-4ef2-982d-7d9bab995214",
   "metadata": {},
   "outputs": [
    {
     "data": {
      "text/plain": [
       "['dirk', 'jade', 'rose', 'dave', 'john']"
      ]
     },
     "execution_count": 41,
     "metadata": {},
     "output_type": "execute_result"
    }
   ],
   "source": [
    "string_list.reverse()\n",
    "string_list"
   ]
  },
  {
   "cell_type": "code",
   "execution_count": 56,
   "id": "b5b1672c-6707-49a9-9861-61b4d14ba396",
   "metadata": {},
   "outputs": [
    {
     "ename": "IndexError",
     "evalue": "pop from empty list",
     "output_type": "error",
     "traceback": [
      "\u001b[1;31m---------------------------------------------------------------------------\u001b[0m",
      "\u001b[1;31mIndexError\u001b[0m                                Traceback (most recent call last)",
      "Cell \u001b[1;32mIn[56], line 1\u001b[0m\n\u001b[1;32m----> 1\u001b[0m first_word \u001b[38;5;241m=\u001b[39m string_list\u001b[38;5;241m.\u001b[39mpop()\n\u001b[0;32m      2\u001b[0m first_word\n",
      "\u001b[1;31mIndexError\u001b[0m: pop from empty list"
     ]
    }
   ],
   "source": [
    "first_word = string_list.pop()\n",
    "first_word"
   ]
  },
  {
   "cell_type": "code",
   "execution_count": null,
   "id": "ee64bf69-8d1e-468f-9a34-e61b0c92415f",
   "metadata": {},
   "outputs": [],
   "source": [
    "#the above if interated will go down the list and when it gets to the end it freaksout because \n",
    "#its ran out of things in the list "
   ]
  },
  {
   "cell_type": "code",
   "execution_count": 59,
   "id": "b1243c1c-4976-40bd-aedc-588f1090ef55",
   "metadata": {},
   "outputs": [
    {
     "data": {
      "text/plain": [
       "<function list.count(value, /)>"
      ]
     },
     "execution_count": 59,
     "metadata": {},
     "output_type": "execute_result"
    }
   ],
   "source": [
    "string_list.count"
   ]
  },
  {
   "cell_type": "code",
   "execution_count": 61,
   "id": "47dd5608-586f-42d8-9d83-430eadd8d567",
   "metadata": {},
   "outputs": [
    {
     "data": {
      "text/plain": [
       "[]"
      ]
     },
     "execution_count": 61,
     "metadata": {},
     "output_type": "execute_result"
    }
   ],
   "source": [
    "string_list"
   ]
  },
  {
   "cell_type": "code",
   "execution_count": 71,
   "id": "0386f61c-a6ab-497d-b19a-b994837d498b",
   "metadata": {},
   "outputs": [
    {
     "name": "stdout",
     "output_type": "stream",
     "text": [
      "['john', 'dave', 'rose', 'jade', 'john', 'dave', 'rose', 'jade', 'john', 'dave', 'rose', 'jade']\n"
     ]
    }
   ],
   "source": [
    "string_list.append(\"john\")\n",
    "string_list.append(\"dave\")#\n",
    "string_list.append(\"rose\")\n",
    "string_list.append(\"jade\")\n",
    "\n",
    "print(string_list)"
   ]
  },
  {
   "cell_type": "code",
   "execution_count": 73,
   "id": "b5d0cebb-0abf-4a3e-a02a-8b75149048a8",
   "metadata": {},
   "outputs": [],
   "source": [
    "#.append takes exaCTLY one command at a time and i ran the above function like 3 times or something "
   ]
  },
  {
   "cell_type": "code",
   "execution_count": 87,
   "id": "c06a794e-2d07-4ceb-b210-c96df55b61fc",
   "metadata": {},
   "outputs": [],
   "source": [
    "#REGULAR EXPRESSION (REGEX)\n",
    "sequence = \"AATGCGCGCGGAGAGGGCGCCGCAAACGGGGCGCAAAGC\"\n",
    "regex = \"G{2,5}\""
   ]
  },
  {
   "cell_type": "code",
   "execution_count": 85,
   "id": "00d9d1bc-0a67-4b3c-9c5c-a9349a4ad3cc",
   "metadata": {},
   "outputs": [],
   "source": [
    "import re"
   ]
  },
  {
   "cell_type": "code",
   "execution_count": 89,
   "id": "ea8d6179-84c5-41b6-8a34-c946350d0373",
   "metadata": {},
   "outputs": [
    {
     "name": "stdout",
     "output_type": "stream",
     "text": [
      "['GG', 'GGG', 'GGGG']\n"
     ]
    }
   ],
   "source": [
    "matches = re.findall(regex, sequence)\n",
    "print(matches)"
   ]
  },
  {
   "cell_type": "code",
   "execution_count": 95,
   "id": "98f3d508-aaa5-474e-be1d-65976257a790",
   "metadata": {},
   "outputs": [
    {
     "name": "stdout",
     "output_type": "stream",
     "text": [
      "['AA']\n"
     ]
    }
   ],
   "source": [
    "#this wasmt imn the material lmao\n",
    "#Each time you want to search with a new pattern, you need to call re.findall() again to get the new matches.\n",
    "import re\n",
    "regex = \"^A*\"\n",
    "matches = re.findall(regex, sequence)\n",
    "print(matches)"
   ]
  },
  {
   "cell_type": "code",
   "execution_count": 97,
   "id": "730f7030-0993-4759-8458-eeb632e6b066",
   "metadata": {},
   "outputs": [
    {
     "name": "stdout",
     "output_type": "stream",
     "text": [
      "['ATG']\n"
     ]
    }
   ],
   "source": [
    "#answers to the exercise = \n",
    "import re\n",
    "regex = \"ATG\"\n",
    "matches = re.findall(regex, sequence)\n",
    "print(matches)"
   ]
  },
  {
   "cell_type": "code",
   "execution_count": 99,
   "id": "d6fb09d9-b4fb-414c-b706-1698ecb52380",
   "metadata": {},
   "outputs": [
    {
     "name": "stdout",
     "output_type": "stream",
     "text": [
      "['GGG', 'GGG']\n"
     ]
    }
   ],
   "source": [
    "import re\n",
    "regex = \"G{3}\"\n",
    "matches = re.findall(regex, sequence)\n",
    "print(matches)"
   ]
  },
  {
   "cell_type": "code",
   "execution_count": 101,
   "id": "614f6ff5-cb04-42b2-9701-5ba8c982209b",
   "metadata": {},
   "outputs": [
    {
     "name": "stdout",
     "output_type": "stream",
     "text": [
      "['GGA', 'GGG', 'GGG']\n"
     ]
    }
   ],
   "source": [
    "import re\n",
    "regex = \"GG.\"\n",
    "matches = re.findall(regex, sequence)\n",
    "print(matches)"
   ]
  },
  {
   "cell_type": "code",
   "execution_count": 103,
   "id": "2446ce86-e4b1-46c2-9a73-b49eb3dcf9f2",
   "metadata": {},
   "outputs": [
    {
     "name": "stdout",
     "output_type": "stream",
     "text": [
      "['GG', 'GG', 'GG', 'GGC']\n"
     ]
    }
   ],
   "source": [
    "import re\n",
    "regex = \"GGC?\"\n",
    "matches = re.findall(regex, sequence)\n",
    "print(matches)"
   ]
  },
  {
   "cell_type": "code",
   "execution_count": 105,
   "id": "5fe000b8-6150-4c21-bc44-3e8a18340da9",
   "metadata": {},
   "outputs": [
    {
     "name": "stdout",
     "output_type": "stream",
     "text": [
      "['AATG']\n"
     ]
    }
   ],
   "source": [
    "import re\n",
    "regex = \"[A]*TG\"\n",
    "matches = re.findall(regex, sequence)\n",
    "print(matches)"
   ]
  },
  {
   "cell_type": "code",
   "execution_count": 5,
   "id": "5439a831-cded-4ad8-91ed-c4c5b333aabb",
   "metadata": {},
   "outputs": [
    {
     "data": {
      "text/plain": [
       "['.849C9593-D756-4E56-8D6E-42412F2A707B',\n",
       " '.ipynb_checkpoints',\n",
       " 'atlas_is_learning.ipynb',\n",
       " 'Attachments',\n",
       " 'Desktop',\n",
       " 'desktop.ini',\n",
       " 'Documents',\n",
       " 'Getting started with OneDrive.pdf',\n",
       " 'Personal Vault.lnk',\n",
       " 'Pictures',\n",
       " 'TOPIC 4 ASSESSMENT 52318936.docx']"
      ]
     },
     "execution_count": 5,
     "metadata": {},
     "output_type": "execute_result"
    }
   ],
   "source": [
    "#WORKSHOP 2 - importing a model and using it \n",
    "import os \n",
    "os.listdir()\n",
    "#lists the shit in the directory youre in "
   ]
  },
  {
   "cell_type": "code",
   "execution_count": 7,
   "id": "3ee59a2b-924d-4555-9d92-addca40a5db6",
   "metadata": {},
   "outputs": [
    {
     "data": {
      "text/plain": [
       "<function nt.getcwd()>"
      ]
     },
     "execution_count": 7,
     "metadata": {},
     "output_type": "execute_result"
    }
   ],
   "source": [
    "os.getcwd\n",
    "#get current working directory pls"
   ]
  },
  {
   "cell_type": "code",
   "execution_count": 9,
   "id": "60bf4789-5e87-4e9d-8eb6-1b5ddb2b4f54",
   "metadata": {},
   "outputs": [
    {
     "data": {
      "text/plain": [
       "<module 'ntpath' (frozen)>"
      ]
     },
     "execution_count": 9,
     "metadata": {},
     "output_type": "execute_result"
    }
   ],
   "source": [
    "os.path"
   ]
  },
  {
   "cell_type": "code",
   "execution_count": 17,
   "id": "0e33353b-2e43-480c-bff7-568881417b4d",
   "metadata": {},
   "outputs": [
    {
     "data": {
      "text/plain": [
       "'karkat'"
      ]
     },
     "execution_count": 17,
     "metadata": {},
     "output_type": "execute_result"
    }
   ],
   "source": [
    "#indexing and slicing \n",
    "#creating an index ;\n",
    "my_index = [\"karkat\", \"aradia\", \"tavros\", \"sollux\", \"nepeta\", \"kanaya\", \"terezi\", \"vriska\", \"equius\", \"gamzee\", \"eridan\", \"feferi\"]\n",
    "my_index[0]\n",
    "#pythin counts starting from zero so karkat is zero and aradia would be one "
   ]
  },
  {
   "cell_type": "code",
   "execution_count": 19,
   "id": "3fce5c28-10cb-48d9-a7c0-20ca6c0ada09",
   "metadata": {},
   "outputs": [
    {
     "data": {
      "text/plain": [
       "'eridan'"
      ]
     },
     "execution_count": 19,
     "metadata": {},
     "output_type": "execute_result"
    }
   ],
   "source": [
    "\n",
    "my_index[10]"
   ]
  },
  {
   "cell_type": "code",
   "execution_count": 21,
   "id": "bd8b0efd-9f8b-4133-884e-aa5f7e6f1cca",
   "metadata": {},
   "outputs": [
    {
     "data": {
      "text/plain": [
       "['nepeta', 'kanaya', 'terezi']"
      ]
     },
     "execution_count": 21,
     "metadata": {},
     "output_type": "execute_result"
    }
   ],
   "source": [
    "#slicing. the number at the end of a slice is not inlcuded \n",
    "my_index[4:7]\n"
   ]
  },
  {
   "cell_type": "code",
   "execution_count": 23,
   "id": "7f7e2239-e924-4f64-92d2-b270e5bcc16f",
   "metadata": {},
   "outputs": [
    {
     "data": {
      "text/plain": [
       "'feferi'"
      ]
     },
     "execution_count": 23,
     "metadata": {},
     "output_type": "execute_result"
    }
   ],
   "source": [
    "#to select the last element you can use a negative number \n",
    "my_index[-1]"
   ]
  },
  {
   "cell_type": "code",
   "execution_count": 25,
   "id": "ae7c66b1-3c10-45ac-863c-11c6fd1d8be9",
   "metadata": {},
   "outputs": [
    {
     "data": {
      "text/plain": [
       "['feferi',\n",
       " 'eridan',\n",
       " 'gamzee',\n",
       " 'equius',\n",
       " 'vriska',\n",
       " 'terezi',\n",
       " 'kanaya',\n",
       " 'nepeta',\n",
       " 'sollux',\n",
       " 'tavros',\n",
       " 'aradia',\n",
       " 'karkat']"
      ]
     },
     "execution_count": 25,
     "metadata": {},
     "output_type": "execute_result"
    }
   ],
   "source": [
    "#reversing a list;\n",
    "my_index[::-1]"
   ]
  },
  {
   "cell_type": "code",
   "execution_count": 26,
   "id": "2f952864-b3b6-4d68-9146-958283b1f93b",
   "metadata": {},
   "outputs": [
    {
     "data": {
      "text/plain": [
       "336"
      ]
     },
     "execution_count": 26,
     "metadata": {},
     "output_type": "execute_result"
    }
   ],
   "source": [
    "#number arrays - must contain a single data type \n",
    "import numpy as np\n",
    "dna_seqs =  ['ATGGGACTGCCCTTGATGCCTCACGTATCCAAAAGCGTATCATGGAGCACTCGGAAACGCACTATAGCAATACCAGACCGTGATATACAACCAGATCACTCTACGATTAAACGACTGCGCCGCCGTATTGCGCTGCTTATCCGAGAAGCAGTCCCTCGTGCGACGCAGCACCAAGAACAAGTCTCAGAGTACCTTTGGACGTATGACTTCAGGATCGAGTCGGCGGCTAGGTTCTATGGGGAGCTCCGTGATAGGTCATCTAGACAGGGTGTGTATTATTTGAGAGTAAAACGAAATCCTCCTCGCATGTACGGGTCAATGGAATTCCCGGTCAGA',\n",
    "            'ATGGACACCTGGACATACTCCCAAGAGGCTGGAGCAGTGCCCCATTCCTCGGTGCCTCAAGTTCTGGGAATGTGCAATCCTCCGCGAGACATTCAAGGTTTCAGACCACGCGATCGGGTTAAGATACTATCTCAAGTACTTCTTTCGTGTAAGGCACCACTAGAATTGCTTACTTATCCAGGCGGACAAACTGCAATCCTATCTTCATGGGGGGTAGATTTACCATTTTGTAAGAATCTAGACGCACCACGTGGGCGTAGCGACAGGGAGACACAATGGAGCTGCATGATATGGCGGGATCCAAGATCCATGGCGAGCGCGTCATACTTTAGGTGC',\n",
    "            'ATGGTGCGCACGATTGAGTTGGAATTAGTCCCCAGACTGGCGACCATTACATACACCCTCCACCTTCCACGTCGGTTCAGCACGGGGTGGTGTTTCTCTCCAACACGAGGCCCGGGCGAATTAGTATTGATAATGCCTGGGCAGACAGCACTGGCCCGGCAGGAGATACTGGGCGATGGAAGACGTGGGTTAAGGCACGTCGGTTCTCTAGGTTTTCTATACTGGGCACGGAAGTTAGGGGCTAAAGAGCAACATACCTCTCCGCTGTCGGTCGATAGTGAGTCTTGCATAGCGATTGCTAAGAGCCTAGTTAAGCATACTCGTAACCGCGCCGCG',\n",
    "            'ATGCCTCCCGGTATCGCTGAGGCCCTAGCAAACGCACAGATCAACCAACTTGTGTCTAACGCCATGGGATCTGCCGCATTAGCTAACAATATTACGCCTATAACGCACGGCTTACCTTTCAAATGTGCTGACCAAGTGGCCTCGATACAATTAGGGACTACAGGGGATAGATGTGCAAGTTTGTTTCTATCAGCGCCGGTGATTCTACGACCGTGTAATCAGAGGGCAGCGAAGATGGATAAGGGGTTGACCAACATGCTCAGTAATGATCCAGGAGCCGGTTATGCCATGCGAATATGCATGTGCACAGTAGCCGGGAGAGCTTGTATTCGTATA',\n",
    "            'ATGACCCCACGCGGACCGTCAGGAGAAATCCTCTCACGGGATCCCGTCACTGTAACGCTCAGGGTCTTACGGCAACTCGAATGCTGTCGAAAATGTGGCAGTCAATCTCTATACCGGGGTCCGAGCTTTTTACATGTAATTTTGCAAGAATTCTTATATAGCACGATGAGACACGTACCCGATCACTTCGCCCAGCATACACTGATTAATACCGTCTATGTGATGTATTTACTTAAGACTCTCGCAACACCCGTGGCTTGGCGAAGTCTATCTGCACTAGTCGGGTCAGCCGTGCGGCGCGCACACACATCAAAGTGGCCGCAGTTGAGCGCAGTG']\n",
    "len(dna_seqs[0])\n",
    "#count how many there are "
   ]
  },
  {
   "cell_type": "code",
   "execution_count": 28,
   "id": "f4666e38-d592-45d4-8652-1fd5d9d1a074",
   "metadata": {},
   "outputs": [
    {
     "data": {
      "text/plain": [
       "array([[[1.11061759e-311, 1.11059555e-311, 1.11192579e-311, ...,\n",
       "         0.00000000e+000, 0.00000000e+000, 0.00000000e+000],\n",
       "        [0.00000000e+000, 0.00000000e+000, 0.00000000e+000, ...,\n",
       "         0.00000000e+000, 0.00000000e+000, 0.00000000e+000],\n",
       "        [0.00000000e+000, 0.00000000e+000, 0.00000000e+000, ...,\n",
       "         0.00000000e+000, 0.00000000e+000, 0.00000000e+000],\n",
       "        [0.00000000e+000, 0.00000000e+000, 0.00000000e+000, ...,\n",
       "         0.00000000e+000, 0.00000000e+000, 0.00000000e+000],\n",
       "        [0.00000000e+000, 0.00000000e+000, 0.00000000e+000, ...,\n",
       "         0.00000000e+000, 0.00000000e+000, 0.00000000e+000]],\n",
       "\n",
       "       [[0.00000000e+000, 0.00000000e+000, 0.00000000e+000, ...,\n",
       "         0.00000000e+000, 0.00000000e+000, 0.00000000e+000],\n",
       "        [0.00000000e+000, 0.00000000e+000, 0.00000000e+000, ...,\n",
       "         1.11058964e-311, 1.11058951e-311, 1.11058951e-311],\n",
       "        [1.11058951e-311, 1.11058964e-311, 1.11058951e-311, ...,\n",
       "         1.11059215e-311, 1.11059214e-311, 1.11059210e-311],\n",
       "        [1.11059183e-311, 1.11059210e-311, 1.11059211e-311, ...,\n",
       "         0.00000000e+000, 1.11060297e-311, 1.11060296e-311],\n",
       "        [1.11059157e-311, 1.11060291e-311, 1.11059113e-311, ...,\n",
       "         1.11060459e-311, 0.00000000e+000, 0.00000000e+000]],\n",
       "\n",
       "       [[1.11060463e-311, 1.11060459e-311, 0.00000000e+000, ...,\n",
       "         1.11060836e-311, 0.00000000e+000, 0.00000000e+000],\n",
       "        [1.11060832e-311, 1.11060837e-311, 1.11060724e-311, ...,\n",
       "         0.00000000e+000, 1.11061024e-311, 1.11061032e-311],\n",
       "        [0.00000000e+000, 0.00000000e+000, 1.11061030e-311, ...,\n",
       "         1.11061230e-311, 0.00000000e+000, 0.00000000e+000],\n",
       "        [1.11061230e-311, 1.11061245e-311, 1.11060694e-311, ...,\n",
       "         1.11061386e-311, 1.11061335e-311, 1.11061385e-311],\n",
       "        [1.11061375e-311, 1.11061373e-311, 0.00000000e+000, ...,\n",
       "         0.00000000e+000, 0.00000000e+000, 0.00000000e+000]],\n",
       "\n",
       "       [[0.00000000e+000, 0.00000000e+000, 0.00000000e+000, ...,\n",
       "         0.00000000e+000, 0.00000000e+000, 0.00000000e+000],\n",
       "        [0.00000000e+000, 0.00000000e+000, 0.00000000e+000, ...,\n",
       "         0.00000000e+000, 0.00000000e+000, 0.00000000e+000],\n",
       "        [0.00000000e+000, 0.00000000e+000, 0.00000000e+000, ...,\n",
       "         0.00000000e+000, 0.00000000e+000, 0.00000000e+000],\n",
       "        [0.00000000e+000, 0.00000000e+000, 0.00000000e+000, ...,\n",
       "         0.00000000e+000, 0.00000000e+000, 0.00000000e+000],\n",
       "        [0.00000000e+000, 0.00000000e+000, 0.00000000e+000, ...,\n",
       "         0.00000000e+000, 0.00000000e+000, 0.00000000e+000]],\n",
       "\n",
       "       [[0.00000000e+000, 0.00000000e+000, 0.00000000e+000, ...,\n",
       "         0.00000000e+000, 0.00000000e+000, 0.00000000e+000],\n",
       "        [0.00000000e+000, 0.00000000e+000, 0.00000000e+000, ...,\n",
       "         0.00000000e+000, 0.00000000e+000, 0.00000000e+000],\n",
       "        [0.00000000e+000, 0.00000000e+000, 0.00000000e+000, ...,\n",
       "         0.00000000e+000, 0.00000000e+000, 0.00000000e+000],\n",
       "        [0.00000000e+000, 0.00000000e+000, 0.00000000e+000, ...,\n",
       "         0.00000000e+000, 0.00000000e+000, 0.00000000e+000],\n",
       "        [0.00000000e+000, 0.00000000e+000, 0.00000000e+000, ...,\n",
       "         7.74860419e-304, 7.74860419e-304, 7.74860419e-304]]])"
      ]
     },
     "execution_count": 28,
     "metadata": {},
     "output_type": "execute_result"
    }
   ],
   "source": [
    "#creating a 5x5 array (this one is empty) \n",
    "dna_array = np.ndarray((5, 5, 336))\n",
    "dna_array"
   ]
  },
  {
   "cell_type": "code",
   "execution_count": 33,
   "id": "cfd074d9-e7e7-43c8-acf5-097287c96312",
   "metadata": {},
   "outputs": [
    {
     "data": {
      "text/plain": [
       "array([[[0., 0., 0., ..., 0., 0., 0.],\n",
       "        [0., 0., 0., ..., 0., 0., 0.],\n",
       "        [0., 0., 0., ..., 0., 0., 0.],\n",
       "        [0., 0., 0., ..., 0., 0., 0.],\n",
       "        [0., 0., 0., ..., 0., 0., 0.]],\n",
       "\n",
       "       [[0., 0., 0., ..., 0., 0., 0.],\n",
       "        [0., 0., 0., ..., 0., 0., 0.],\n",
       "        [0., 0., 0., ..., 0., 0., 0.],\n",
       "        [0., 0., 0., ..., 0., 0., 0.],\n",
       "        [0., 0., 0., ..., 0., 0., 0.]],\n",
       "\n",
       "       [[0., 0., 0., ..., 0., 0., 0.],\n",
       "        [0., 0., 0., ..., 0., 0., 0.],\n",
       "        [0., 0., 0., ..., 0., 0., 0.],\n",
       "        [0., 0., 0., ..., 0., 0., 0.],\n",
       "        [0., 0., 0., ..., 0., 0., 0.]],\n",
       "\n",
       "       [[0., 0., 0., ..., 0., 0., 0.],\n",
       "        [0., 0., 0., ..., 0., 0., 0.],\n",
       "        [0., 0., 0., ..., 0., 0., 0.],\n",
       "        [0., 0., 0., ..., 0., 0., 0.],\n",
       "        [0., 0., 0., ..., 0., 0., 0.]],\n",
       "\n",
       "       [[0., 0., 0., ..., 0., 0., 0.],\n",
       "        [0., 0., 0., ..., 0., 0., 0.],\n",
       "        [0., 0., 0., ..., 0., 0., 0.],\n",
       "        [0., 0., 0., ..., 0., 0., 0.],\n",
       "        [0., 0., 0., ..., 0., 0., 0.]]])"
      ]
     },
     "execution_count": 33,
     "metadata": {},
     "output_type": "execute_result"
    }
   ],
   "source": [
    "#start by like super emptying it lmao \n",
    "dna_array = np.zeros((5, 5, 336))\n",
    "dna_array"
   ]
  },
  {
   "cell_type": "code",
   "execution_count": 35,
   "id": "f96d0204-3721-43b9-90a8-4cf6ec77ad9e",
   "metadata": {},
   "outputs": [
    {
     "data": {
      "text/plain": [
       "(5, 5, 336)"
      ]
     },
     "execution_count": 35,
     "metadata": {},
     "output_type": "execute_result"
    }
   ],
   "source": [
    "#check shape with \n",
    "dna_array.shape "
   ]
  },
  {
   "cell_type": "code",
   "execution_count": 39,
   "id": "0a36d0c9-ea97-42b0-a050-202fdb06331a",
   "metadata": {},
   "outputs": [
    {
     "data": {
      "text/plain": [
       "array([1., 1., 1., 1., 1., 1., 1., 1., 1., 1., 1., 1., 1., 1., 1., 1., 1.,\n",
       "       1., 1., 1., 1., 1., 1., 1., 1., 1., 1., 1., 1., 1., 1., 1., 1., 1.,\n",
       "       1., 1., 1., 1., 1., 1., 1., 1., 1., 1., 1., 1., 1., 1., 1., 1., 1.,\n",
       "       1., 1., 1., 1., 1., 1., 1., 1., 1., 1., 1., 1., 1., 1., 1., 1., 1.,\n",
       "       1., 1., 1., 1., 1., 1., 1., 1., 1., 1., 1., 1., 1., 1., 1., 1., 1.,\n",
       "       1., 1., 1., 1., 1., 1., 1., 1., 1., 1., 1., 1., 1., 1., 1., 1., 1.,\n",
       "       1., 1., 1., 1., 1., 1., 1., 1., 1., 1., 1., 1., 1., 1., 1., 1., 1.,\n",
       "       1., 1., 1., 1., 1., 1., 1., 1., 1., 1., 1., 1., 1., 1., 1., 1., 1.,\n",
       "       1., 1., 1., 1., 1., 1., 1., 1., 1., 1., 1., 1., 1., 1., 1., 1., 1.,\n",
       "       1., 1., 1., 1., 1., 1., 1., 1., 1., 1., 1., 1., 1., 1., 1., 1., 1.,\n",
       "       1., 1., 1., 1., 1., 1., 1., 1., 1., 1., 1., 1., 1., 1., 1., 1., 1.,\n",
       "       1., 1., 1., 1., 1., 1., 1., 1., 1., 1., 1., 1., 1., 1., 1., 1., 1.,\n",
       "       1., 1., 1., 1., 1., 1., 1., 1., 1., 1., 1., 1., 1., 1., 1., 1., 1.,\n",
       "       1., 1., 1., 1., 1., 1., 1., 1., 1., 1., 1., 1., 1., 1., 1., 1., 1.,\n",
       "       1., 1., 1., 1., 1., 1., 1., 1., 1., 1., 1., 1., 1., 1., 1., 1., 1.,\n",
       "       1., 1., 1., 1., 1., 1., 1., 1., 1., 1., 1., 1., 1., 1., 1., 1., 1.,\n",
       "       1., 1., 1., 1., 1., 1., 1., 1., 1., 1., 1., 1., 1., 1., 1., 1., 1.,\n",
       "       1., 1., 1., 1., 1., 1., 1., 1., 1., 1., 1., 1., 1., 1., 1., 1., 1.,\n",
       "       1., 1., 1., 1., 1., 1., 1., 1., 1., 1., 1., 1., 1., 1., 1., 1., 1.,\n",
       "       1., 1., 1., 1., 1., 1., 1., 1., 1., 1., 1., 1., 1.])"
      ]
     },
     "execution_count": 39,
     "metadata": {},
     "output_type": "execute_result"
    }
   ],
   "source": [
    "for idx1 in range(len(dna_seqs)):\n",
    "    seq1 = dna_seqs[idx1]\n",
    "    for idx2 in range(len(dna_seqs)):\n",
    "        seq2 = dna_seqs[idx2]\n",
    "        for nt in range(len(seq1)):\n",
    "            if seq1[nt] == seq2[nt]:\n",
    "                dna_array[idx1, idx2, nt] = 1\n",
    "            else:\n",
    "                dna_array[idx1, idx2, nt] = 0\n",
    "\n",
    "dna_array[1, 1, :]"
   ]
  },
  {
   "cell_type": "code",
   "execution_count": 6,
   "id": "9d32ce36-72e6-406e-9667-9075b28c6657",
   "metadata": {},
   "outputs": [
    {
     "data": {
      "text/plain": [
       "{'humans': ['jane', 'jake', 'roxy', 'dirk'],\n",
       " 'patrons': ['gamzee', 'arenea', 'caliope', 'caliborn'],\n",
       " 'surnames': ['crocker', 'english', 'lalonde', 'strider']}"
      ]
     },
     "execution_count": 6,
     "metadata": {},
     "output_type": "execute_result"
    }
   ],
   "source": [
    "#data frames \n",
    "import pandas as pd\n",
    "silly_try"
   ]
  },
  {
   "cell_type": "code",
   "execution_count": 8,
   "id": "45d1a921-a52d-437b-a4c7-33e1bbbee1f2",
   "metadata": {},
   "outputs": [],
   "source": [
    "pb_df = pd.DataFrame(silly_try)"
   ]
  },
  {
   "cell_type": "code",
   "execution_count": 10,
   "id": "d7381724-8aa9-4fcf-9432-81af4e74c0ab",
   "metadata": {},
   "outputs": [
    {
     "data": {
      "text/plain": [
       "humans         jane\n",
       "patrons      gamzee\n",
       "surnames    crocker\n",
       "Name: 0, dtype: object"
      ]
     },
     "execution_count": 10,
     "metadata": {},
     "output_type": "execute_result"
    }
   ],
   "source": [
    "pb_df.iloc[0, :]"
   ]
  },
  {
   "cell_type": "code",
   "execution_count": 14,
   "id": "c29cbc80-e9ec-42d4-9862-854d8215c714",
   "metadata": {},
   "outputs": [
    {
     "data": {
      "text/plain": [
       "0    jane\n",
       "1    jake\n",
       "2    roxy\n",
       "3    dirk\n",
       "Name: humans, dtype: object"
      ]
     },
     "execution_count": 14,
     "metadata": {},
     "output_type": "execute_result"
    }
   ],
   "source": [
    "pb_df.iloc[:, 0]\n",
    "#first column"
   ]
  },
  {
   "cell_type": "code",
   "execution_count": 16,
   "id": "dde5c076-951c-4bbc-bde7-82eae12e5da5",
   "metadata": {},
   "outputs": [
    {
     "data": {
      "text/html": [
       "<div>\n",
       "<style scoped>\n",
       "    .dataframe tbody tr th:only-of-type {\n",
       "        vertical-align: middle;\n",
       "    }\n",
       "\n",
       "    .dataframe tbody tr th {\n",
       "        vertical-align: top;\n",
       "    }\n",
       "\n",
       "    .dataframe thead th {\n",
       "        text-align: right;\n",
       "    }\n",
       "</style>\n",
       "<table border=\"1\" class=\"dataframe\">\n",
       "  <thead>\n",
       "    <tr style=\"text-align: right;\">\n",
       "      <th></th>\n",
       "      <th>humans</th>\n",
       "      <th>patrons</th>\n",
       "      <th>surnames</th>\n",
       "    </tr>\n",
       "    <tr>\n",
       "      <th>humans</th>\n",
       "      <th></th>\n",
       "      <th></th>\n",
       "      <th></th>\n",
       "    </tr>\n",
       "  </thead>\n",
       "  <tbody>\n",
       "    <tr>\n",
       "      <th>jane</th>\n",
       "      <td>jane</td>\n",
       "      <td>gamzee</td>\n",
       "      <td>crocker</td>\n",
       "    </tr>\n",
       "    <tr>\n",
       "      <th>jake</th>\n",
       "      <td>jake</td>\n",
       "      <td>arenea</td>\n",
       "      <td>english</td>\n",
       "    </tr>\n",
       "    <tr>\n",
       "      <th>roxy</th>\n",
       "      <td>roxy</td>\n",
       "      <td>caliope</td>\n",
       "      <td>lalonde</td>\n",
       "    </tr>\n",
       "    <tr>\n",
       "      <th>dirk</th>\n",
       "      <td>dirk</td>\n",
       "      <td>caliborn</td>\n",
       "      <td>strider</td>\n",
       "    </tr>\n",
       "  </tbody>\n",
       "</table>\n",
       "</div>"
      ],
      "text/plain": [
       "       humans   patrons surnames\n",
       "humans                          \n",
       "jane     jane    gamzee  crocker\n",
       "jake     jake    arenea  english\n",
       "roxy     roxy   caliope  lalonde\n",
       "dirk     dirk  caliborn  strider"
      ]
     },
     "execution_count": 16,
     "metadata": {},
     "output_type": "execute_result"
    }
   ],
   "source": [
    "pb_df.set_index(\"humans\", inplace=True, drop=False)\n",
    "pb_df"
   ]
  },
  {
   "cell_type": "code",
   "execution_count": 18,
   "id": "ccda26ce-d88a-4375-961c-32fa4be327aa",
   "metadata": {},
   "outputs": [
    {
     "data": {
      "text/plain": [
       "<re.Match object; span=(37, 44), match='TATATAT'>"
      ]
     },
     "execution_count": 18,
     "metadata": {},
     "output_type": "execute_result"
    }
   ],
   "source": [
    "#more regex\n",
    "import re \n",
    "tata_re = re.compile(\"TATA[A|T]A[A|T]\")\n",
    "bact_seq = \"CACTTCAGGTTAAGCGGCGCGGCCTGCGCATTTTGGATATATATAATCCT\"\n",
    "tata_match = tata_re.search(bact_seq)\n",
    "tata_match"
   ]
  },
  {
   "cell_type": "code",
   "execution_count": 40,
   "id": "bc1f0b84-75bf-4ab9-ae9d-494cab8e11fd",
   "metadata": {},
   "outputs": [],
   "source": [
    "#REGEX TO FIND START AND STOP CODONS IN DNA \n",
    "import re \n",
    "#start codons are atg and stop codons are taa tag and tga \n",
    "def find_codons(sequence):\n",
    "    start_codons = [m.start() for m in re.finditer('ATG', sequence)]\n",
    "    stop_codons_taa = [m.start() for m in re.finditer('TAA', sequence)]\n",
    "    stop_codons_tag = [m.start() for m in re.finditer('TAG', sequence)]\n",
    "    stop_codons_tga = [m.start() for m in re.finditer('TGA', sequence)]\n",
    "\n",
    "    return {\n",
    "    'start_positions': start_codons,\n",
    "    'stop_positions': {\n",
    "        'TAA': stop_codons_taa,\n",
    "        'TAG': stop_codons_tag,\n",
    "        'TGA': stop_codons_tga\n",
    "    }\n",
    "    }"
   ]
  },
  {
   "cell_type": "code",
   "execution_count": 42,
   "id": "fbbe13a3-969f-4e13-a6fb-abf5d875e7ba",
   "metadata": {},
   "outputs": [
    {
     "name": "stdout",
     "output_type": "stream",
     "text": [
      "Start codons found at positions: [0, 15, 41, 202, 235, 306, 318]\n",
      "Stop codons found at positions: {'TAA': [107, 286], 'TAG': [64, 227, 251, 260], 'TGA': [13, 80, 203, 248, 280]}\n"
     ]
    }
   ],
   "source": [
    "sequence = dna_seqs[0]\n",
    "results = find_codons(sequence)\n",
    "\n",
    "print(f\"Start codons found at positions: {results['start_positions']}\")\n",
    "print(f\"Stop codons found at positions: {results['stop_positions']}\")"
   ]
  },
  {
   "cell_type": "code",
   "execution_count": 46,
   "id": "ab0c420f-b614-405d-948b-88cd617856a7",
   "metadata": {},
   "outputs": [
    {
     "name": "stdout",
     "output_type": "stream",
     "text": [
      "\n",
      "Sequence 1:\n",
      "AAA codons: 5\n",
      "AAG codons: 4\n",
      "Total lysine codons; 9\n",
      "\n",
      "Sequence 2:\n",
      "AAA codons: 1\n",
      "AAG codons: 8\n",
      "Total lysine codons; 9\n",
      "\n",
      "Sequence 3:\n",
      "AAA codons: 1\n",
      "AAG codons: 6\n",
      "Total lysine codons; 7\n",
      "\n",
      "Sequence 4:\n",
      "AAA codons: 2\n",
      "AAG codons: 4\n",
      "Total lysine codons; 6\n",
      "\n",
      "Sequence 5:\n",
      "AAA codons: 3\n",
      "AAG codons: 4\n",
      "Total lysine codons; 7\n"
     ]
    }
   ],
   "source": [
    "#hah\n",
    "#to find lysine codons aaa and aag in the dna sequences ;\n",
    "\n",
    "def count_lysine_codons(sequence):\n",
    "    aaa_codons = len(re.findall('AAA', sequence))\n",
    "    aag_codons = len(re.findall('AAG', sequence))\n",
    "\n",
    "    return{\n",
    "        'AAA': aaa_codons,\n",
    "        'AAG': aag_codons, \n",
    "        'total': aaa_codons + aag_codons\n",
    "\n",
    "    }\n",
    "\n",
    "for i, seq in enumerate(dna_seqs):\n",
    "    results = count_lysine_codons(seq)\n",
    "    print(f\"\\nSequence {i+1}:\")\n",
    "    print(f\"AAA codons: {results['AAA']}\")\n",
    "    print(f\"AAG codons: {results['AAG']}\")\n",
    "    print(f\"Total lysine codons; {results['total']}\")\n"
   ]
  },
  {
   "cell_type": "code",
   "execution_count": 54,
   "id": "a0ad2541-d1ca-4d37-8332-2d8802ea2a18",
   "metadata": {},
   "outputs": [],
   "source": [
    "#final exercise ws 2 \n",
    "#You have been provided with a file containing 10 cDNA sequences. For each one transcribe them into RNA then translate into peptide sequences - note that you will need to find the longest reading frame first. Think about what you know about where translation is started. I want you to use regular expressions to find all of the serine and threonine codons and count them. Note that some sequences may not contain any serine or threonine amino acids. \n",
    "#For each sequence store the data in a data frame, along with the GC percentage for each original DNA sequence.\n",
    "import re \n",
    "from collections import Counter\n",
    "\n",
    "def find_orfs(sequence):\n",
    "    #finding all possible start codons \n",
    "    start_positions = [m.start() for m in re.finditer('ATG', sequence)]\n",
    "    orfs = []\n",
    "\n",
    "    for start in start_positions: \n",
    "        #reading seq from the start pos\n",
    "        seq = sequence[start:]\n",
    "        #lookin for stop codons in frame \n",
    "        for i in range(0, len(seq)-2, 3):\n",
    "            codon = seq[i:i+3]\n",
    "            if codon in ['TAA', 'TAG', 'TGA']:\n",
    "                orf = seq[:i+3]\n",
    "                if len(orf) > 0:\n",
    "                    orfs.append(orf)\n",
    "                break\n",
    "\n",
    "    #return the longest orf if there is one \n",
    "    return max(orfs, key=len) if orfs else ''\n",
    "\n",
    "def transcribe(dna):\n",
    "    return dna.replace('T', 'U')\n",
    "\n",
    "def count_ser_thr(sequence):\n",
    "    #serine and threonine codons areeee\n",
    "    ser_codons = ['TCT', 'TCC', 'TCA', 'TCG', 'AGT', 'AGC']\n",
    "    thr_codons = ['ACT', 'ACC', 'ACA', 'ACG']\n",
    "\n",
    "    ser_count = 0 \n",
    "    thr_count = 0\n",
    "\n",
    "    #count the codons in the range \n",
    "    for i in range(0, len(sequence)-2, 3):\n",
    "        codon = sequence[i:i+3]\n",
    "        if codon in ser_codons:\n",
    "            ser_count +- 1\n",
    "        elif codon in thr_codons:\n",
    "            thr_count += 1\n",
    "\n",
    "    return ser_count, thr_count\n",
    "\n",
    "\n",
    "def gc_content(sequence):\n",
    "    gc = sequence.count('G') + sequence.count('C')\n",
    "    return (gc / len(sequence)) * 100\n",
    "\n",
    "#processing each sequence \n",
    "results = []\n",
    "for i, seq in enumerate(sequences):\n",
    "    orf = find_orfs(seq)\n",
    "    rna = transcribe(orf)\n",
    "    ser, thr = count_ser_thr(orf)\n",
    "    gc = gc_content(seq)\n",
    "\n",
    "    results.append({\n",
    "    'sequence_id': i+1,\n",
    "    'orf_length': len(orf),\n",
    "    'serine_count': ser,\n",
    "    'threonine_count': thr,\n",
    "    'gc_percent': round(gc, 2)\n",
    "    })"
   ]
  },
  {
   "cell_type": "code",
   "execution_count": 68,
   "id": "abaa5a90-84bc-4f53-9f00-ef0f05e48348",
   "metadata": {},
   "outputs": [],
   "source": [
    "sequences = [\n",
    "    \"CCTCCCGCGCGCGCGGCCGAGGCAGCGCGGAGCACCGAGCGCATCGATCGGCCTGCTCTGCGGCCGCCCGCCCGCCTGCCGGGCCCATCGCGCACTCCGGGCTCGATTCGGCAGGCGGCGGCCGCGGCGGCTGAGGCGGCAGCGCTGTGGCGGCGGCTGAGACGGCAGGGGAAGGCGGCGGCGGCTCGGCCCGGAGTCCCGCTCCCGCGCCATTTCGGACCCGGAGCGAGCGCGGCGCGGGCCTGAAGGCGGCGGCGGGAGCCTGAGGCGCGGCGGCTCCGCGGCGCGGAGAGAGGCCTGCTGAAAATGACTGAGTATAAACTTGTGGTGGTTGGAGCTGGTGGCGTAGGCAAGAGCGCCTTGACGATACAGCTAATTCAGAATCACTTTGTGGATGAGTATGACCCTACGATAGAGGACTCCTACAGGAAACAAGTAGTAATTGATGGAGAAACCTGTCTCTTGGATATTCTCGACACAGCAGGTCAAGAGGAGTACAGTGCAATGAGGGACCAGTACATGAGAACTGGGGAGGGCTTTCTTTGTGTATTTGCCATAAATAATACTAAATCATTTGAAGATATTCACCATTATAGAGAACAAATTAAAAGAGTAAAGGACTCTGAAGATGTGCCTATGGTCCTGGTAGGGAATAAGTGTGATTTGCCTTCTAGAACAGTAGACACGAAACAGGCTCAGGAGTTAGCAAGGAGTTACGGGATTCCGTTCATTGAGACCTCAGCAAAGACAAGACAGAGAGTGGAGGATGCTTTTTATACATTGGTGAGAGAGATCCGACAGTACAGATTGAAAAAAATCAGCAAAGAAGAAAAGACTCCTGGCTGTGTGAAAATTAAAAAATGCGTTATAATGGGTGTTGACGATGCCTTCTATACATTAGTCCGAGAAATTCGAAAACATAAAGAAAAGATGAGCAAAGATGGGAAGAAGAAGAAGAAGAAGTCAAGGACAAGGTGTACAGTTATGTGAATACTTTGTACTCTTTCTTAAGGCACACTTAAGTAAAAGTGTGATTTTTGTACATTACACTAAATTATTAGCATTTGTTTTAGCATTACCTAATCTTTTTTTTTCTTCTGTTCGTGCAAACTGTCAGCTTTTATCTCAAATGCTTATTTTAAAAGAACAGTGGAAACCTTCTTTTTTCTAAGTGCCAGTATTCCCTGGGTTTTGGACTTAAACTAGCAATGCCTGTGGAAGAGACTAAAGACCTGAGACTCTGTCTTGGGATTTGGTGCATGCAGTTGATTCCTTGCTAGTTCTCTTACCAACTGTGAACACTGATGGGAAGCAGGATAATGAAGCTTCCGGACCATCCCTGCTCTGTGTCCATCTACTCATCCAATGGAGTCATTAGCAGTCAATCGCCGCTTCACTGGACACTGAGGGGTCACAGACTTAGGCTCCCTTTGAGTCGCGTCCAGCGTGTCCTAGACTTTATCATCTTTCAGAGGCGTAGGCAGACTGTTCACAAAGGCTTTCTGTAGCTTTCCACTGCAATTAATCTTGGTCACTCCCTCAAATAGTATATTTTTTCTAGAAAAGGGGAAAAATGGAAAAAAAAAGGCAATGGAAAATGTTGAAATCCATTCAGTTTCCATGTTAGCTAAATTACTGTAAGATTCCTATAATAGCTTTTCCTGGTAAGGCAGACCCAGTATGAAATAGTAATAACCATTTGGGCTATATTTACATGCTACTAAATTTTTGTAATAATTCAAACAACTTTAGCATATATAAAAAGTTCTCATAAGAATTAAGTACAATTCCCCTTTGTCAGATTGTTCTTATCCTAACTTTCAAGTCTTTTTTGAATTTCTGTTGTTGAAAGTAGTTTTAATGGTTGTGAAGCTGAAGATGATCTGAGACAGTTATAGCTTGGCAGGTGTTGAGGAGACCAGAGTTGCAGGGTTGGGCCTTACGTGAACCTGTGACGAACGCTACTGGGTTTTGCAGCACTGCTGCATTCAATGTTGGCGACGCATTGTTTGGTCAACATAGGGGATAAGGAGACTTTGATGGCTTAGTATAATGCATTCTCACCATGTAACAGTCCTACTGACAAATCAAGAAATTTGTTTATAATAATAAAAAATTTTTAAAAATTTCGATGTTCGCTTCAAGGTTGAGATTTTGGGGTAGGAGGCTACAACAAGAGTAAATCTTAAAGCAAGGTTTTAAGAAGGTTTGAAAATGCAGGTTTGACTAGTCTCTCAACTCTAGCTAAACAAACATTCCCAAGTACTTCCCAAATCTGATAGGTATTTAAAATTATCTAATGCTTTAAGAATAGTTAACAGGAAAAAAATCTCCTCAGTGCACTTAAAGCAACCCTTCACATCATTTGAAATGAGATGGAAATATCACTGGACTATGAGGACTGGATGTCTGTCTGATTTTAAGCAAATCACTGTCTGCTTGGTTTTGAATCATCTCAAAGACATTAACCTCCCAGCCGTGTAACATAGTTTACATGTTGACACACCTAGTTATCAAGCTCAGCACAATCTGTAACTGTTTTACATGGATTAACATCTTCACTGCCAGTCTTGGGCAAATTGTGCAAGAGGTAAAATTTATATTTCAGTATCCATTCTCCCATTTCAGGACTCCCCTCCAACATTATGCTGGCTTTCAGCCTGTCTCTCACCTGCCCATCACTTAGTGTAGTTTTAATAATTTCCCCCACTTCAAACTTTGTTTCCACTATGGACAACTTCATGAACTTTGCCCACTAAGGTAGGTACATCAAAGCTGCCCTATGGCTTTCTTCCCCGGGACTGAAAATAACAGACACCATAGTGGGATTTAAACTAATAGATGGTTTTCAGGGCCACTACAACAATTCAATCTCAATCCTTTGGACTTCATTCCTGCTGCCCAGGCCACTGGTGCCTCAGTAGGAATTTTCAAAATTAGTGTGAACAGACAGAGCACAGTCCAGTGGAAGGTGAGCTTAATCTTCATCTAGCCATCATCATGGTAAGTGATAGATTCTATTGTTTTAATAAATACAGTCTAACAATGAAAAACACTTCGAAGTTTCAATCATAAAGCTGTCTTTTTAAAAATTTTATTTACTCAACATTTATTCAGTGCTTGTCATATTCTGGGAATTACACTAGGCACTCAGGGTGCGGTGTCCTCAATCCTTGGCCAGTGGTATGTAGCATGATCTGTAATACCACTAAATAAGGCATATAGCATATGACTTAGACATAATGAAATACATGATTTGAGTTTTGCAGAGAGGAGTTTGGGTTTGTACATTCCCTTCCCCCCCAGTTTAGCAAGAATTGTTTGCTGTGAATCCAATGCAACTTTTAAATCAAACTACTTTATATAATTATTTCATTTTTCTAAAGGAACAGAAGTACCCTAAACTATTTTTTTGAAATGTTCTAAACTGTACATATTCATAGAACATTCTTTGGGTGAATTTTAAGTCTTAAAATGCAATTAGTAATACTTCTCATTTCTATTCAGAGGAACAGGTGTACTTCAAAAGCTGCAGTGTATAATCAGATATTTTTAATGGACAATGTGTTAAAGAAGTGGTAATTACCACTATGTAAATTTGAATTGTGTTACACTTTGGTTAACAAAAGGGGAAAGAATCCTAGAAACAAATATGTTATCTAGTTACTGCAGCCTTAAAGTCCTTGTTGAAGTTAAAAAGCAATGCTAAGTTACAGTCATAGGCATTAACATGTTTATGGGAAGGATATAGTAGGCAAATACAATTTGAGTAAATATTTTCAGTAGGGAATTTTAGGCTCTACTGACTGAGTCACACTGCATAGGAATTTAGATCTTAACTTTTATAGGTTATCGACCTTTGCCACCATTGCACAATTTTGTCCTAACATAAATACAAGTTCTGTGAGGCATGTCAAAAGTTACAGTTTGCATAAATTCATCTCATTTTGTATTCCACTGATTTTACATTTTCCTCAAACATACATACATACATACATACAACACACACACACTCACACATGAAGGGTTTTTTTTTTGTAGGCAATAAAAATTTAACTAATTTCCATTTGTTAAAAAGTAGTGATTTATTGAGAATTATGCAGTCATTTTTTAAACCCAAAAGTTATTTAAAGGTGAATTTATACTCAATAACTTCTGTGTAATACTGGGTAGCATGAATTCTGCATTGAAAAATTGAACAGATAATACCAATAGCTGTAAATTCTGTCAAAACATGAAAATTATTTCTAAAGAAGTACATTAGTTTTCAAAGAACAGTTATTAGAATCAGATCTGTGGTTTAGTTCAATAATTTGAAGTGCCTGTTTGGGATGGTGGTAGGCATTTTAGATGAATTTGGGAAAAATAAAGTTCTGCAGAAATGCCAGTTTCAGACCCCGCTAACCCGCTGAGTGGGCTGTGTGCTGTGTTAGCTCCAGTGCCCCAATCCCGTTTCATGTCTTCATGTTGAAACACTTCTGCATTTTTATTTGAGTGCCAATTTCTTACTAGTGCTATTTCTTAGTGTAACATGTTTACCTGGGATGTATTTTAACTATTTTTGTATAGTGTAAACTGAAACATGCACATTTTGTACATTGTGCTTTCCTTCTTTCCATTCCTTTTCTTTCTGTTTTGTTTGTTTGTTTGTTTGTTTGTTTGTTATGGGACATATGCAGTGTGATCCAGTTGTTTTCCATCCTTTGGTTGCGCTGACCTAGGGAATGTTGGTCATATCAAACATTAAATTTAAAAGTGACCACTCTTAATTAAAATTAACTTTTAAATGTTTATAGGAGTACGTGCTGTGAAGTGATCTGAAATTTGTAATATTTTTGTCATGAACCGTACTGCTCCTAATCATTGTAATGTAATAAAAATAGTTATGGTGACTATGAA\",\n",
    "    \"GCCCGGCGCCCGCAGCCCGAGCCGCACCCGCCGCGGACGGAGCCCATGCGCGGGCCCAGTCGGCGCCCGTCCGCGCCCCCGCCCTGCCCCGGCCCCGGCCCCGGGGGCAGTCGCGCCAGCAAGCGGTGGGGCAGGAGCTCCTGGTTTGGCAGCCCCTGTAGAAGCGATGACAGAATACAAGCTTGTGGTGGTGGGCGCTGGAGGCGTGGGAAAGAGTGCCCTGACCATCCAGCTGATCCAGAACCATTTTGTGGACGAGTATGATCCCACTATAGAGGACTCCTACCGGAAACAGGTAGTCATTGATGGGGAGACGTGTTTACTGGACATCTTAGACACAGCAGGTCAAGAAGAGTATAGTGCCATGCGGGACCAGTACATGCGCACAGGGGAGGGCTTCCTCTGTGTATTTGCCATCAACAACACCAAGTCCTTTGAAGACATCCATCAGTACAGGGAGCAGATCAAGCGGGTGAAAGATTCAGATGATGTGCCAATGGTGCTGGTGGGCAACAAGTGTGACCTGGCCGCTCGCACTGTTGAGTCTCGGCAGGCCCAGGACCTTGCTCGCAGCTATGGCATCCCCTACATTGAAACATCAGCCAAGACCCGGCAGGGTGTGGAGGATGCCTTCTACACACTAGTACGTGAGATTCGGCAGCATAAACTGCGGAAACTGAACCCGCCTGATGAGAGTGGCCCTGGCTGCATGAGCTGCAAGTGTGTGCTGTCCTGACACCAGGCTCAGGACGAGGAGGTGCCGGATGCAGGGAGGAGGTGCTGTCGGAAGGAAGGAAAGAGGAGGGAAGGAAGGAAACGATGCTGGAGCCAGTCCAGTCCAGGGATGGTGGACAGATGTGACCAAGACCTTCGCATGGACAATTTGAACAGACTGTCATGAACTATCCCTGTTGCCACTGGCACCCAAGTCCTCCGCCCCTCTCAGCTCCCTTGGGCGCCTATGAGGGCACATGTTGAATCACAGTAAATTATTTGATGGTCTTGACTTGTCTCTGGCTGGAAGTAGGAGGTGTAGTGCCTGTGGCCTCACAGAAGATACTGGGGACCTGGGATCTATCATCTGCCTTGTTCCTGTTTCTAGAAGAGGCTGGGGAGGCTGGCCTGGGACCTGGGACTGTGCAGCCCTTCTCTTCTGCCTGCCTCAACTGTCTTGTGTTTCCTGCAGAAAGTTATAAATAACACAAGAATAGTCAGGTGATATGAAAAAAAAAAAAAAAAAAAAAAA\",\n",
    "    \"CCGGGGCGGGGACTCAGGCGCCTGGGGCGCCGACTGATTACGTAGCGGGCGGGGCCGGAAGTGCCGCTCCTTGGTGGGGGCTGTTCATGGCGGTTCCGGGGTCTCCAACATTTTTCCCGGCTGTGGTCCTAAATCTGTCCAAAGCAGAGGCAGTGGAGCTTGAGGTTCTTGCTGGTGTGAAATGACTGAGTACAAACTGGTGGTGGTTGGAGCAGGTGGTGTTGGGAAAAGCGCACTGACAATCCAGCTAATCCAGAACCACTTTGTAGATGAATATGATCCCACCATAGAGGATTCTTACAGAAAACAAGTGGTTATAGATGGTGAAACCTGTTTGTTGGACATACTGGATACAGCTGGACAAGAAGAGTACAGTGCCATGAGAGACCAATACATGAGGACAGGCGAAGGCTTCCTCTGTGTATTTGCCATCAATAATAGCAAGTCATTTGCAGATATTAACCTCTACAGGGAGCAGATTAAGCGAGTAAAAGACTCGGATGATGTACCTATGGTGCTAGTGGGAAACAAGTGTGATTTGCCAACAAGGACAGTTGATACAAAACAAGCCCACGAACTGGCCAAGAGTTACGGGATTCCATTCATTGAAACCTCAGCCAAGACCAGACAGGGTGTTGAAGATGCTTTTTACACACTGGTAAGAGAAATACGCCAGTACCGAATGAAAAAACTCAACAGCAGTGATGATGGGACTCAGGGTTGTATGGGATTGCCATGTGTGGTGATGTAACAAGATACTTTTAAAGTTTTGTCAGAAAAGAGCCACTTTCAAGCTGCACTGACACCCTGGTCCTGACTTCCCTGGAGGAGAAGTATTCCTGTTGCTATCTTCAGTCTCACAGAGAAGCTCCTGCTACTTCCCCAGCTCTCAGTAGTTTAGTACAATAATCTCTATTTGAGAAGTTCTCAGAATAACTACCTCCTCACTTGGCTGTCTGACCAGAGAATGCACCTCTTGTTACTCCCTGTTATTTTTCTGCCCTGGGTTCTTCCACAGCACAAACACACCTCTGCCACCCCAGGTTTTTCATCTGAAAAGCAGTTCATGTCTGAAACAGAGAACCAAACCGCAAACGTGAAATTCTATTGAAAATAGTGTCTTGAGCTCTAAAGTAGCAACTGCTGGTGATTTTTTTTTTCTTTTTACTGTTGAACTTAGAACTATGCTAATTTTTGGAGAAATGTCATAAATTACTGTTTTGCCAAGAATATAGTTATTATTGCTGTTTGGTTTGTTTATAATGTTATCGGCTCTATTCTCTAAACTGGCATCTGCTCTAGATTCATAAATACAAAAATGAATACTGAATTTTGAGTCTATCCTAGTCTTCACAACTTTGACGTAATTAAATCCAACTTTCACAGTGAAGTGCCTTTTTCCTAGAAGTGGTTTGTAGACTTCCTTTATAATATTTCAGTGGAATAGATGTCTCAAAAATCCTTATGCATGAAATGAATGTCTGAGATACGTCTGTGACTTATCTACCATTGAAGGAAAGCTATATCTATTTGAGAGCAGATGCCATTTTGTACATGTATGAAATTGGTTTTCCAGAAGCCTGTTTTGGGGCTTTCCCAGGAGAAAGATGAAACTGAAAGCATATGAATAATTTCACTTAATTTTTACCTAATCTCCACTTTTTTCATAGGTTACTGCCTATACAATGTATGTAATTTGTTTCCCCTAGCTTACTGATAAACCTAATATTCAATGAACTTCCATTTGTATTCAAATTTGTGTCATACCAGAAAGCTCTGCATTTGCAGATGTTCAAATATTGTAAAACTTTGGTGCATTGTTATTTAATAGCTGTGATCAGTGATTTTCAAACCTCAAATATAGTATATTAACAAATTACATTTTCACTGTATATCATGGTATCTTAATGATGTATATAATTGCCCTCAATCCCCTTCTCACCCCACCCTCTACAGCTTCCCCCACAGCAATAGGGGCTTGATTATTTCAGTTGAGTAAAGCATGGTGCTAATGGACCAGGGTCACAGTTTCAAAACTTGAACAATCCAGTTAGCATCACAGAGAAAGAAATTCTTCTGCATTTGCTCATTGCACCAGTAACTCCAGCTAGTAATTTTGCTAGGTAGCTGCAGTTAGCCCTGCAAGGAAAGAAGAGGTCAGTTAGCACAAACCCTTTACCATGACTGGAAAACTCAGTATCACGTATTTAAACATTTTTTTTTCTTTTAGCCATGTAGAAACTCTAAATTAAGCCAATATTCTCATTTGAGAATGAGGATGTCTCAGCTGAAAAACGTTTTAAATTCTTTTTATTCATAATGTTCTTTGAAGGGTTTAAAACAAGATGTTGATAAATCTAAGCTGATGAGTTTGCTCAAAACAGGAAGTTGAAATTGTTGAGACAGGAATGGAAAATATAATTAATTGATACCTATGAGGATTTGGAGGCTTGGCATTTTAATTTGCAGATAATACCCTGGTAATTCTCATGAAAAATAGACTTGGATAACTTTTGATAAAAGACTAATTCCAAAATGGCCACTTTGTTCCTGTCTTTAATATCTAAATACTTACTGAGGTCCTCCATCTTCTATATTATGAATTTTCATTTATTAAGCAAATGTCATATTACCTTGAAATTCAGAAGAGAAGAAACATATACTGTGTCCAGAGTATAATGAACCTGCAGAGTTGTGCTTCTTACTGCTAATTCTGGGAGCTTTCACAGTACTGTCATCATTTGTAAATGGAAATTCTGCTTTTCTGTTTCTGCTCCTTCTGGAGCAGTGTTACTCTGTAATTTTCCTGAGGCTTATCACCTCAGTCATTTTTTTTTAAATGTCTGTGATTGGCAGTGATTCTTTTTCTTAAAAATCTATTAAATTTGATGTCAAATTAGGGAGAAAGATAGTTACTCATCTTGGGCTCTTGTGCCAATAGCCCTTGTATGTATGTACTTAGAGTTTTCCAAGTATGTTCTAAGCACAGAAGTTTCTAAATGGGGCCAAAATTCAGACTTGAGTATGTTCTTTGAATACCTTAAGAAGTTACAATTAGCCGGGCATGGTGGCCCGTGCCTGTAGTCCCAGCTACTTGAGAGGCTGAGGCAGGAGAATCACTTCAACCCAGGAGGTGGAGGTTACAGTGAGCAGAGATCGTGCCACTGCACTCCAGCCTGGGTGACAAGAGAGACTTGTCTCCAAAAAAAAAGTTACACCTAGGTGTGAATTTTGGCACAAAGGAGTGACAAACTTATAGTTAAAAGCCGAATAACTTCAGTGTGGTATAAAACGTGGTTTTTAGGCTATGTTTGTGATTGCTGAAAAGAATTCTAGTTTACCTCAAAATCCTTCTCTTTCCCCAAATTAAGTGCCTGGCCAGCTCTCATAAATTACATATTCCTTTTGGTTTTTTTAAAGGTTACATGTTCAAGAGTGTGAAAATAAGATGTTCTGTCTGAAGGCTACCATGCCGGATCTGTAAATGAACCTGTTAAATGCTGTATTTGCTCCAACAGCTTACTATAGAATGTTACTTAATACAATATCATACTTATTACAATTTTTACTATAGGAGTGTAATAGGTAAAATCAATCTCTATTTTAGTGGGCCCATGTTTAGTCTTTCACCATCCTTTAAACTGCTGTGAATTTTTTTGTCATGACTTGAAAGCAAGGATAGAGAAACACTTTAGAGATATCTGGGTTTTTTAACCATTCCAGAACTTGTGAGCATAATCATATTTGCTTTATATTTATAGTCATGAACTCCTAAGCTGGCAGCTACAACCAAGAACCAAAAAATGGTGCGTTCTGCTTCTTGTAATTCATCTCTGCTAATAAATTATAAGAAGCGAGGAAAATTAGGGAAAATATTTTATTTGGATGGTTTCTATAAACAAGGGACTATAATTCTTGTACATTATTTTTCATCTTTGCTGTTTCTTTGAGCAGTCTAATGTGCCACACAATTATCTAAGGTATTTGTTTTCTATAAGAATTGTTTTAAAAGTATTCTTGTTACCAGAGTAGTTGTATTATATTTCAAAATGTAAGATGATTTTTTAAAGCCTGAGTACTGACCTAAGATGGAATTGTATGAACTCTGCTCTGGAGGGAGGGGAGGATGTCCGTGGAAGTTGTAAGACTTTTATTTTTTTGTGCCATCAAATATAGGTAAAAATAATTGTGCAATTCTGCTGTTTAAACAGGAACTATTGGCCTCCTTGGCCCTAAATGGAAGGGCCGATATTTTAAGTTGATTATTTTATTGTAAATTAATCCAACCTAGTTCTTTTTAATTTGGTTGAATGTTTTTCTTGTTAAATGATGTTTAAAAAATAAAAACTGGAAGTTCTTGGCTTAGTCATAA\",\n",
    "    \"CGGCTGGGGAAGGCGGTGGCGGCGGCTGCTCGGCCCGGAGTCCCGCTCCCGCGCCATTTCGGACCCGGAGCGAGCGCGGCGCCGGCCTGAAGGCGGCGGCGGGAGCCTGAGGCGCGGCGGCTCCGCGGAGCGGAGAGAGGCCTGCTGAAAATGACTGAGTATAAACTTGTGGTAGTTGGAGCTGGTGGCGTAGGCAAGAGTGCCTTGACGATACAGCTAATTCAGAATCACTTTGTGGATGAATATGATCCTACGATAGAGGACTCCTACAGGAAACAAGTAGTAATTGATGGAGAAACCTGTCTCTTGGATATTCTCGACACAGCAGGTCAAGAGGAGTACAGTGCAATGAGGGACCAGTACATGAGAACTGGGGAGGGCTTTCTTTGTGTATTTGCCATAAATAATACTAAATCATTTGAAGATATTCACCATTATAGAGAACAAATTAAAAGAGTAAAGGACTCTGAAGATGTGCCTATGGTCCTAGTAGGGAATAAGTGTGACTTGCCTTCTAGAACAGTAGACACGAAACAGGCTCAGGAGTTAGCAAGGAGTTATGGGATTCCATTCATTGAGACCTCAGCGAAGACAAGACAGAGAGTGGAGGATGCTTTTTATACATTGGTGAGAGAGATCCGACAGTACAGATTGAAAAAAATCAGCAAAGAAGAAAAGACTCCTGGCTGTGTGAAAATTAAAAAATGCGTTATAATGTAATCTGGGTGTTGACGATGCCTTCTATACATTAGTCCGAGAAATTCGAAAACATAAAGAAAAGATGAGCAAAGATGGGAAAAAGAAGAAGAAGAAGTCAAGGACAAGGTGTATAGTCATGTGAATAGTTTGTACTCTTTCTTAA\",\n",
    "    \"GCAGCCCGAGCCGCACCCGCCGCGGACGGAGCTCATGCGCGGGCCCAGCCGGCGCCCGTCCGCGCCCCCGCCCTGCCCCGGCCCCGGCCCCGGCCCCGGGGGCAGTCGCGCCAGCAAGCGGTGGGGCAGGAGCTCCTGGATTGGCAGCCGCTGTAGAAGCTATGACAGAATACAAGCTTGTGGTGGTGGGCGCTGGAGGCGTGGGAAAGAGTGCCCTGACCATCCAGCTGATCCAGAACCACTTTGTGGACGAGTATGATCCCACTATAGAGGACTCCTACCGGAAACAGGTGGTCATTGATGGGGAGACATGTCTACTGGACATCTTAGACACAGCAGGTCAAGAAGAGTATAGTGCCATGCGGGACCAGTACATGCGCACAGGGGAGGGCTTCCTCTGTGTATTTGCCATCAACAACACCAAGTCCTTCGAGGACATCCATCAGTACAGGGAGCAGATCAAGCGGGTGAAAGATTCAGATGATGTGCCAATGGTGCTGGTGGGCAACAAGTGTGACCTGGCTGCTCGCACTGTTGAGTCTCGGCAGGCCCAGGACCTTGCTCGCAGCTATGGCATCCCCTACATTGAAACATCAGCCAAGACCCGGCAGGGCGTGGAGGATGCCTTCTATACACTAGTCCGTGAGATTCGGCAGCATAAATTGCGGAAACTGAACCCACCCGATGAGAGTGGTCCTGGCTGCATGAGCTGCAAATGTGTGCTGTCCTGACACCAGGCTCAGGACATGGAGGTGCCGGATGCAGGGAGGAGGTGCCGACGGAAGGAAGGAAAGAGGCGGGAAGGAAGGAAACGGTGCTGGAGCCAGGCCAGTCCAGGGATGGTGGACAGATGTGACCAAGACCTTCGCATGGACAATTTGAACAGACTGTCATGAACTGTCCCTGTTGCCACTGGCACCCAAGTCCTCCACCCCTCTCAGTTCCCTCCGGGCGCCTGCCTGTGAGGGCACACGTTGCATCACAGTAAATTATTTGATGGTCTTGA\",\n",
    "    \"CCGCCGCGGACGGGACCCATGCGTCGGGCGAGCCCTGCGCCCCGGCCCCGGCCCCTGCCGCCGCCCCCGCTCCGGCCCCGGCCCGGGGGGCAGTCGAGCCAGTGAGCGGTGGGACCGGCGACCACTGCAGCGCCTCGTGCTGCGGTCTCTTGAGGAGCAATGACGGAGTATAAGCTCGTGGTGGTGGGCGCCGGTGGCGTGGGGAAGAGCGCCCTGACTATCCAGCTCATTCAGAATCACTTCGTGGACGAGTACGACCCCACCATCGAGGACTCCTACCGGAAGCAAGTGGTCATCGATGGGGAGACGTGCCTGCTGGACATCCTGGACACAGCGGGCCAGGAGGAATACAGCGCCATGCGAGACCAGTACATGCGCACCGGGGAGGGCTTTCTCTGCGTGTTTGCTATCAACCACGTCAAGTCCTTGAGGACATCCACCAGTACCGGGAGCAGATCAAGCGGGTGAAGGACTCGGATGACGTGCCCATGGTGTTGGTTGGGAACAAGTGCGACCTGGCCGCGCGCACCGTGGAGTCTCGGCAGGCCCAGGACCTCGCCCGCAGCTACGGCATCCCGTACATCGAGACCTCCGCCAAGACCCGCCAGGGCGTGGAGGATGCTTTCTACACCCTGGTGCGCGAGATCCGGCAGCACAAGGTGCGCAAGCTGAGCCCGCCGGACGAGGGCGGCCCCGGCTGCCTGAGCTGCAGGTGCCTGCTCTCCTGACGGCAGCGTGGGCGCGGAGCGCTGGGTGCCATGCAGGAGGCGGCGCAGCAGGGGTGGAGGGAGGTGCCGCCAGAGCCCAGCCCCCCAGGCCAGTGGGCAGTGCCCGCGGGCCTCCCGGGACGCTTCGCACAGACTCTGGTGAACTGATGCTGCTGGCCCCCAGCCTCGCTCTCCTCCAGCCCTGTCCTGGCCCAGCGGGCGCAGGCCGAGTCGCAGTAAATTATTTCATGGTCTTGAAAAAAAAAAAAA\",\n",
    "    \"GGGCCCGGCAGAGTCTTCGCCGCCCGCAGCCCGAGCCGCACCCGCCGCGGACGGAGCCCATGCGCGGGGCGAGTCGCGCGTCCCCGCCCCCGCCCCGCCCCGCCCCGGCCCCGGCCCCGGCCCCGGGGGCAGTCGCGCCAGTGAGCGGTGGGGCAGGAGACCCTGCAGCACCCCGGGCTGCAGGCCCTGAGGAGCGATGACAGAATATAAGCTCGTGGTGGTGGGCGCCGGTGGCGTGGGAAAGAGTGCCCTGACCATCCAGCTGATCCAGAACCACTTCGTGGATGAATATGACCCCACGATAGAGGACTCCTACCGGAAGCAGGTGGTCATTGATGGGGAGACATGCCTGCTGGACATCCTGGACACGGCCGGCCAGGAGGAGTACAGCGCCATGCGGGACCAGTACATGCGCACTGGGGAGGGCTTCCTGTGTGTCTTCGCCATCAACAACACCAAGTCCTTCGAGGACATCCACCAGTACAGGGAGCAGATCAAGCGGGTGAAGGACTCAGACGACGTGCCCATGGTGCTGGTGGGGAACAAGTGTGACCTGGCTGCACGCACCGTGGAGTCTCGGCAGGCTCAGGACCTCGCCCGAAGCTATGGCATCCCCTACATCGAGACCTCGGCCAAAACGCGGCAGGGAGTGGAGGATGCTTTTTACACGCTGGTGCGTGAGATTCGGCAGCACAAGCTGCGGAAGCTGAACCCTCCCGACGAGAGTGGCCCCGGCTGCATGAGCTGCAAGTGTGTGCTCTCCTGACACAGCACAGGCTTCAGGACATGGAGGTGCCGGATGCAGGGAGGAGGTGCAGACGGAAGGAGGAGGAGGAAGGAAGGAAGGAAGGAAGGAAGGGCTGCTGGAGCCCAGCCACCCAGGGACCGTGGGCCGAGGTGACCGCAGACCCTCCAAGGGACGCTTTGCGCAGACTGTCTTGAGCATCCCTAATGCCATGGGAACCGCAGCCCTTAGCTCCCCTCCCAGGCCTCTGTGGGCCCTTGTTGGGTGCAGATGGGAACACAGTAAATTATTGGATGGTCTTGA\",\n",
    "    \"CTAGGCGGCGGCCGCGGCGGCGGAGGCAGCAGCGGCGGCGGCAGTGGCGGCGGCGAAGGTGGCGGCGGCTCGGCCAGTACTCCCGGCCCCCGCCATTTCGGACTGGGAGCGAGCGCGGCGCAGGCACTGAAGGCGGCGGCGGGGCCAGAGGCTCAGCGGCTCCCAGGCCTGCTGAAAATGACTGAATATAAACTTGTGGTAGTTGGAGCTGGTGGCGTAGGCAAGAGTGCCTTGACGATACAGCTAATTCAGAATCATTTTGTGGACGAATATGATCCAACAATAGAGGATTCCTACAGGAAGCAAGTAGTAATTGATGGAGAAACCTGTCTCTTGGATATTCTCGACACAGCAGGTCAAGAGGAGTACAGTGCAATGAGGGACCAGTACATGAGGACTGGGGAGGGCTTTCTTTGTGTATTTGCCATAAATAATACTAAATCATTTGAAGATATTCACCATTATAGAGAACAAATTAAAAGAGTTAAGGACTCTGAAGATGTACCTATGGTCCTAGTAGGAAATAAATGTGATTTGCCTTCTAGAACAGTAGACACAAAACAGGCTCAGGACTTAGCAAGAAGTTATGGAATTCCTTTTATTGAAACATCAGCAAAGACAAGACAGAGAGTGGAGGATGCTTTTTATACATTGGTGAGAGAGATCCGACAATACAGATTGAAAAAAATCAGCAAAGAAGAAAAGACTCCTGGCTGTGTGAAAATTAAAAAATGCATTATAATGTAATCTGGGTGTTGATGATGCCTTCTATACATTAGTTCGAGAAATTCGAAAACATAAAGAAAAGATGAGCAAAGATGGTAAAAAGAAGAAAAAGAAGTCAAAGACAAAGTGTGTAATTATGTAAATACAATTTGTACTTTTTTCTTAAGGCATACTAGTACAAGTGGTAATTTTTGTACATTACACTAAATTATTAGCATTTGTTTTAGCATTACCTAATTTTTTTCCTGCTCCATGCAGACTGTTAGCTTTTACCTTAAATGCTTATTTTAAAATGACAGTGGAAGTTTTTTTTTCCTCTAAGTGCCAGTATTCCCAGAGTTTTGGTTTTTGAACTAGCAATGCCTGTGAAAAAGAAACTGAATACCTAAGATTTCTGTCTTGGGGCTTTTGGTGCATGCAGTTGATTACTTCTTATTTTTCTTACCAATTGTGAATGTTGGTGTGAAACAAATTAATGAAGCTTTTGAATCATCCCTATTCTGTGTTTTATCTAGTCACATAAATGGATTAATTACTAATTTCAGTTGAGACCTTCTAATTGGTTTTTACTGAAACATTGAGGGAACACAAATTTATGGGCTTCCTGATGATGATTCTTCTAGGCATCATGTCCTATAGTTTGTCATCCCTGATGAATGTAAAGTTACACTGTTCACAAAGGTTTTGTCTCCTTTCCACTGCTATTAGTCATGGTCACTCTCCCCAAAATATTATATTTTTTCTATAAAAAGAAAAAAATGGAAAAAAATTACAAGGCAATGGAAACTATTATAAGGCCATTTCCTTTTCACATTAGATAAATTACTATAAAGACTCCTAATAGCTTTTCCTGTTAAGGCAGACCCAGTATGAAATGGGGATTATTATAGCAACCATTTTGGGGCTATATTTACATGCTACTAAATTTTTATAATAATTGAAAAGATTTTAACAAGTATAAAAAATTCTCATAGGAATTAAATGTAGTCTCCCTGTGTCAGACTGCTCTTTCATAGTATAACTTTAAATCTTTTCTTCAACTTGAGTCTTTGAAGATAGTTTTAATTCTGCTTGTGACATTAAAAGATTATTTGGGCCAGTTATAGCTTATTAGGTGTTGAAGAGACCAAGGTTGCAAGGCCAGGCCCTGTGTGAACCTTTGAGCTTTCATAGAGAGTTTCACAGCATGGACTGTGTCCCCACGGTCATCCAGTGTTGTCATGCATTGGTTAGTCAAAATGGGGAGGGACTAGGGCAGTTTGGATAGCTCAACAAGATACAATCTCACTCTGTGGTGGTCCTGCTGACAAATCAAGAGCATTGCTTTTGTTTCTTAAGAAAACAAACTCTTTTTTAAAAATTACTTTTAAATATTAACTCAAAAGTTGAGATTTTGGGGTGGTGGTGTGCCAAGACATTAATTTTTTTTTTAAACAATGAAGTGAAAAAGTTTTACAATCTCTAGGTTTGGCTAGTTCTCTTAACACTGGTTAAATTAACATTGCATAAACACTTTTCAAGTCTGATCCATATTTAATAATGCTTTAAAATAAAAATAAAAACAATCCTTTTGATAAATTTAAAATGTTACTTATTTTAAAATAAATGAAGTGAGATGGCATGGTGAGGTGAAAGTATCACTGGACTAGGAAGAAGGTGACTTAGGTTCTAGATAGGTGTCTTTTAGGACTCTGATTTTGAGGACATCACTTACTATCCATTTCTTCATGTTAAAAGAAGTCATCTCAAACTCTTAGTTTTTTTTTTTTACAACTATGTAATTTATATTCCATTTACATAAGGATACACTTATTTGTCAAGCTCAGCACAATCTGTAAATTTTTAACCTATGTTACACCATCTTCAGTGCCAGTCTTGGGCAAAATTGTGCAAGAGGTGAAGTTTATATTTGAATATCCATTCTCGTTTTAGGACTCTTCTTCCATATTAGTGTCATCTTGCCTCCCTACCTTCCACATGCCCCATGACTTGATGCAGTTTTAATACTTGTAATTCCCCTAACCATAAGATTTACTGCTGCTGTGGATATCTCCATGAAGTTTTCCCACTGAGTCACATCAGAAATGCCCTACATCTTATTTCCTCAGGGCTCAAGAGAATCTGACAGATACCATAAAGGGATTTGACCTAATCACTAATTTTCAGGTGGTGGCTGATGCTTTGAACATCTCTTTGCTGCCCAATCCATTAGCGACAGTAGGATTTTTCAAACCTGGTATGAATAGACAGAACCCTATCCAGTGGAAGGAGAATTTAATAAAGATAGTGCTGAAAGAATTCCTTAGGTAATCTATAACTAGGACTACTCCTGGTAACAGTAATACATTCCATTGTTTTAGTAACCAGAAATCTTCATGCAATGAAAAATACTTTAATTCATGAAGCTTACTTTTTTTTTTTGGTGTCAGAGTCTCGCTCTTGTCACCCAGGCTGGAATGCAGTGGCGCCATCTCAGCTCACTGCAACCTCCATCTCCCAGGTTCAAGCGATTCTCGTGCCTCGGCCTCCTGAGTAGCTGGGATTACAGGCGTGTGCCACTACACTCAACTAATTTTTGTATTTTTAGGAGAGACGGGGTTTCACCCTGTTGGCCAGGCTGGTCTCGAACTCCTGACCTCAAGTGATTCACCCACCTTGGCCTCATAAACCTGTTTTGCAGAACTCATTTATTCAGCAAATATTTATTGAGTGCCTACCAGATGCCAGTCACCACACAAGGCACTGGGTATATGGTATCCCCAAACAAGAGACATAATCCCGGTCCTTAGGTAGTGCTAGTGTGGTCTGTAATATCTTACTAAGGCCTTTGGTATACGACCCAGAGATAACACGATGCGTATTTTAGTTTTGCAAAGAAGGGGTTTGGTCTCTGTGCCAGCTCTATAATTGTTTTGCTACGATTCCACTGAAACTCTTCGATCAAGCTACTTTATGTAAATCACTTCATTGTTTTAAAGGAATAAACTTGATTATATTGTTTTTTTATTTGGCATAACTGTGATTCTTTTAGGACAATTACTGTACACATTAAGGTGTATGTCAGATATTCATATTGACCCAAATGTGTAATATTCCAGTTTTCTCTGCATAAGTAATTAAAATATACTTAAAAATTAATAGTTTTATCTGGGTACAAATAAACAGGTGCCTGAACTAGTTCACAGACAAGGAAACTTCTATGTAAAAATCACTATGATTTCTGAATTGCTATGTGAAACTACAGATCTTTGGAACACTGTTTAGGTAGGGTGTTAAGACTTACACAGTACCTCGTTTCTACACAGAGAAAGAAATGGCCATACTTCAGGAACTGCAGTGCTTATGAGGGGATATTTAGGCCTCTTGAATTTTTGATGTAGATGGGCATTTTTTTAAGGTAGTGGTTAATTACCTTTATGTGAACTTTGAATGGTTTAACAAAAGATTTGTTTTTGTAGAGATTTTAAAGGGGGAGAATTCTAGAAATAAATGTTACCTAATTATTACAGCCTTAAAGACAAAAATCCTTGTTGAAGTTTTTTTAAAAAAAGCTAAATTACATAGACTTAGGCATTAACATGTTTGTGGAAGAATATAGCAGACGTATATTGTATCATTTGAGTGAATGTTCCCAAGTAGGCATTCTAGGCTCTATTTAACTGAGTCACACTGCATAGGAATTTAGAACCTAACTTTTATAGGTTATCAAAACTGTTGTCACCATTGCACAATTTTGTCCTAATATATACATAGAAACTTTGTGGGGCATGTTAAGTTACAGTTTGCACAAGTTCATCTCATTTGTATTCCATTGATTTTTTTTTTCTTCTAAACATTTTTTCTTCAAACAGTATATAACTTTTTTTAGGGGATTTTTTTTTAGACAGCAAAAACTATCTGAAGATTTCCATTTGTCAAAAAGTAATGATTTCTTGATAATTGTGTAGTAATGTTTTTTAGAACCCAGCAGTTACCTTAAAGCTGAATTTATATTTAGTAACTTCTGTGTTAATACTGGATAGCATGAATTCTGCATTGAGAAACTGAATAGCTGTCATAAAATGAAACTTTCTTTCTAAAGAAAGATACTCACATGAGTTCTTGAAGAATAGTCATAACTAGATTAAGATCTGTGTTTTAGTTTAATAGTTTGAAGTGCCTGTTTGGGATAATGATAGGTAATTTAGATGAATTTAGGGGAAAAAAAAGTTATCTGCAGATATGTTGAGGGCCCATCTCTCCCCCCACACCCCCACAGAGCTAACTGGGTTACAGTGTTTTATCCGAAAGTTTCCAATTCCACTGTCTTGTGTTTTCATGTTGAAAATACTTTTGCATTTTTCCTTTGAGTGCCAATTTCTTACTAGTACTATTTCTTAATGTAACATGTTTACCTGGAATGTATTTTAACTATTTTTGTATAGTGTAAACTGAAACATGCACATTTTGTACATTGTGCTTTCTTTTGTGGGACATATGCAGTGTGATCCAGTTGTTTTCCATCATTTGGTTGCGCTGACCTAGGAATGTTGGTCATATCAAACATTAAAAATGACCACTCTTTTAATTGAAATTAACTTTTAAATGTTTATAGGAGTATGTGCTGTGAAGTGATCTAAAATTTGTAATATTTTTGTCATGAACTGTACTACTCCTAATTATTGTAATGTAATAAAAATAGTTACAGTGAC\",\n",
    "    \"GCGCGGGGCGGCGGCGGCGGCGGCGGGGCCGGGCCGGGCCCGGCGAGGCCGCGGGGCCATGACCGAGTACAAGCTGGTGGTGGTGGGCGCCGGCGGCGTGGGCAAGAGCGCGCTGACCATCCAGCTCATCCAGAACCACTTCGTGGACGAGTACGACCCCACCATCGAGGACTCGTACCGCAAGCAGGTGGTGATCGATGGCGAGACGTGCCTGCTGGACATCCTGGACACGGCGGGGCAGGAGGAGTACAGCGCCATGAGGGACCAGTACATGAGGACAGGGGAGGGCTTCCTCTGCGTCTTCGCCATCAACAACAGCAAATCCTTCGCCGACATCAACCTCTACAGAGAACAGATCAAGAGAGTGAAGGACTCGGATGACGTGCCCATGGTGCTGGTGGGGAACAAGTGTGATCTGCCCACGAGAACAGTGGACACAAAACAGGCCCAAGAATTGGCAAAAAGCTACGGAATCCCCTTCATAGAGACCTCTGCAAAAACGAGACAGGGTGTGGAAGATGCTTTTTACACCCTGGTGAGGGAGATCCGGCAGTACCGGATGAAGAAGCTCAACAGCAGCGAGGATGGGAACCAGGGCTGCATGGGACTGTCCTGCCTTGTCATGTGAGAAGATGCCAAGAAAACGTGGTTCAGGTGCAGCTGCTGGACGAGCCTCGATCTCCTGTGCTGCCTCTCCTGCTGATCCTTGCAGTGTTGGGGTGCAGGGACAGACTCTGGGCACCAGAGTTAATTAGCACAAGGTTCTTCTCCGTGCTCCATCTGAAGAGAACATCCATGGCATCTACCTCCCTGCTCAGCTCACGGAGCAGCAGCACCTCGGGATGTGCTGGGATTCTTCTCTCACTGTTACCTGGGTTTGTTCCAGAAGAAAACCAGTCACAAAAGTGAACTATAGAGACTAAATGCTGTGAAAAAGATGACACTTTACCTCTAGAGTAAAAGCTAGAAGTGCTGTGTGTCCCCTGTCTGTTGGATTCCGTGCAGTGCTGTCAGAGGAGTGGCACAGTTGGTGTCACACGGGGTTGTGCCACCAGGAGTGCCCCTGTCCCCTCCCAGCTGGGTGTCTGCTCTCTGTGCACCTGAACAGCAGCAGTGCAACATCTCCAGTGCCAGGAGTGCCACCTGCCCGACCCTCCATTTCTGTAATAAAAAGGAAAGCCTTTTCTAACTAAGTGCCTGTTTGCTAAGAAGATTTGAAGTTGTCCCTTGGGTTGAGGAAAACCCCAAGGACTGGAATTTCTTGGGAGCTCATTATGTCAAGCAGGCAAGTGTGCTGTGGGTGATCTGGGCCTGCCAGGATCCTCCAGCAGGAATTTGGAGGCTGGAAGGTCCAGCAGGCACTTGTGAGACTCTGGGACAAGGGAGGGGACACACTGCATCTGTGTTTTACTTTCTTTGTGGGTGGAACAGTTTATACTCTGTATTGTTTTCCTGCAGCATTCAGATCTCTTCCAAGTTGGACCAAACCTGTCAGCTGTTCGTTTTTAACATGAACTGCCAGCATTTCTGGGCAGCTTCTCACTAATTAATCTGGTAACTGGAGGTTGCTTTGGACAGCTGCTATTCAGCTCTCTCTGTAACTTGCAGATTGTTTTATTCTGAATTATTTTCTTACCACAGACTGTAAAGAGTCTCTTCAAGATGTCTCTAGACTGTCAAATATAGTTGGAATTTCCTTGTCAGGGAAGGAGTGGGGGTGTTGGGGTTGACTCTGTCAGGGGTGCAGAAAGTGGCTGCTCCATCCCTGGCAGCGCCCAGGGCCAGGTCGGGCAGGTTTGGGGCAGCCTGGGACAGTGGGAGGTGTCCCTGCATGGCAGGGCTGGGACGGGATGAGCTTTAAGGTCCTTTCCAACCCAAACCATCCTGGGATTCTGTGATGGAGGGGAAAAGGCTGAGAGCTGCCACAGGCACCTGAGCCAGCTTCTGATTGCAGGGTCCTCAAAAAATGAGGCAGGAAATGAGTTCAGTGATGGCTCCACAGAAGGTTTGGGACAGACTGGTGGAATTCTGAGCGAGGAAACTGTGAGCCATTCCCTCCAGCTGAGGGAACTGAGAGCTGAGCCAGTTCCTCCCAGAACAAAACCTCCTCCCCTGGTGCACAGGTGTGGTCACTGCTGCAAAGGCTCCAGTGCCCTGGGTGCTGTGTCCTCCCCTCTCCTTGTGCTGCTGGGGCTGCTCAGGCTGCAGAGCTGAACTCCCAGCGAGGAGGAGGAGGAGGAGGAGGAGGAGGAAGGAGCCCTCAGCCAACAGAGGGAGCATTTGGTCAGTGCCAGGCCCGAGGAGCAGGGCAGTGCAGGAGGCTCAGTTTCAGGCTGTTGGTGTCAGTCACACATCTTCATTTGGAAGGCTCGATTTCAAATGGGCACTGGAAATCAGTAAACAGAGAGAGAAGAATTTTTTCCTTTTAATGTTGCTTACTTAACAGTCTTAATTCTCTTCTTGAAATGAAGAGGATCAAACTGCATCACATTTTCTTTATCTGTGATAATCCTTATAAATACTTTTTTCAATTTATTTTAACTTTGACTGACGTGACTGATAAGAATTAAATCCACAAAAAATTTAACATAAAATATTATTTTCCAGCACCATACACACAATGGTGGGCAGAATTGTGGGGACCATTGGCTCGAGTTTGATGTTGCCCAGAGCAGCTGTGGCTGCCCCACTTCTGAAAGTGTCCAAGGCCAGGATGGAGCAACCTGGGACAGTGGAAGGTGTCCCTGCCCATGGGATGAGCTTTAAGGTCCCTTCCAGCCCAAACCATTCCACGACTGATGTCATGCTGCAGGTTAAACCTGACAGAGCTGCCACCACTGCACAGCCAGGGCTGAGAAAGCTTTGCCAGGAGGATTTTCTGAAAACACCCCTGGGAAATGAGAAAAGTGCACCCCTGGTCAGGTAGATCCAGCAGGAAGGGGCAGTGTGGAGTTGTGAGGACACTGAATGGTGACATTCTGTCACCCAGGCCCATGGATGGGGTTTGATTTCTTGGGAAATGCAGGAAATTGTTTCCTGTATTTGTGAGACATGGGAAGCCTCTGGCATTTGATGTTTGAAGGGTGTCTGGTCAACCTGGAGAATTATTTGGGTGGAGGTTCATCATAGCTACGCTCCACATTCCCCAGCATGCTCTGGTTGCCATGAAAATGTACCAGCTGAAGCTCCAAAAGCTGGGAATTCTCAGCAATGGGTGGGAACTGACTGGAAAATGCATCTGCTGCTCTTTGCTGTTCCCTTTCTCTTGGGCTCTATAAAACCTGAAAAGGGAAAAAGCCCTGGTGAGGATAGGTCTGCAGTTGTGTCACCTTTGGAACCTTTAGAATAGATTTTTAGGACTTTTTCAGTCTTTAGGGTGCTGCAGAGATTACCTGCAGAGGTGACACTTCCAACTCCATCAGTGTAGTTCCAAATCCAGCAAAAAAATACAAAATCAGGGCGTTGTACTAGTCAGGAGTGTGAACTGAATGGTTGTAATTTGTTTCCAGCTGTCTCACAGAGAACTCTGGGTCTGGTGGCAGCCAAGAACTGGAAGGACAAAACCCTGTGAACTTTTGGGAAAATTATTTAGAAGATAAGCACAGAAGGTTTTGCACAAGACAGGTCCCTGGGAAAGGTGGTTTAGTAGATTTGGTCCAAATATTGTTATTTAGAACAGCATAACTCTGCACTAGTGCCAAGGTGATTTAACTGCCCTGATGGGCAGAACAGACATGAACAACTTTTGAGGTAAAATGTTAAAAATATTAAAATATTTTAAAAGGGTAAAGCTCTTGTTCAGAACTTCCAAGTGCCAATGACTGGAACAAATGTTTCTGTTGCTGTGGCTGAGCACAGCTCAGTGGAACCAGTGGAATTCTGTGGTTGTTTCTCTGTGTCCTCACTCAAACAAATTTCTTGCTCAAACAACTGCTCAGATTCTGTCCTTGTCCTTGCTGGCACTTTGGATTTTAAGCAGGATGTTTAAGGTGAGATAATTTTTAGTGCAGCTCAGCCTTCAAATTGGATTTCGAGCAGCCTCAGGCCTGTGGGGGAAGGAGAGCAGTGGAAGTTTGAATCATATTCTGACCTGACTGTGCTCCTCAAAAACCCCAAACCTTGAGTGTGTGCCTGTGTGTAACCCTCAGGATGGTGGGGAAATGTTGGGATCTGGACTTTTAACCCAAGGGCTAATTTGTTGTCACTTTGTTTAATTATTTGCTTTCAATAATGCATCTCTTTTGGTTTGAATTGAAGTAAATTATTTTGCTTCTTAAATAACTTTTTTAAAGAATAAACTTTGAATTCTTTGGTTGTTTGA\"\n",
    "]\n"
   ]
  },
  {
   "cell_type": "code",
   "execution_count": 70,
   "id": "0fb73b43-24c8-4a40-99d9-7c7519fc60a4",
   "metadata": {},
   "outputs": [
    {
     "name": "stdout",
     "output_type": "stream",
     "text": [
      "\n",
      "Results for Sequence 1:\n",
      "ORF Length: 684 nucleotides\n",
      "Serine Codons: 0\n",
      "Threonine Codons: 16\n",
      "GC Content: 39.27%\n",
      "\n",
      "Results for Sequence 2:\n",
      "ORF Length: 570 nucleotides\n",
      "Serine Codons: 0\n",
      "Threonine Codons: 11\n",
      "GC Content: 56.18%\n",
      "\n",
      "Results for Sequence 3:\n",
      "ORF Length: 0 nucleotides\n",
      "Serine Codons: 0\n",
      "Threonine Codons: 0\n",
      "GC Content: 65.73%\n",
      "\n",
      "Results for Sequence 4:\n",
      "ORF Length: 570 nucleotides\n",
      "Serine Codons: 0\n",
      "Threonine Codons: 13\n",
      "GC Content: 36.82%\n",
      "\n",
      "Results for Sequence 5:\n",
      "ORF Length: 570 nucleotides\n",
      "Serine Codons: 0\n",
      "Threonine Codons: 13\n",
      "GC Content: 46.4%\n",
      "\n",
      "Results for Sequence 6:\n",
      "ORF Length: 570 nucleotides\n",
      "Serine Codons: 0\n",
      "Threonine Codons: 11\n",
      "GC Content: 59.05%\n",
      "\n",
      "Results for Sequence 7:\n",
      "ORF Length: 309 nucleotides\n",
      "Serine Codons: 0\n",
      "Threonine Codons: 9\n",
      "GC Content: 67.04%\n",
      "\n",
      "Results for Sequence 8:\n",
      "ORF Length: 570 nucleotides\n",
      "Serine Codons: 0\n",
      "Threonine Codons: 11\n",
      "GC Content: 64.5%\n",
      "\n",
      "Results for Sequence 9:\n",
      "ORF Length: 0 nucleotides\n",
      "Serine Codons: 0\n",
      "Threonine Codons: 0\n",
      "GC Content: 80.42%\n",
      "\n",
      "Results for Sequence 10:\n",
      "ORF Length: 570 nucleotides\n",
      "Serine Codons: 0\n",
      "Threonine Codons: 13\n",
      "GC Content: 34.95%\n",
      "\n",
      "Results for Sequence 11:\n",
      "ORF Length: 0 nucleotides\n",
      "Serine Codons: 0\n",
      "Threonine Codons: 0\n",
      "GC Content: 78.32%\n",
      "\n",
      "Results for Sequence 12:\n",
      "ORF Length: 372 nucleotides\n",
      "Serine Codons: 0\n",
      "Threonine Codons: 7\n",
      "GC Content: 48.44%\n"
     ]
    }
   ],
   "source": [
    "#results \n",
    "for result in results:\n",
    "    print(f\"\\nResults for Sequence {result['sequence_id']}:\")\n",
    "    print(f\"ORF Length: {result['orf_length']} nucleotides\")\n",
    "    print(f\"Serine Codons: {result['serine_count']}\")\n",
    "    print(f\"Threonine Codons: {result['threonine_count']}\")\n",
    "    print(f\"GC Content: {result['gc_percent']}%\")\n"
   ]
  },
  {
   "cell_type": "code",
   "execution_count": 72,
   "id": "eb430daa-24a4-4414-bc8e-d2dece4fd726",
   "metadata": {},
   "outputs": [],
   "source": [
    "#to find lysine codons aaa and aag\n",
    "def count_lysine_codons(sequence):\n",
    "    lys_codons = ['AAA', 'AAG']\n",
    "    count = 0\n",
    "    for i in range(0, len(sequence)-2, 3):\n",
    "        codon = sequence[i:i+3]\n",
    "        if codon in lys_codons:\n",
    "            count += 1\n",
    "    return count "
   ]
  },
  {
   "cell_type": "code",
   "execution_count": 74,
   "id": "2df05af8-9aed-4501-a03b-a9ce678417af",
   "metadata": {},
   "outputs": [
    {
     "name": "stdout",
     "output_type": "stream",
     "text": [
      "\n",
      "Lysine codons in Sequence 1: 101\n",
      "\n",
      "Lysine codons in Sequence 2: 14\n",
      "\n",
      "Lysine codons in Sequence 3: 79\n",
      "\n",
      "Lysine codons in Sequence 4: 23\n",
      "\n",
      "Lysine codons in Sequence 5: 9\n",
      "\n",
      "Lysine codons in Sequence 6: 8\n",
      "\n",
      "Lysine codons in Sequence 7: 5\n",
      "\n",
      "Lysine codons in Sequence 8: 110\n",
      "\n",
      "Lysine codons in Sequence 9: 53\n"
     ]
    }
   ],
   "source": [
    "for i, seq in enumerate(sequences):\n",
    "    lys_count = count_lysine_codons(seq)\n",
    "    print(f\"\\nLysine codons in Sequence {i+1}: {lys_count}\")"
   ]
  },
  {
   "cell_type": "code",
   "execution_count": 80,
   "id": "9662b79c-2dde-42b5-aff0-b817a75dfafd",
   "metadata": {},
   "outputs": [
    {
     "data": {
      "image/png": "iVBORw0KGgoAAAANSUhEUgAAAXQAAAFlCAYAAAD76RNtAAAAOXRFWHRTb2Z0d2FyZQBNYXRwbG90bGliIHZlcnNpb24zLjkuMiwgaHR0cHM6Ly9tYXRwbG90bGliLm9yZy8hTgPZAAAACXBIWXMAAA9hAAAPYQGoP6dpAAAZEElEQVR4nO3dfUxUV+L/8c8AMqi7M41aERQpdrWlNbUrRCouadpVGjU2Jt1I40bU1aSk7frA6lbKRqsxIe2mZmsr9EHQNEGXrU/xD9Y6f+wqPuyDLDRNIbFRV7AFCRgH1C4qnu8f/pj+pqD1DjOgh/crmT/m9NyZc0r77u3l5uoyxhgBAB54UQO9AABAeBB0ALAEQQcASxB0ALAEQQcASxB0ALAEQQcASxB0ALAEQQcASxB0ALCE46AfPXpU8+bNU2Jiolwulw4cOPCjxxw5ckRpaWmKi4vThAkT9OGHH4ayVgDAXTgO+tWrVzVlyhR98MEH9zT/3LlzmjNnjrKyslRTU6M333xTK1as0N69ex0vFgBwZ66+PJzL5XJp//79mj9//h3nvPHGGzp48KDq6+sDY3l5efriiy908uTJUL8aAPADMZH+gpMnTyo7Ozto7IUXXlBpaalu3LihIUOG9Dims7NTnZ2dgfe3bt3SpUuXNHLkSLlcrkgvGQAizhijjo4OJSYmKioqPL/OjHjQm5ubFR8fHzQWHx+vmzdvqrW1VQkJCT2OKSoq0saNGyO9NAAYcI2NjRo3blxYPiviQZfU46y6+yrPnc62CwoKlJ+fH3jv9/s1fvx4NTY2yuPxRG6hANBP2tvblZSUpJ/+9Kdh+8yIB33MmDFqbm4OGmtpaVFMTIxGjhzZ6zFut1tut7vHuMfjIegArBLOy8gRvw99+vTp8vl8QWOHDx9Wenp6r9fPAQChcRz0K1euqLa2VrW1tZJu35ZYW1urhoYGSbcvl+Tm5gbm5+Xl6fz588rPz1d9fb3KyspUWlqqNWvWhGcHAABJIVxyOXXqlJ577rnA++5r3YsXL9bOnTvV1NQUiLskpaSkqLKyUqtXr9a2bduUmJiorVu36qWXXgrD8gEA3fp0H3p/aW9vl9frld/v5xo6ACtEoms8ywUALEHQAcASBB0ALEHQAcASBB0ALEHQAcASBB0ALEHQAcASBB0ALEHQAcASBB0ALEHQAcASBB0ALEHQAcASBB0ALEHQAcASBB0ALEHQAcASBB0ALEHQAcASBB0ALEHQAcASBB0ALEHQAcASBB0ALEHQAcASBB0ALEHQAcASBB0ALEHQAcASBB0ALEHQAcASBB0ALEHQAcASBB0ALEHQAcASBB0ALEHQAcASBB0ALEHQAcASBB0ALEHQAcASBB0ALEHQAcASBB0ALEHQAcASBB0ALEHQAcASBB0ALEHQAcASBB0ALBFS0IuLi5WSkqK4uDilpaWpqqrqrvPLy8s1ZcoUDRs2TAkJCVq6dKna2tpCWjAAoHeOg15RUaFVq1apsLBQNTU1ysrK0uzZs9XQ0NDr/GPHjik3N1fLli3TV199pc8++0z//ve/tXz58j4vHgDwPcdB37Jli5YtW6bly5crNTVVf/rTn5SUlKSSkpJe5//jH//QI488ohUrViglJUW/+MUv9Morr+jUqVN9XjwA4HuOgn79+nVVV1crOzs7aDw7O1snTpzo9ZjMzExduHBBlZWVMsbo4sWL2rNnj+bOnXvH7+ns7FR7e3vQCwBwd46C3traqq6uLsXHxweNx8fHq7m5uddjMjMzVV5erpycHMXGxmrMmDF66KGH9P7779/xe4qKiuT1egOvpKQkJ8sEgEEppF+KulyuoPfGmB5j3erq6rRixQqtX79e1dXVOnTokM6dO6e8vLw7fn5BQYH8fn/g1djYGMoyAWBQiXEyedSoUYqOju5xNt7S0tLjrL1bUVGRZsyYobVr10qSnnrqKQ0fPlxZWVnavHmzEhISehzjdrvldrudLA0ABj1HZ+ixsbFKS0uTz+cLGvf5fMrMzOz1mGvXrikqKvhroqOjJd0+swcAhIfjSy75+fnavn27ysrKVF9fr9WrV6uhoSFwCaWgoEC5ubmB+fPmzdO+fftUUlKis2fP6vjx41qxYoWmTZumxMTE8O0EAAY5R5dcJCknJ0dtbW3atGmTmpqaNHnyZFVWVio5OVmS1NTUFHRP+pIlS9TR0aEPPvhAv/vd7/TQQw/p+eef19tvvx2+XQAA5DIPwHWP9vZ2eb1e+f1+eTyegV4OAPRZJLrGs1wAwBIEHQAsQdABwBIEHQAsQdABwBIEHQAsQdABwBIEHQAsQdABwBIEHQAsQdABwBIEHQAsQdABwBIEHQAsQdABwBIEHQAsQdABwBIEHQAsQdABwBIEHQAsQdABwBIEHQAsQdABwBIEHQAsQdABwBIEHQAsQdABwBIEHQAsQdABwBIEHQAsQdABwBIEHQAsQdABwBIEHQAsQdABwBIEHQAsQdABwBIEHQAsQdABwBIEHQAsQdABwBIEHQAsQdABwBIEHQAsQdABwBIEHQAsQdABwBIEHQAsQdABwBIEHQAsEVLQi4uLlZKSori4OKWlpamqququ8zs7O1VYWKjk5GS53W49+uijKisrC2nBAIDexTg9oKKiQqtWrVJxcbFmzJihjz76SLNnz1ZdXZ3Gjx/f6zELFizQxYsXVVpaqp/97GdqaWnRzZs3+7x4AMD3XMYY4+SAjIwMTZ06VSUlJYGx1NRUzZ8/X0VFRT3mHzp0SC+//LLOnj2rESNGhLTI9vZ2eb1e+f1+eTyekD4DAO4nkeiao0su169fV3V1tbKzs4PGs7OzdeLEiV6POXjwoNLT0/XOO+9o7NixmjRpktasWaPvvvvujt/T2dmp9vb2oBcA4O4cXXJpbW1VV1eX4uPjg8bj4+PV3Nzc6zFnz57VsWPHFBcXp/3796u1tVWvvvqqLl26dMfr6EVFRdq4caOTpQHAoBfSL0VdLlfQe2NMj7Fut27dksvlUnl5uaZNm6Y5c+Zoy5Yt2rlz5x3P0gsKCuT3+wOvxsbGUJYJAIOKozP0UaNGKTo6usfZeEtLS4+z9m4JCQkaO3asvF5vYCw1NVXGGF24cEETJ07scYzb7Zbb7XayNAAY9BydocfGxiotLU0+ny9o3OfzKTMzs9djZsyYoW+//VZXrlwJjJ0+fVpRUVEaN25cCEsGAPTG8SWX/Px8bd++XWVlZaqvr9fq1avV0NCgvLw8Sbcvl+Tm5gbmL1y4UCNHjtTSpUtVV1eno0ePau3atfrNb36joUOHhm8nADDIOb4PPScnR21tbdq0aZOampo0efJkVVZWKjk5WZLU1NSkhoaGwPyf/OQn8vl8+u1vf6v09HSNHDlSCxYs0ObNm8O3CwCA8/vQBwL3oQOwzYDfhw4AuH8RdACwBEEHAEsQdACwBEEHAEsQdACwBEEHAEsQdACwBEEHAEsQdACwBEEHAEsQdACwBEEHAEsQdACwBEEHAEsQdACwBEEHAEsQdACwBEEHAEsQdACwBEEHAEsQdACwBEEHAEsQdACwBEEHAEsQdACwBEEHAEsQdACwBEEHAEsQdACwBEEHAEsQdACwBEEHAEsQdACwBEEHAEsQdACwBEEHAEsQdACwBEEHAEsQdACwBEEHAEsQdACwBEEHAEsQdACwBEEHAEsQdACwBEEHAEsQdACwBEEHAEsQdACwBEEHAEuEFPTi4mKlpKQoLi5OaWlpqqqquqfjjh8/rpiYGD399NOhfC0A4C4cB72iokKrVq1SYWGhampqlJWVpdmzZ6uhoeGux/n9fuXm5uqXv/xlyIsFANyZyxhjnByQkZGhqVOnqqSkJDCWmpqq+fPnq6io6I7Hvfzyy5o4caKio6N14MAB1dbW3vN3tre3y+v1yu/3y+PxOFkuANyXItE1R2fo169fV3V1tbKzs4PGs7OzdeLEiTset2PHDp05c0YbNmy4p+/p7OxUe3t70AsAcHeOgt7a2qquri7Fx8cHjcfHx6u5ubnXY77++mutW7dO5eXliomJuafvKSoqktfrDbySkpKcLBMABqWQfinqcrmC3htjeoxJUldXlxYuXKiNGzdq0qRJ9/z5BQUF8vv9gVdjY2MoywSAQeXeTpn/n1GjRik6OrrH2XhLS0uPs3ZJ6ujo0KlTp1RTU6PXX39dknTr1i0ZYxQTE6PDhw/r+eef73Gc2+2W2+12sjQAGPQcnaHHxsYqLS1NPp8vaNzn8ykzM7PHfI/Hoy+//FK1tbWBV15enh577DHV1tYqIyOjb6sHAAQ4OkOXpPz8fC1atEjp6emaPn26Pv74YzU0NCgvL0/S7csl33zzjT799FNFRUVp8uTJQcePHj1acXFxPcYBAH3jOOg5OTlqa2vTpk2b1NTUpMmTJ6uyslLJycmSpKamph+9Jx0AEH6O70MfCNyHDsA2A34fOgDg/kXQAcASBB0ALEHQAcASBB0ALEHQAcASBB0ALEHQAcASBB0ALEHQAcASBB0ALEHQAcASBB0ALEHQAcASBB0ALEHQAcASBB0ALEHQAcASBB0ALEHQAcASBB0ALEHQAcASBB0ALEHQAcASBB0ALEHQAcASBB0ALEHQAcASBB0ALEHQAcASBB0ALEHQAcASBB0ALEHQAcASBB0ALEHQAcASBB0ALEHQAcASBB0ALEHQAcASBB0ALEHQAcASBB0ALEHQAcASBB0ALEHQAcASBB0ALEHQAcASBB0ALEHQAcASIQW9uLhYKSkpiouLU1pamqqqqu44d9++fZo1a5YefvhheTweTZ8+XZ9//nnICwYA9M5x0CsqKrRq1SoVFhaqpqZGWVlZmj17thoaGnqdf/ToUc2aNUuVlZWqrq7Wc889p3nz5qmmpqbPiwcAfM9ljDFODsjIyNDUqVNVUlISGEtNTdX8+fNVVFR0T5/x5JNPKicnR+vXr7+n+e3t7fJ6vfL7/fJ4PE6WCwD3pUh0zdEZ+vXr11VdXa3s7Oyg8ezsbJ04ceKePuPWrVvq6OjQiBEjnHw1AOBHxDiZ3Nraqq6uLsXHxweNx8fHq7m5+Z4+491339XVq1e1YMGCO87p7OxUZ2dn4H17e7uTZQLAoBTSL0VdLlfQe2NMj7He7N69W2+99ZYqKio0evToO84rKiqS1+sNvJKSkkJZJgAMKo6CPmrUKEVHR/c4G29paelx1v5DFRUVWrZsmf7yl79o5syZd51bUFAgv98feDU2NjpZJgAMSo6CHhsbq7S0NPl8vqBxn8+nzMzMOx63e/duLVmyRLt27dLcuXN/9Hvcbrc8Hk/QCwBwd46uoUtSfn6+Fi1apPT0dE2fPl0ff/yxGhoalJeXJ+n22fU333yjTz/9VNLtmOfm5uq9997TM888Ezi7Hzp0qLxebxi3AgCDm+Og5+TkqK2tTZs2bVJTU5MmT56syspKJScnS5KampqC7kn/6KOPdPPmTb322mt67bXXAuOLFy/Wzp07+74DAICkEO5DHwjchw7ANgN+HzoA4P5F0AHAEgQdACxB0AHAEgQdACxB0AHAEgQdACxB0AHAEgQdACxB0AHAEgQdACxB0AHAEgQdACxB0AHAEgQdACxB0AHAEgQdACxB0AHAEgQdACxB0AHAEgQdACxB0AHAEgQdACxB0AHAEgQdACxB0AHAEgQdACxB0AHAEgQdACxB0AHAEgQdACxB0AHAEgQdACxB0AHAEgQdACxB0AHAEgQdACxB0AHAEgQdACxB0AHAEgQdACxB0AHAEgQdACxB0AHAEgQdACxB0AHAEgQdACxB0AHAEgQdACxB0AHAEgQdACwRUtCLi4uVkpKiuLg4paWlqaqq6q7zjxw5orS0NMXFxWnChAn68MMPQ1osAODOHAe9oqJCq1atUmFhoWpqapSVlaXZs2eroaGh1/nnzp3TnDlzlJWVpZqaGr355ptasWKF9u7d2+fFAwC+5zLGGCcHZGRkaOrUqSopKQmMpaamav78+SoqKuox/4033tDBgwdVX18fGMvLy9MXX3yhkydP3tN3tre3y+v1yu/3y+PxOFkuANyXItG1GCeTr1+/rurqaq1bty5oPDs7WydOnOj1mJMnTyo7Ozto7IUXXlBpaalu3LihIUOG9Dims7NTnZ2dgfd+v1/S7b8BAGCD7p45PKe+K0dBb21tVVdXl+Lj44PG4+Pj1dzc3Osxzc3Nvc6/efOmWltblZCQ0OOYoqIibdy4scd4UlKSk+UCwH2vra1NXq83LJ/lKOjdXC5X0HtjTI+xH5vf23i3goIC5efnB95fvnxZycnJamhoCNvGHwTt7e1KSkpSY2PjoLrUxL7Z92Dg9/s1fvx4jRgxImyf6Sjoo0aNUnR0dI+z8ZaWlh5n4d3GjBnT6/yYmBiNHDmy12PcbrfcbnePca/XO6h+4N08Hg/7HkTY9+ASFRW+u8cdfVJsbKzS0tLk8/mCxn0+nzIzM3s9Zvr06T3mHz58WOnp6b1ePwcAhMbxfxry8/O1fft2lZWVqb6+XqtXr1ZDQ4Py8vIk3b5ckpubG5ifl5en8+fPKz8/X/X19SorK1NpaanWrFkTvl0AAJxfQ8/JyVFbW5s2bdqkpqYmTZ48WZWVlUpOTpYkNTU1Bd2TnpKSosrKSq1evVrbtm1TYmKitm7dqpdeeumev9PtdmvDhg29XoaxGftm34MB+w7fvh3fhw4AuD/xLBcAsARBBwBLEHQAsARBBwBL3DdBH6yP5HWy73379mnWrFl6+OGH5fF4NH36dH3++ef9uNrwcfrz7nb8+HHFxMTo6aefjuwCI8Tpvjs7O1VYWKjk5GS53W49+uijKisr66fVho/TfZeXl2vKlCkaNmyYEhIStHTpUrW1tfXTavvu6NGjmjdvnhITE+VyuXTgwIEfPSYsTTP3gT//+c9myJAh5pNPPjF1dXVm5cqVZvjw4eb8+fO9zj979qwZNmyYWblypamrqzOffPKJGTJkiNmzZ08/r7xvnO575cqV5u233zb/+te/zOnTp01BQYEZMmSI+c9//tPPK+8bp/vudvnyZTNhwgSTnZ1tpkyZ0j+LDaNQ9v3iiy+ajIwM4/P5zLlz58w///lPc/z48X5cdd853XdVVZWJiooy7733njl79qypqqoyTz75pJk/f34/rzx0lZWVprCw0Ozdu9dIMvv377/r/HA17b4I+rRp00xeXl7Q2OOPP27WrVvX6/zf//735vHHHw8ae+WVV8wzzzwTsTVGgtN99+aJJ54wGzduDPfSIirUfefk5Jg//OEPZsOGDQ9k0J3u+69//avxer2mra2tP5YXMU73/cc//tFMmDAhaGzr1q1m3LhxEVtjJN1L0MPVtAG/5NL9SN4fPmI3lEfynjp1Sjdu3IjYWsMplH3/0K1bt9TR0RHWh/tEWqj73rFjh86cOaMNGzZEeokREcq+Dx48qPT0dL3zzjsaO3asJk2apDVr1ui7777rjyWHRSj7zszM1IULF1RZWSljjC5evKg9e/Zo7ty5/bHkARGupoX0tMVw6q9H8t5vQtn3D7377ru6evWqFixYEIklRkQo+/7666+1bt06VVVVKSZmwP+RDUko+z579qyOHTumuLg47d+/X62trXr11Vd16dKlB+Y6eij7zszMVHl5uXJycvS///1PN2/e1Isvvqj333+/P5Y8IMLVtAE/Q+8W6Ufy3q+c7rvb7t279dZbb6miokKjR4+O1PIi5l733dXVpYULF2rjxo2aNGlSfy0vYpz8vG/duiWXy6Xy8nJNmzZNc+bM0ZYtW7Rz584H6ixdcrbvuro6rVixQuvXr1d1dbUOHTqkc+fOBZ4XZatwNG3AT3f665G895tQ9t2toqJCy5Yt02effaaZM2dGcplh53TfHR0dOnXqlGpqavT6669Luh06Y4xiYmJ0+PBhPf/88/2y9r4I5eedkJCgsWPHBv0ZAKmpqTLG6MKFC5o4cWJE1xwOoey7qKhIM2bM0Nq1ayVJTz31lIYPH66srCxt3rz5gfg/cKfC1bQBP0MfrI/kDWXf0u0z8yVLlmjXrl0P5DVFp/v2eDz68ssvVVtbG3jl5eXpscceU21trTIyMvpr6X0Sys97xowZ+vbbb3XlypXA2OnTpxUVFaVx48ZFdL3hEsq+r1271uMZ4dHR0ZLC+8e13U/C1jRHv0KNkO7bmkpLS01dXZ1ZtWqVGT58uPnvf/9rjDFm3bp1ZtGiRYH53bf4rF692tTV1ZnS0tIH+rbFe933rl27TExMjNm2bZtpamoKvC5fvjxQWwiJ033/0IN6l4vTfXd0dJhx48aZX/3qV+arr74yR44cMRMnTjTLly8fqC2ExOm+d+zYYWJiYkxxcbE5c+aMOXbsmElPTzfTpk0bqC041tHRYWpqakxNTY2RZLZs2WJqamoCt2pGqmn3RdCNMWbbtm0mOTnZxMbGmqlTp5ojR44E/trixYvNs88+GzT/73//u/n5z39uYmNjzSOPPGJKSkr6ecXh4WTfzz77rJHU47V48eL+X3gfOf15//8e1KAb43zf9fX1ZubMmWbo0KFm3LhxJj8/31y7dq2fV913Tve9detW88QTT5ihQ4eahIQE8+tf/9pcuHChn1cdur/97W93/Xc1Uk3j8bkAYIkBv4YOAAgPgg4AliDoAGAJgg4AliDoAGAJgg4AliDoAGAJgg4AliDoAGAJgg4AliDoAGAJgg4Alvg/LQB0TEOgAVUAAAAASUVORK5CYII=",
      "text/plain": [
       "<Figure size 400x400 with 1 Axes>"
      ]
     },
     "metadata": {},
     "output_type": "display_data"
    }
   ],
   "source": [
    "#workshop 3 \n",
    "import matplotlib.pyplot as plt\n",
    "import matplotlib as mpl\n",
    "import random \n",
    "import numpy as np\n",
    "\n",
    "#create base plot \n",
    "fig = plt.Figure()\n",
    "\n",
    "#create bigger plot \n",
    "fig = plt.Figure(figsize=(9.6,9.6))\n",
    "\n",
    "#adding data to the plot \n",
    "np.random.seed(42)\n",
    "#setting a rng to get values \n",
    "groups = [\"a\", \"b\", \"c\"]\n",
    "group_data = [random.choice(groups) for x in range(50)]\n",
    "var_data = np.random.randn(50) # make 50 random floats \n",
    "int_data = np.random.randint(0, 50, 50)\n",
    "\n",
    "plot_data = {\"groups\": group_data, \"vars\": var_data, \"counts\": int_data}\n",
    "\n",
    "fig, ax = plt.subplots(figsize=(4, 4))"
   ]
  },
  {
   "cell_type": "code",
   "execution_count": 86,
   "id": "d6c42554-a65c-4415-a7cb-ade770f08a99",
   "metadata": {},
   "outputs": [
    {
     "data": {
      "image/png": "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",
      "text/plain": [
       "<Figure size 400x400 with 1 Axes>"
      ]
     },
     "metadata": {},
     "output_type": "display_data"
    }
   ],
   "source": [
    "fig, ax = plt.subplots(figsize=(4, 4))\n",
    "ax.scatter(plot_data[\"counts\"], plot_data[\"vars\"])\n",
    "plt.show()"
   ]
  },
  {
   "cell_type": "code",
   "execution_count": 102,
   "id": "987780fe-5264-48cf-b4c7-a31b18e04b36",
   "metadata": {},
   "outputs": [
    {
     "data": {
      "image/png": "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",
      "text/plain": [
       "<Figure size 400x400 with 1 Axes>"
      ]
     },
     "metadata": {},
     "output_type": "display_data"
    },
    {
     "data": {
      "image/png": "iVBORw0KGgoAAAANSUhEUgAAAXUAAAFiCAYAAAAJLkjrAAAAOXRFWHRTb2Z0d2FyZQBNYXRwbG90bGliIHZlcnNpb24zLjkuMiwgaHR0cHM6Ly9tYXRwbG90bGliLm9yZy8hTgPZAAAACXBIWXMAAA9hAAAPYQGoP6dpAAAp10lEQVR4nO3dfXBTVR438G8okJa1DQu1SaoFKioIVYSyQtGVt6VQmD7IMAzoijCrrkXrWvowsmV3pbiDEddlWRYpL4IvW1d5ZgsKA7LtDFB0qSsFIm+lKhbagWQrVZLCSirtff6oiaRJ2iTNTe499/uZuTPm9l57brj95eZ3fuccnSRJEoiISAg9Yt0AIiKKHAZ1IiKBMKgTEQmEQZ2ISCAM6kREAmFQJyISCIM6EZFAGNSJiATCoE5EJBAGdSIigfSU839usViwfft2nDlzBgkJCRg3bhxWrVqFIUOGdHpeZWUlCgsLcerUKaSmpuL5559HXl5eUL+zra0NFy9eRGJiInQ6XSQug4gopiRJQnNzM1JTU9GjRxfP4pKMpk6dKr3xxhvSyZMnJavVKs2YMUMaMGCAdOXKlYDnfPXVV1KfPn2k5557Tjp9+rS0efNmqVevXtI///nPoH5nQ0ODBIAbN27chNsaGhq6jIE6SYrehF5ff/01UlJSUFlZiQcffNDvMUuXLsXOnTtRU1Pj2ZeXl4fPPvsMVVVVXf4Oh8OBvn37oqGhAUlJSRFrOxFRrDidTqSlpeHy5cswGAydHitr+qUjh8MBAOjXr1/AY6qqqpCdne21b+rUqdiyZQu+//579OrVy+tnLpcLLpfL87q5uRkAkJSUxKBOREIJJqUctY5SSZJQWFiIBx54ABkZGQGPs9vtMBqNXvuMRiOuX7+OS5cu+RxvsVhgMBg8W1paWsTbTkSkFlEL6vn5+Th+/DjefffdLo/t+GnkzhD5+5QqKiqCw+HwbA0NDZFpMBGRCkUl/fLss89i586dOHjwIG699dZOjzWZTLDb7V77Ghsb0bNnT/Tv39/neL1eD71eH9H2EhGplaxP6pIkIT8/H9u3b8e+ffuQnp7e5TlZWVmoqKjw2ldeXo7Ro0f75NOJiMibrEH9mWeeQWlpKf7xj38gMTERdrsddrsd3333neeYoqIiPPbYY57XeXl5OH/+PAoLC1FTU4OtW7diy5YtWLJkiZxNJSISgqxBvaSkBA6HAxMmTIDZbPZs27Zt8xxjs9lQX1/veZ2eno49e/bgwIEDuPfee/HHP/4Ra9euxezZs+VsKhGREKJapx4NTqcTBoMBDoeDJY0UltY2CZ/WfYPG5mtISYzHfen9ENeDo5MpdkKJa1GtUydSur0nbVix6zRsjmuefWZDPJbnDsO0DHMMW0YUHE7oRfSDvSdtWFR61CugA4DdcQ2LSo9i70lbjFpGFDwGdSK0p1xW7DoNf7lI974Vu06jtU2obCUJiEGdCMCndd/4PKHfSAJgc1zDp3XfRK9RRGFgUCcC0NgcOKCHcxxRrDCoEwFISYyP6HFEscKgTgTgvvR+MBviEahwUYf2Kpj70gPPMEqkBAzqRADieuiwPHcYAPgEdvfr5bnDWK9OisegTvSDaRlmlDw6CiaDd4rFZIhHyaOjWKdOqsDBR0Q3mJZhxpRhJo4oJdViUCfqIK6HDlmDfad5JlIDpl+IiATCoE5EJBAGdSIigTCoExEJhEGdiEggDOpERAJhUCciEgiDOhGRQDj4SKG4TiYRhYNBXYG4TiYRhYvpF4XhOplE1B0M6grCdTKJqLsY1BWE62QSKU9rm4Sqs034wHoBVWebFP9QxZy6gnCdTCJlUWP/Fp/UFYTrZBIph1r7t2QN6gcPHkRubi5SU1Oh0+nw/vvvd3r8gQMHoNPpfLYzZ87I2UzF4DqZRMqg5v4tWYP61atXMWLECKxbty6k82pra2Gz2TzbHXfcIVMLlYXrZBIpg5r7t2TNqefk5CAnJyfk81JSUtC3b9/IN0gF3OtkdszjmRSexyNSmu4M4FNz/5YiO0pHjhyJa9euYdiwYfj973+PiRMnBjzW5XLB5XJ5Xjudzmg0UVZcJ5Ooe7rbwanm/i1FdZSazWZs2rQJZWVl2L59O4YMGYLJkyfj4MGDAc+xWCwwGAyeLS0tLYotlo97ncyZ996CrMH9GdCJghSJDk4192/pJEmKSqZfp9Nhx44deOihh0I6Lzc3FzqdDjt37vT7c39P6mlpaXA4HEhKSupOk4lIZVrbJDywal/AfLgO7anMj5dO6vJByf3hAMCrw9R9Vsmjo6KWDnU6nTAYDEHFNUU9qfszduxYfPHFFwF/rtfrkZSU5LURkTZFsoPT3b9lMninWEyG+KgG9FApMqd+o2PHjsFsVuabR0TKEukOTjX2b8ka1K9cuYIvv/zS87qurg5WqxX9+vXDgAEDUFRUhAsXLuDtt98GAKxZswaDBg3C8OHD0dLSgtLSUpSVlaGsrEzOZhKRIOTo4HT3b6mFrEG9urraq3KlsLAQALBgwQK8+eabsNlsqK+v9/y8paUFS5YswYULF5CQkIDhw4dj9+7dmD59upzNJCJBuDs47Y5rfgcOuXPqSuzgjJSodZRGSygdCkQkHiV1cEaKUB2lREShUGsHZ6QovqOUiChUauzgjBQGdSISkto6OCOF6RciIoEwqBMRCYRBnYhIIAzqREQCYVAnIhIIgzoRkUAY1ImIBMKgTkQkEAZ1IiKBMKgTEQmEQZ2ISCAM6kREAmFQJyISCIM6EZFAGNSJiATCoE5EJBAGdSIigTCoExEJhMvZRUlrm6TJ9RKJKLoY1KNg70kbVuw6DZvjmmef2RCP5bnDhF/ZnIiii+kXme09acOi0qNeAR0A7I5rWFR6FHtP2mLUMiISEYO6jFrbJKzYdRqSn5+5963YdRqtbf6OICIKnaxB/eDBg8jNzUVqaip0Oh3ef//9Ls+prKxEZmYm4uPjcdttt2HDhg1yNlFWn9Z94/OEfiMJgM1xDZ/WfRO9RhGR0GQN6levXsWIESOwbt26oI6vq6vD9OnT8fOf/xzHjh3DsmXL8Jvf/AZlZWVyNlM2jc2BA3o4xxERdUXWjtKcnBzk5OQEffyGDRswYMAArFmzBgBw1113obq6Gq+++ipmz54tUyvlk5IYH9HjiIi6oqicelVVFbKzs732TZ06FdXV1fj+++9j1Krw3ZfeD2ZDPAIVLurQXgVzX3q/aDaLiASmqKBut9thNBq99hmNRly/fh2XLl3ye47L5YLT6fTalCKuhw7Lc4cBgE9gd79enjuM9epEFDGKCuoAoNN5BzhJkvzud7NYLDAYDJ4tLS1N9jaGYlqGGSWPjoLJ4J1iMRniUfLoKNapE1FEKWrwkclkgt1u99rX2NiInj17on///n7PKSoqQmFhoee10+lUZGCfMszEEaVEJDtFBfWsrCzs2rXLa195eTlGjx6NXr16+T1Hr9dDr9dHo3ndEtdDh6zB/j+YiIgiRdb0y5UrV2C1WmG1WgG0lyxarVbU19cDaH/KfuyxxzzH5+Xl4fz58ygsLERNTQ22bt2KLVu2YMmSJXI2k4hIGLI+qVdXV2PixIme1+40yYIFC/Dmm2/CZrN5AjwApKenY8+ePVi8eDFee+01pKamYu3ataosZyQiigWd5O6JFITT6YTBYIDD4UBSUlKsm0NE1G2hxDXFVb8QEVH4GNSJiASiqOoXIlI+LviibAzqRBQ0LviifEy/EFFQuOCLOjCoE1GXuOCLejCoC6K1TULV2SZ8YL2AqrNN/OOiiOKCL+rBnLoAmOckuXHBF/Xgk/oP1PqkyzwnRQMXfFEPPqlDvU+6XeU5dWjPc04ZZmLJGXWLe8EXu+Oa3/tNh/bppLngS+xp/kldzU+6zHNStHDBF/XQdFBXe48+85wUTVzwRR00nX4J5UlXiXOhM89J0cYFX5RP00Fd7U+6zHNSLHDBF2XTdPpF7U+6zHMSUUeaDuruJ91AIU+H9ioYJT/pKjXPqdYSUSK103T6xf2ku6j0KHSAVwpDTU+6SstzqrVElEgEXPkIDEKR5C4R7XhTuT9eWCVBFLpQ4pqmn9TdlPakq1YcDEUUewzqP2CPfvepvUSUSASa7iilyFJ7iSiRCBjUKWLUXiJKJAKmX37AdRe7j4OhiGKPQR2sfokUUUpEidRM8+kXNc/SqERKHQxFpBWaflJnCZ48WCJKFDuyP6mvX78e6enpiI+PR2ZmJj766KOAxx44cAA6nc5nO3PmjCxt43zk8nGXiM689xZkDe7PgE6y4ZQU3mR9Ut+2bRsKCgqwfv163H///di4cSNycnJw+vRpDBgwIOB5tbW1XqOmbr75ZlnaxxI8InVjf5gvWZ/UV69ejccffxxPPPEE7rrrLqxZswZpaWkoKSnp9LyUlBSYTCbPFhcXJ0v7WIJHpF7sD/NPtqDe0tKCI0eOIDs722t/dnY2Dh061Om5I0eOhNlsxuTJk7F//365mijELI1EWqT2VcvkJFtQv3TpElpbW2E0Gr32G41G2O12v+eYzWZs2rQJZWVl2L59O4YMGYLJkyfj4MGDAX+Py+WC0+n02oLF+ciJ1In9YYHJXv2i03kHREmSfPa5DRkyBEOGDPG8zsrKQkNDA1599VU8+OCDfs+xWCxYsWJF2O1zl+B1zMuZNJ6XI1Iy9ocFJltQT05ORlxcnM9TeWNjo8/Te2fGjh2L0tLSgD8vKipCYWGh57XT6URaWlpIbWUJHpG6sD8sMNmCeu/evZGZmYmKigrMmjXLs7+iogIzZ84M+v9z7NgxmM2Bn5b1ej30en232gpwlkYiNeGUFIHJmn4pLCzE/PnzMXr0aGRlZWHTpk2or69HXl4egPan7AsXLuDtt98GAKxZswaDBg3C8OHD0dLSgtLSUpSVlaGsrEzOZhKRynBKisBkDepz585FU1MTXnzxRdhsNmRkZGDPnj0YOHAgAMBms6G+vt5zfEtLC5YsWYILFy4gISEBw4cPx+7duzF9+nQ5m0k34MRmpBbsD/OPy9mRBwdykBpp4UEklLjGoE4AuLaoHLQQbCg6uEYphYQTm0Uev/VQrGh+6l3iQI5IE334OifQUjY+qRMHckSQ6N96+A1E+fikThzIEUEif+sR/RuIKBjUiRObRZCo33o4gZZ6MKgTJzaLIFG/9Yj8DUQ0DOoEgGuLRoqo33pE/QYiInaUkgcnNutcMHXnog5fF/UbiIgY1MkLJzbzL5SqDxGHr3MCLfXgiFKiLoQ72la0EaXu9wHw/w1E7jSdaO9nKDhNAIM6RUhrm4QHVu0L2EnofkL9eOkkTQSYvSdtKN55Cnany7PPlKRH8f8ZLmtA13p9fChxjR2lRJ1g1Yc/gWqk5MH6+NAwqBN1glUfP3IHV7uzQ3B1yhdcWR8fOgZ1ok6w6qNdZ8EVaA+wcgRXflMKHYM6USdErTsPVVfBFZAnuPKbUugY1Ik6wdG27eyO7yJ6XLD4TSl0DOqC4HSo8uFoW+Cbqy0RPS5Y/KYUOg4+EoDWy72iQeujbfvdpI/occESdYSunPikrnIs94oe92jbmffegqzB/TUVSExJwaU3gj0uFPymFBo+qauY6AsykHK40yCddZbKmQbp7JuSlkea+sOgrmKhlHtxPhfqjhvTIEBs0iD+5iVi6tEX0y8qxnIviialpUGYevSPT+oqxnIvijaldBgz9RgYg7qKcTpUigUlTM/M1GNgTL+oGAfGkFYx9RiY7EF9/fr1SE9PR3x8PDIzM/HRRx91enxlZSUyMzMRHx+P2267DRs2bJC7iaqmtDynyDjASzmYegxM1vTLtm3bUFBQgPXr1+P+++/Hxo0bkZOTg9OnT2PAgAE+x9fV1WH69Ol48sknUVpain//+994+umncfPNN2P27NlyNlXVlJLnFBmrLJSFqcfAZF0kY8yYMRg1ahRKSko8++666y489NBDsFgsPscvXboUO3fuRE1NjWdfXl4ePvvsM1RVVQX1O7lIBkVauCsfkbxivRJTNClikYyWlhYcOXIE2dnZXvuzs7Nx6NAhv+dUVVX5HD916lRUV1fj+++/93uOy+WC0+n02ogihfN5KxdTj/7Jln65dOkSWltbYTQavfYbjUbY7Xa/59jtdr/HX79+HZcuXYLZ7PuPZLFYsGLFisg1nOgGrLJQNqYefcle0qjTeb+5kiT57OvqeH/73YqKilBYWOh57XQ6kZaWFm5zibywykL5lFBiqSSyBfXk5GTExcX5PJU3Njb6PI27mUwmv8f37NkT/fv7/0fT6/XQ6yM7MxyRG6ssSG1ky6n37t0bmZmZqKio8NpfUVGBcePG+T0nKyvL5/jy8nKMHj0avXr1kqupRAFxPm9SG1nr1AsLC/H6669j69atqKmpweLFi1FfX4+8vDwA7amTxx57zHN8Xl4ezp8/j8LCQtTU1GDr1q3YsmULlixZImcziQLiAK/uY31/dMmaU587dy6amprw4osvwmazISMjA3v27MHAgQMBADabDfX19Z7j09PTsWfPHixevBivvfYaUlNTsXbtWtaoU0y5qyw61qmbolSnruapZVnfH32y1qnHAuvUSS6xCK5qDoqs74+cUOIagzqRQqk5KLa2SXhg1b6A5aDuEZ8fL52kmm8dsaSIwUdEFD61D3oKpb6fIotBnUiB1B4UWd8fOwzqRAqk9qDI+v7YYVAnUiC1B0XW98cOgzqRAqk9KHanvp917d3D5ex+oOZaYIotOe4dd1BcVHoUOvifWlbpg57Cqe9XcwmnUrCkEbyRKHxy3zsi3JvBfuipuYRTbqxTDyGo80aicEXr3tHCt0jWtXeOdepBUnstMMVONO8d99SyM++9BVmD+wsZ1NRewqkkmg7qvJEoXCLdO0romFR7CeeNYv1+arqjVKQbiaJLlHtHKTl7tZdwuinh/dT0k7ooNxJFnwj3jrtPoOM3DrvjGhaVHsXek7aotUXtJZyAct5PTQd1EW4kig213ztK609S+7z1Sno/NR3U1X4jUeyo/d5RYp+Au67dZPD+dmMyxCu+Ck1J76emc+pA7BdAIPVS872j1D6BaRlmTBlmUl0Jp5LeT80HdUC9NxLFnlrvHSX3CbhLONVESe8ng/oP1HgjkTKo8d5x9wnYHdf85oHdg32U2iegNEp6PzWdUyfSKrX3CSiNkt5PBnUijVJzx6QSKeX91PzcL0Rap4W5ZaJJjvczlLjGnDqRxqmxT0DJYv1+Mqj/gE8rRNomSgxgUIcy5msIlig3nhrxvReXmmJAVzSfU1fTfOoi3Xhqw/deXGqIAZxPPUhKmq+hK0qZLEiL+N6LS00xIFiyBvVvv/0W8+fPh8FggMFgwPz583H58uVOz1m4cCF0Op3XNnbsWFnap6T5Gjoj4o2nFnzvxaaWGBAKWYP6I488AqvVir1792Lv3r2wWq2YP39+l+dNmzYNNpvNs+3Zs0eW9ilpvobOiHjjqQXfe7GpJQaEQraO0pqaGuzduxeffPIJxowZAwDYvHkzsrKyUFtbiyFDhgQ8V6/Xw2QyydU0DyXN19DRjZ1yX/y3Oahz1HTjqYWIf/T0IyXHgHDJFtSrqqpgMBg8AR0Axo4dC4PBgEOHDnUa1A8cOICUlBT07dsX48ePx8qVK5GSkuL3WJfLBZfL5XntdDqDbqOS5mu4kb9OuWCo6cZTCxH/6OlHSo0B3SFb+sVut/sNxCkpKbDb7QHPy8nJwTvvvIN9+/bhz3/+Mw4fPoxJkyZ5Be4bWSwWT87eYDAgLS0t6DYqab4Gt0Cdcp1R+oIMaqb2xTCoc0qMAd0VclAvLi726cjsuFVXVwMAdDrfN0KSJL/73ebOnYsZM2YgIyMDubm5+PDDD/H5559j9+7dfo8vKiqCw+HwbA0NDSFdj1LmawA675TrjAT13XhqIeIfPXlTUgyIhJDTL/n5+Zg3b16nxwwaNAjHjx/Hf//7X5+fff311zAajUH/PrPZjIEDB+KLL77w+3O9Xg+9Xh/0/88fpcyJ3VWnHMWGmhfD6A4tDbZSSgyIhJCDenJyMpKTk7s8LisrCw6HA59++inuu+8+AMB//vMfOBwOjBs3Lujf19TUhIaGBpjN8v7hxHq+BiD8zjYd2svqpgwzqfImVAOR/uiDocXBVnLHgGh9SMo6ojQnJwcXL17Exo0bAQC//vWvMXDgQOzatctzzNChQ2GxWDBr1ixcuXIFxcXFmD17NsxmM86dO4dly5ahvr4eNTU1SExM7PJ3qnmWxqqzTXh48ydhn//uk2Nj/sFE6qeGEZZq090PScWMKH3nnXdw9913Izs7G9nZ2bjnnnvw97//3euY2tpaOBwOAEBcXBxOnDiBmTNn4s4778SCBQtw5513oqqqKqiArnZddcp1hWV11F0cbBV50R6RLOuEXv369UNpaWmnx9z4RSEhIQH/+te/5GySork75RaVHoUOCLnDlGV11F2hDLbit8KudfUhKUfqVNNzvyhRoJ74zv69WVZHkcLBVpEVixHJnHpXgfx1yn171YVn/nEMgPcTPMvqKJI42CqyYvEhyaCuUP564kt66DRXVkfRJeIIy1iKxYckg7qKaK2sjqKvs34dfisMXSw+JJlTD1Nrm4Sqs034wHoBVWebolYN4H6Cn3nvLcga3J9/XBRxoo2wjKVYjEjW/MpH4dDiwAzSHi2NKJVbNOvUGdRDxIEZRBSO7nxIhhLXmFMPQSxqTolIDNGaioQ59RBwFRwiUjoG9RBwYAYRKR2Degg4MIOIlI5BPQRcBYeIlI5BPQRcBYeIlI5BPUQcmEFESsaSxjBwuD4RKRWDepiUsPwdEVFHTL8QEQmEQZ2ISCBMvxBpHCfuEguDOpGGccZR8TD9QqRR0V7lnqKDQZ1Ig7qacRRon3E0Wou/UOQwqBNpEGccFReDOpEGccZRcTGoE2kQZxwVl6xBfeXKlRg3bhz69OmDvn37BnWOJEkoLi5GamoqEhISMGHCBJw6dUrOZhJpDmccFZesQb2lpQVz5szBokWLgj7nlVdewerVq7Fu3TocPnwYJpMJU6ZMQXNzs4wtJdKW7sw42tomoepsEz6wXkDV2SZ2pipMVBaefvPNN1FQUIDLly93epwkSUhNTUVBQQGWLl0KAHC5XDAajVi1ahWeeuqpLn+X3AtPE4kk1Dp11rXHhmoXnq6rq4Pdbkd2drZnn16vx/jx43Ho0KGggjoRBS+UGUfdde0dnwLdde2celoZFBXU7XY7AMBoNHrtNxqNOH/+vN9zXC4XXC6X57XT6ZSvgUQCCmbG0a7q2nVor2ufMszk84HAaQiiK+ScenFxMXQ6XadbdXV1txql03n/g0uS5LPPzWKxwGAweLa0tLRu/W4i8hVuXfvekzY8sGofHt78CZ57z4qHN3+CB1bt42hVGYX8pJ6fn4958+Z1esygQYPCaozJZALQ/sRuNv/4Na6xsdHn6d2tqKgIhYWFntdOp5OBnSjCwqlrZ7omNkIO6snJyUhOTpajLUhPT4fJZEJFRQVGjhwJoL2CprKyEqtWrfJ7jl6vh16vl6U9RNQu1Lr27qRrqHtkLWmsr6+H1WpFfX09WltbYbVaYbVaceXKFc8xQ4cOxY4dOwC0p10KCgrw0ksvYceOHTh58iQWLlyIPn364JFHHpGzqUTUiVDr2jkNQezI2lH6wgsv4K233vK8dj9979+/HxMmTAAA1NbWwuFweI55/vnn8d133+Hpp5/Gt99+izFjxqC8vByJiYlyNpWIOuGua19UehQ6wOsJ3F9dO6chiJ2o1KlHE+vUieQTbJ161dkmPLz5ky7/f+8+OZZr/QZBtXXq1DWWh1EsBVvX7k7X2B3X/ObVdQBMnIZAFgzqKsLRfKQEwdS1h5quocjhLI0qwVVqSG2mZZhR8ugomAzelTMmQzzLGWXEJ3UVYHkYqVUo0xBQZDCoq0Ao5WHsdCKlCSZdQ5HDoK4CLA8jkp8oRQgM6irAVWqI5CVSEQI7SlWAq9QQyUe0IgQGdRXozio1RBRYV0UIQHsRgppWd2JQVwmWhxFFnohz1DCnriIsDyOKLBGLEBjUVYblYUSRI2IRAtMvRKRZIhYhMKgTRVlrm4Sqs034wHoBVWebVNUJJxoRixCYfiGKIpHqoUXhLkLo+O9iUum/C+dTJ4qSQGt2up8BWcUUW0oeUcr51IkUhpOyKZ8oRQjMqRNFgYj10KRMDOpEUSBiPTQpE9MvUaLkfB3JT8R6aFImBvUoYMUDBbtmZ1ubhA+sF/jBT2Fj9YvMWPFAbu57AfBds1MC0LdPL1z+3/ee/fzgJ7dQ4hpz6jIScQY4Cl+gSdn69ukFAF4BHVDv1K8UW0y/yIjL0FFHHSdlS75Jj//7/6x+j2WpI4WDQV1GWqh4YAdw6G6sh6462wS70xXwWH7wU6gY1GUkesUDO4C7Twsf/BRdsubUV65ciXHjxqFPnz7o27dvUOcsXLgQOp3Oaxs7dqyczZSNiDPAuYm2BFisiP7BT9Ena1BvaWnBnDlzsGjRopDOmzZtGmw2m2fbs2ePTC2Ul4gzwAHsAI4kkT/4KTZkDeorVqzA4sWLcffdd4d0nl6vh8lk8mz9+qn3hhZxGToOeY8cUT/4KXYUmVM/cOAAUlJS0LdvX4wfPx4rV65ESkpKrJsVNtGWoWMeOLJEm/qVYktxQT0nJwdz5szBwIEDUVdXhz/84Q+YNGkSjhw5Ar1e73O8y+WCy/Vj9YDT6Yxmc4MmygxwAPPAchDtg59iJ+T0S3FxsU9HZseturo67AbNnTsXM2bMQEZGBnJzc/Hhhx/i888/x+7du/0eb7FYYDAYPFtaWlrYv5uCwzywPNwf/DPvvQVZg/szoFNYQn5Sz8/Px7x58zo9ZtCgQeG2x4fZbMbAgQPxxRdf+P15UVERCgsLPa+dTicDu8zceeBFpUc9Q9zdmAcmiq2Qg3pycjKSk5PlaItfTU1NaGhogNnsP6+o1+v9pmVIXswDEymTrDn1+vp6fPPNN6ivr0drayusVisA4Pbbb8dNN90EABg6dCgsFgtmzZqFK1euoLi4GLNnz4bZbMa5c+ewbNkyJCcnY9asWXI2lcLAPDCR8sga1F944QW89dZbntcjR44EAOzfvx8TJkwAANTW1sLhcAAA4uLicOLECbz99tu4fPkyzGYzJk6ciG3btiExMVHOplKYROoAJhIBp94lIlI4Tr1LRKRRDOpERAJhUCciEgiDOhGRQBjUiYgEori5X0ibuIISUWQwqFPMcQUloshh+oViiisoEUUWgzp1S2ubhKqzTfjAegFVZ5tCWu2IKygRRR7TLxS27qZNQllBiVMREAWHT+oUlkikTbiCElHkMahTyCKVNuEKSkSRx6BOIYvUwtNcQYko8hjUKWSRSpu4V1AC4BPYuYISUXgY1ClkkUybuFdQMhm8jzUZ4lHy6CjWqROFiNUvFDJ32sTuuOY3r65De1AONm3CFZSIIodBnUImx8LTXEGJKDKYfqGwMG1CpEx8UqewMW1CpDwM6hoVqVkRmTYhUhYGdQ3irIhE4mJOXWM4KyKR2BjUNYSzInrrzgyTRErF9IuGcFbEHzEFRaLik7qGcFbEdkxBkcgY1DWEsyIyBUXiky2onzt3Do8//jjS09ORkJCAwYMHY/ny5Whpaen0PEmSUFxcjNTUVCQkJGDChAk4deqUXM3UFM6KGLkZJomUSragfubMGbS1tWHjxo04deoU/vKXv2DDhg1YtmxZp+e98sorWL16NdatW4fDhw/DZDJhypQpaG5ulqupmsFZEZmCIvHpJEmK2vfMP/3pTygpKcFXX33l9+eSJCE1NRUFBQVYunQpAMDlcsFoNGLVqlV46qmnuvwdTqcTBoMBDocDSUlJEW2/KLTcSVh1tgkPb/6ky+PefXKs8J3FpB6hxLWoVr84HA706xf4q31dXR3sdjuys7M9+/R6PcaPH49Dhw75Deoulwsul8vz2ul0RrbRAtLy8P5IzzBJpDRR6yg9e/Ys/va3vyEvLy/gMXa7HQBgNBq99huNRs/POrJYLDAYDJ4tLS0tco0WmHt4/8x7b0HW4P6aCOgAU1AkvpCDenFxMXQ6XadbdXW11zkXL17EtGnTMGfOHDzxxBNd/g6dzvsPSpIkn31uRUVFcDgcnq2hoSHUSyKN4QyTJLKQ0y/5+fmYN29ep8cMGjTI898XL17ExIkTkZWVhU2bNnV6nslkAtD+xG42//iH1djY6PP07qbX66HX64NsPVE7LaegSGwhB/Xk5GQkJycHdeyFCxcwceJEZGZm4o033kCPHp1/MUhPT4fJZEJFRQVGjhwJAGhpaUFlZSVWrVoValOJOsUZJklEsuXUL168iAkTJiAtLQ2vvvoqvv76a9jtdp/c+NChQ7Fjxw4A7WmXgoICvPTSS9ixYwdOnjyJhQsXok+fPnjkkUfkaioRkTBkq34pLy/Hl19+iS+//BK33nqr189urKKsra2Fw+HwvH7++efx3Xff4emnn8a3336LMWPGoLy8HImJiXI1lYhIGFGtU48G1qkTkWhCiWuc+4WISCAM6kREAmFQJyISiHCLZLi7CDhdABGJwh3PgukCFS6ou2dz5HQBRCSa5uZmGAyGTo8Rrvqlra0NFy9eRGJiYsCpBQJxOp1IS0tDQ0ODJipntHS9WrpWgNcrGkmS0NzcjNTU1C4HcQr3pN6jRw+fuvhQJSUlCXljBKKl69XStQK8XpF09YTuxo5SIiKBMKgTEQmEQf0Ger0ey5cv18ysj1q6Xi1dK8Dr1TLhOkqJiLSMT+pERAJhUCciEgiDOhGRQBjUiYgEwqD+g/Xr1yM9PR3x8fHIzMzERx99FOsmRcTBgweRm5uL1NRU6HQ6vP/++14/lyQJxcXFSE1NRUJCAiZMmIBTp07FprERYLFY8LOf/QyJiYlISUnBQw89hNraWq9jRLrmkpIS3HPPPZ5BN1lZWfjwww89PxfpWjuyWCye1dLcRL7eYDGoA9i2bRsKCgrwu9/9DseOHcPPf/5z5OTkoL6+PtZN67arV69ixIgRWLdund+fv/LKK1i9ejXWrVuHw4cPw2QyYcqUKZ45dNSmsrISzzzzDD755BNUVFTg+vXryM7OxtWrVz3HiHTNt956K15++WVUV1ejuroakyZNwsyZMz2BTKRrvdHhw4exadMm3HPPPV77Rb3ekEgk3XfffVJeXp7XvqFDh0q//e1vY9QieQCQduzY4Xnd1tYmmUwm6eWXX/bsu3btmmQwGKQNGzbEoIWR19jYKAGQKisrJUnSxjX/9Kc/lV5//XVhr7W5uVm64447pIqKCmn8+PHSc889J0mSNv5tg6H5J/WWlhYcOXIE2dnZXvuzs7Nx6NChGLUqOurq6mC3272uXa/XY/z48cJcu3v92379+gEQ+5pbW1vx3nvv4erVq8jKyhL2Wp955hnMmDEDv/jFL7z2i3q9oRJuQq9QXbp0Ca2trTAajV77jUYj7HZ7jFoVHe7r83ft58+fj0WTIkqSJBQWFuKBBx5ARkYGADGv+cSJE8jKysK1a9dw0003YceOHRg2bJgnkIl0re+99x6OHj2Kw4cP+/xMxH/bcGg+qLt1nKZXkqSQp+5VK1GvPT8/H8ePH8fHH3/s8zORrnnIkCGwWq24fPkyysrKsGDBAlRWVnp+Lsq1NjQ04LnnnkN5eTni4+MDHifK9YZL8+mX5ORkxMXF+TyVNzY2+nzii8ZkMgGAkNf+7LPPYufOndi/f7/XVMwiXnPv3r1x++23Y/To0bBYLBgxYgT++te/CnetR44cQWNjIzIzM9GzZ0/07NkTlZWVWLt2LXr27Om5JlGuN1yaD+q9e/dGZmYmKioqvPZXVFRg3LhxMWpVdKSnp8NkMnlde0tLCyorK1V77ZIkIT8/H9u3b8e+ffuQnp7u9XMRr7kjSZLgcrmEu9bJkyfjxIkTsFqtnm306NH45S9/CavVittuu02o6w1b7PpoleO9996TevXqJW3ZskU6ffq0VFBQIP3kJz+Rzp07F+umdVtzc7N07Ngx6dixYxIAafXq1dKxY8ek8+fPS5IkSS+//LJkMBik7du3SydOnJAefvhhyWw2S06nM8YtD8+iRYskg8EgHThwQLLZbJ7tf//7n+cYka65qKhIOnjwoFRXVycdP35cWrZsmdSjRw+pvLxckiSxrtWfG6tfJEn86w0Gg/oPXnvtNWngwIFS7969pVGjRnlK4NRu//79EgCfbcGCBZIktZeBLV++XDKZTJJer5cefPBB6cSJE7FtdDf4u1YA0htvvOE5RqRr/tWvfuW5b2+++WZp8uTJnoAuSWJdqz8dg7ro1xsMTr1LRCQQzefUiYhEwqBORCQQBnUiIoEwqBMRCYRBnYhIIAzqREQCYVAnIhIIgzoRkUAY1ImIBMKgTkQkEAZ1IiKBMKgTEQnk/wNvSiDAqxt2VgAAAABJRU5ErkJggg==",
      "text/plain": [
       "<Figure size 400x400 with 1 Axes>"
      ]
     },
     "metadata": {},
     "output_type": "display_data"
    },
    {
     "data": {
      "image/png": "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",
      "text/plain": [
       "<Figure size 640x480 with 2 Axes>"
      ]
     },
     "metadata": {},
     "output_type": "display_data"
    }
   ],
   "source": [
    "\n",
    "import matplotlib.pyplot as plt\n",
    "import matplotlib as mpl\n",
    "import random \n",
    "import numpy as np\n",
    "\n",
    "#create base plot \n",
    "fig = plt.Figure()\n",
    "\n",
    "#create bigger plot \n",
    "fig = plt.Figure(figsize=(9.6,9.6))\n",
    "\n",
    "#adding data to the plot \n",
    "np.random.seed(42)\n",
    "#setting a rng to get values \n",
    "groups = [\"a\", \"b\", \"c\"]\n",
    "group_data = [random.choice(groups) for x in range(50)]\n",
    "var_data = np.random.randn(50) # make 50 random floats \n",
    "int_data = np.random.randint(0, 50, 50)\n",
    "\n",
    "x = var_data\n",
    "y = int_data\n",
    "\n",
    "plot_data = {\"groups\": group_data, \"vars\": var_data, \"counts\": int_data}\n",
    "\n",
    "fig, ax = plt.subplots(figsize=(4, 4))\n",
    "fig, ax = plt.subplots(figsize=(4, 4))\n",
    "ax.scatter(plot_data[\"counts\"], plot_data[\"vars\"])\n",
    "plt.show()\n",
    "\n",
    "# Basic color name\n",
    "plt.scatter(x, y, c='red', label='Red dots')\n",
    "\n",
    "# Hex color code\n",
    "plt.scatter(x + 1, y, c='#00ff00', label='Green dots')\n",
    "\n",
    "# RGB tuple (values between 0 and 1)\n",
    "plt.scatter(x + 2, y, c=[(0, 0, 1)], label='Blue dots')\n",
    "\n",
    "# Color map\n",
    "colors = y  # Using y values for color intensity\n",
    "plt.scatter(x + 3, y, c=colors, cmap='viridis', label='Colormap')\n",
    "\n",
    "# Add labels and legend\n",
    "plt.xlabel('X-axis')\n",
    "plt.ylabel('Y-axis')\n",
    "plt.title('Scatter Plot with Different Colors')\n",
    "plt.legend()\n",
    "plt.colorbar(label='Color intensity')\n",
    "\n",
    "plt.show()"
   ]
  },
  {
   "cell_type": "code",
   "execution_count": 108,
   "id": "f659d6f5-e3f7-4a4a-98f2-cca224d9bb0b",
   "metadata": {},
   "outputs": [
    {
     "data": {
      "image/png": "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",
      "text/plain": [
       "<Figure size 400x200 with 1 Axes>"
      ]
     },
     "metadata": {},
     "output_type": "display_data"
    }
   ],
   "source": [
    "# making a histogram \n",
    "fig, ax = plt.subplots(figsize=(4, 2))\n",
    "ax.hist(plot_data[\"vars\"], bins=10)\n",
    "plt.show()"
   ]
  },
  {
   "cell_type": "code",
   "execution_count": 110,
   "id": "f113a24a-4565-4e9c-86a6-77e780be4e83",
   "metadata": {},
   "outputs": [],
   "source": [
    "#homework for whs 3 \n",
    "#You have been provided with a file containing some \n",
    "#data on different homologs of RAS genes. \n",
    "#Use what you have learn't so far to read this file into \n",
    "#Python and create some plots to explore the data. \n",
    "#I want you to create a multi-panel plot containing a boxplot, histogram and scatter plot of the data. Each group level must have a different colour,\n",
    "#and the scatter plot axes must be on a log scale."
   ]
  },
  {
   "cell_type": "code",
   "execution_count": 122,
   "id": "30114bdc-1e28-41db-b751-86ffdd549a70",
   "metadata": {},
   "outputs": [],
   "source": [
    "#OPENING A FILE \n",
    "try: \n",
    "    with open('RAS_gene_data.txt', 'r') as file: \n",
    "        data = file.read()\n",
    "except FileNotFoundError:\n",
    "    print(\"fuck\")\n",
    "except PermissionError:\n",
    "    print(\"nonono\")"
   ]
  },
  {
   "cell_type": "code",
   "execution_count": 118,
   "id": "d88cdcf2-5eab-4bd2-b7d8-51a9554dfe51",
   "metadata": {},
   "outputs": [
    {
     "name": "stdout",
     "output_type": "stream",
     "text": [
      "C:\\Users\\kaitl\\OneDrive\n"
     ]
    }
   ],
   "source": [
    "import os\n",
    "print(os.getcwd())"
   ]
  },
  {
   "cell_type": "code",
   "execution_count": 120,
   "id": "15355858-be17-4ae3-b5eb-0d98f69c8f54",
   "metadata": {},
   "outputs": [
    {
     "name": "stdout",
     "output_type": "stream",
     "text": [
      "['.849C9593-D756-4E56-8D6E-42412F2A707B', '.ipynb_checkpoints', 'atlas_is_learning.ipynb', 'Attachments', 'Desktop', 'desktop.ini', 'Documents', 'Getting started with OneDrive.pdf', 'Personal Vault.lnk', 'Pictures', 'RAS_gene_data.txt', 'TOPIC 4 ASSESSMENT 52318936.docx']\n"
     ]
    }
   ],
   "source": [
    "print(os.listdir())"
   ]
  },
  {
   "cell_type": "code",
   "execution_count": 140,
   "id": "37c9fd27-e674-4adb-9efd-48af42e709b6",
   "metadata": {},
   "outputs": [
    {
     "name": "stdout",
     "output_type": "stream",
     "text": [
      "RNA_gene_data.txt\n",
      "Data contents: species\tsequence\tgene\tseqid\tGC\tAA\tSer.Thr.Count\n",
      "Rattus.norvegicus\tGCCGTTCATGGCGGTTTCGGGGTCTCCAACAGCTTCTCAGGTTGAAATCCAAAAGCCTCCCGAGGCGGGGTCTGCGGAGTTTGAGATTTTTGCAGGTGTGAAATGACTGAGTACAAACTGGTGGTGGTTGGAGCAGGTGGCGTTGGGAAAAGTGCTTTGACAATCCAGCTAATCCAGAACCACTTTGTGGATGAATATGATCCCACCATAGAGGATTCTTACCGAAAACAAGTGGTGATTGACGGTGAGACCTGTCTACTGGACATACTGGACACAGCTGGACAAGAGGAGTACAGTGCCATGAGAGACCAATACATGAGGACAGGCGAAGGGTTCCTCTGTGTGTTTGCCATCAATAATAGCAAATCCTTTGCAGATATTAACCTCTACAGGGAGCAAATTAAGCGCGTGAAAGACTCTGATGATGTACCCATGGTGCTGGTAGGGAACAAGTGTGACTTGCCAACAAGGACAGTTGACACAAAGCAAGCCCACGAGCTGGCCAAGAGTTATGGAATTCCATTCATTGAAACCTCAGCCAAGACCCGACAGGGTGTGGAGGATGCCTTTTACACGCTTGTAAGGGAGATACGCCAGTACCGGATGAAGAAGCTCAACAGCAGTGAGGATGGCACTCAAGGCTGTATGGGGCTGCCCTGTGTGGTGATGTAGTAAGACCCTTTAAAAGTTCTGTCATCAGAAACGAGCCACTTTCAAGCCTCACTGATGCCCTGGTTCTGACATCCCTGGAGGAGACGTGTTTCTGCTGCTCTCTGCATCTCAGAGAAGCTCCTGCTTCCTGCTTCCCCAACTTAGTTACTGAGCACAGCCATCTAACCTGAGACCTCTTCAGAATAACTACCTCCTCACTCGGCTGTCCGACCAGAGAAATGAACCTGTTTCTCCCCAGTAGTTCTCTGCCCTGGGTTTCCCCTAGAAACAAACACACCTGCCAGCTGGCTTTGTCCTCCGAAAAGCAGTTTACATTGATGCAGAGAACCAAACTATAGACAAGCAATTCTGTTGTCAACAGTTTCTTAAGCTCTAAGGTAACAATTGCTGGTGATTTCCCCCTTTGCCCCCAACTGTTGAACTTGGCCTTGTTAGTTTTGGGGGAAATGTCAAAAATTAATCTCTTCCCGAGAATAGAATTAGTGTTGCTGATTGCCTGATTTGCAATGTGATCAGCTATATTCTATAAGCTGGCGTCTGCTCTGTATTCATAAATGCAAACATGAGTACTGACGTAAGTGCATCCCTAGTCTTCTCAGCTGCATGCAATTAAATCCAACGTTCACAACAAAAAAAAAAAAAAAAAAAAAAAAA\tNRAS\tNM_080766.2\t0.4660633484162896\tVPMVLVGNKCDLPTRTVDTKQAHELAKSYGIPFIETSAKTRQGVEDAFYTLVREIRQYRMKKLNSSEDGTQGCMGLPCVVM*\t11\n",
      "Mus.musculus\tCCTCCCGCGCGCGCGGCCGAGGCAGCGCGGAGCACCGAGCGCATCGATCGGCCTGCTCTGCGGCCGCCCGCCCGCCTGCCGGGCCCATCGCGCACTCCGGGCTCGATTCGGCAGGCGGCGGCCGCGGCGGCTGAGGCGGCAGCGCTGTGGCGGCGGCTGAGACGGCAGGGGAAGGCGGCGGCGGCTCGGCCCGGAGTCCCGCTCCCGCGCCATTTCGGACCCGGAGCGAGCGCGGCGCGGGCCTGAAGGCGGCGGCGGGAGCCTGAGGCGCGGCGGCTCCGCGGCGCGGAGAGAGGCCTGCTGAAAATGACTGAGTATAAACTTGTGGTGGTTGGAGCTGGTGGCGTAGGCAAGAGCGCCTTGACGATACAGCTAATTCAGAATCACTTTGTGGATGAGTATGACCCTACGATAGAGGACTCCTACAGGAAACAAGTAGTAATTGATGGAGAAACCTGTCTCTTGGATATTCTCGACACAGCAGGTCAAGAGGAGTACAGTGCAATGAGGGACCAGTACATGAGAACTGGGGAGGGCTTTCTTTGTGTATTTGCCATAAATAATACTAAATCATTTGAAGATATTCACCATTATAGAGAACAAATTAAAAGAGTAAAGGACTCTGAAGATGTGCCTATGGTCCTGGTAGGGAATAAGTGTGATTTGCCTTCTAGAACAGTAGACACGAAACAGGCTCAGGAGTTAGCAAGGAGTTACGGGATTCCGTTCATTGAGACCTCAGCAAAGACAAGACAGAGAGTGGAGGATGCTTTTTATACATTGGTGAGAGAGATCCGACAGTACAGATTGAAAAAAATCAGCAAAGAAGAAAAGACTCCTGGCTGTGTGAAAATTAAAAAATGCGTTATAATGGGTGTTGACGATGCCTTCTATACATTAGTCCGAGAAATTCGAAAACATAAAGAAAAGATGAGCAAAGATGGGAAGAAGAAGAAGAAGAAGTCAAGGACAAGGTGTACAGTTATGTGAATACTTTGTACTCTTTCTTAAGGCACACTTAAGTAAAAGTGTGATTTTTGTACATTACACTAAATTATTAGCATTTGTTTTAGCATTACCTAATCTTTTTTTTTCTTCTGTTCGTGCAAACTGTCAGCTTTTATCTCAAATGCTTATTTTAAAAGAACAGTGGAAACCTTCTTTTTTCTAAGTGCCAGTATTCCCTGGGTTTTGGACTTAAACTAGCAATGCCTGTGGAAGAGACTAAAGACCTGAGACTCTGTCTTGGGATTTGGTGCATGCAGTTGATTCCTTGCTAGTTCTCTTACCAACTGTGAACACTGATGGGAAGCAGGATAATGAAGCTTCCGGACCATCCCTGCTCTGTGTCCATCTACTCATCCAATGGAGTCATTAGCAGTCAATCGCCGCTTCACTGGACACTGAGGGGTCACAGACTTAGGCTCCCTTTGAGTCGCGTCCAGCGTGTCCTAGACTTTATCATCTTTCAGAGGCGTAGGCAGACTGTTCACAAAGGCTTTCTGTAGCTTTCCACTGCAATTAATCTTGGTCACTCCCTCAAATAGTATATTTTTTCTAGAAAAGGGGAAAAATGGAAAAAAAAAGGCAATGGAAAATGTTGAAATCCATTCAGTTTCCATGTTAGCTAAATTACTGTAAGATTCCTATAATAGCTTTTCCTGGTAAGGCAGACCCAGTATGAAATAGTAATAACCATTTGGGCTATATTTACATGCTACTAAATTTTTGTAATAATTCAAACAACTTTAGCATATATAAAAAGTTCTCATAAGAATTAAGTACAATTCCCCTTTGTCAGATTGTTCTTATCCTAACTTTCAAGTCTTTTTTGAATTTCTGTTGTTGAAAGTAGTTTTAATGGTTGTGAAGCTGAAGATGATCTGAGACAGTTATAGCTTGGCAGGTGTTGAGGAGACCAGAGTTGCAGGGTTGGGCCTTACGTGAACCTGTGACGAACGCTACTGGGTTTTGCAGCACTGCTGCATTCAATGTTGGCGACGCATTGTTTGGTCAACATAGGGGATAAGGAGACTTTGATGGCTTAGTATAATGCATTCTCACCATGTAACAGTCCTACTGACAAATCAAGAAATTTGTTTATAATAATAAAAAATTTTTAAAAATTTCGATGTTCGCTTCAAGGTTGAGATTTTGGGGTAGGAGGCTACAACAAGAGTAAATCTTAAAGCAAGGTTTTAAGAAGGTTTGAAAATGCAGGTTTGACTAGTCTCTCAACTCTAGCTAAACAAACATTCCCAAGTACTTCCCAAATCTGATAGGTATTTAAAATTATCTAATGCTTTAAGAATAGTTAACAGGAAAAAAATCTCCTCAGTGCACTTAAAGCAACCCTTCACATCATTTGAAATGAGATGGAAATATCACTGGACTATGAGGACTGGATGTCTGTCTGATTTTAAGCAAATCACTGTCTGCTTGGTTTTGAATCATCTCAAAGACATTAACCTCCCAGCCGTGTAACATAGTTTACATGTTGACACACCTAGTTATCAAGCTCAGCACAATCTGTAACTGTTTTACATGGATTAACATCTTCACTGCCAGTCTTGGGCAAATTGTGCAAGAGGTAAAATTTATATTTCAGTATCCATTCTCCCATTTCAGGACTCCCCTCCAACATTATGCTGGCTTTCAGCCTGTCTCTCACCTGCCCATCACTTAGTGTAGTTTTAATAATTTCCCCCACTTCAAACTTTGTTTCCACTATGGACAACTTCATGAACTTTGCCCACTAAGGTAGGTACATCAAAGCTGCCCTATGGCTTTCTTCCCCGGGACTGAAAATAACAGACACCATAGTGGGATTTAAACTAATAGATGGTTTTCAGGGCCACTACAACAATTCAATCTCAATCCTTTGGACTTCATTCCTGCTGCCCAGGCCACTGGTGCCTCAGTAGGAATTTTCAAAATTAGTGTGAACAGACAGAGCACAGTCCAGTGGAAGGTGAGCTTAATCTTCATCTAGCCATCATCATGGTAAGTGATAGATTCTATTGTTTTAATAAATACAGTCTAACAATGAAAAACACTTCGAAGTTTCAATCATAAAGCTGTCTTTTTAAAAATTTTATTTACTCAACATTTATTCAGTGCTTGTCATATTCTGGGAATTACACTAGGCACTCAGGGTGCGGTGTCCTCAATCCTTGGCCAGTGGTATGTAGCATGATCTGTAATACCACTAAATAAGGCATATAGCATATGACTTAGACATAATGAAATACATGATTTGAGTTTTGCAGAGAGGAGTTTGGGTTTGTACATTCCCTTCCCCCCCAGTTTAGCAAGAATTGTTTGCTGTGAATCCAATGCAACTTTTAAATCAAACTACTTTATATAATTATTTCATTTTTCTAAAGGAACAGAAGTACCCTAAACTATTTTTTTGAAATGTTCTAAACTGTACATATTCATAGAACATTCTTTGGGTGAATTTTAAGTCTTAAAATGCAATTAGTAATACTTCTCATTTCTATTCAGAGGAACAGGTGTACTTCAAAAGCTGCAGTGTATAATCAGATATTTTTAATGGACAATGTGTTAAAGAAGTGGTAATTACCACTATGTAAATTTGAATTGTGTTACACTTTGGTTAACAAAAGGGGAAAGAATCCTAGAAACAAATATGTTATCTAGTTACTGCAGCCTTAAAGTCCTTGTTGAAGTTAAAAAGCAATGCTAAGTTACAGTCATAGGCATTAACATGTTTATGGGAAGGATATAGTAGGCAAATACAATTTGAGTAAATATTTTCAGTAGGGAATTTTAGGCTCTACTGACTGAGTCACACTGCATAGGAATTTAGATCTTAACTTTTATAGGTTATCGACCTTTGCCACCATTGCACAATTTTGTCCTAACATAAATACAAGTTCTGTGAGGCATGTCAAAAGTTACAGTTTGCATAAATTCATCTCATTTTGTATTCCACTGATTTTACATTTTCCTCAAACATACATACATACATACATACAACACACACACACTCACACATGAAGGGTTTTTTTTTTGTAGGCAATAAAAATTTAACTAATTTCCATTTGTTAAAAAGTAGTGATTTATTGAGAATTATGCAGTCATTTTTTAAACCCAAAAGTTATTTAAAGGTGAATTTATACTCAATAACTTCTGTGTAATACTGGGTAGCATGAATTCTGCATTGAAAAATTGAACAGATAATACCAATAGCTGTAAATTCTGTCAAAACATGAAAATTATTTCTAAAGAAGTACATTAGTTTTCAAAGAACAGTTATTAGAATCAGATCTGTGGTTTAGTTCAATAATTTGAAGTGCCTGTTTGGGATGGTGGTAGGCATTTTAGATGAATTTGGGAAAAATAAAGTTCTGCAGAAATGCCAGTTTCAGACCCCGCTAACCCGCTGAGTGGGCTGTGTGCTGTGTTAGCTCCAGTGCCCCAATCCCGTTTCATGTCTTCATGTTGAAACACTTCTGCATTTTTATTTGAGTGCCAATTTCTTACTAGTGCTATTTCTTAGTGTAACATGTTTACCTGGGATGTATTTTAACTATTTTTGTATAGTGTAAACTGAAACATGCACATTTTGTACATTGTGCTTTCCTTCTTTCCATTCCTTTTCTTTCTGTTTTGTTTGTTTGTTTGTTTGTTTGTTTGTTATGGGACATATGCAGTGTGATCCAGTTGTTTTCCATCCTTTGGTTGCGCTGACCTAGGGAATGTTGGTCATATCAAACATTAAATTTAAAAGTGACCACTCTTAATTAAAATTAACTTTTAAATGTTTATAGGAGTACGTGCTGTGAAGTGATCTGAAATTTGTAATATTTTTGTCATGAACCGTACTGCTCCTAATCATTGTAATGTAATAAAAATAGTTATGGTGACTATGAA\tKRAS\tXM_006506919.5\t0.392733210859359\tGETCLLDILDTAGQEEYSAMRDQYMRTGEGFLCVFAINNTKSFEDIHHYREQIKRVKDSEDVPMVLVGNKCDLPSRTVDTKQAQELARSYGIPFIETSAKTRQRVEDAFYTLVREIRQYRLKKISKEEKTPGCVKIKKCVIMGVDDAFYTLVREIRKHKEKMSKDGKKKKKKSRTRCTVM*\t22\n",
      "Rattus.norvegicus\tGCCCGGCGCCCGCAGCCCGAGCCGCACCCGCCGCGGACGGAGCCCATGCGCGGGCCCAGTCGGCGCCCGTCCGCGCCCCCGCCCTGCCCCGGCCCCGGCCCCGGGGGCAGTCGCGCCAGCAAGCGGTGGGGCAGGAGCTCCTGGTTTGGCAGCCCCTGTAGAAGCGATGACAGAATACAAGCTTGTGGTGGTGGGCGCTGGAGGCGTGGGAAAGAGTGCCCTGACCATCCAGCTGATCCAGAACCATTTTGTGGACGAGTATGATCCCACTATAGAGGACTCCTACCGGAAACAGGTAGTCATTGATGGGGAGACGTGTTTACTGGACATCTTAGACACAGCAGGTCAAGAAGAGTATAGTGCCATGCGGGACCAGTACATGCGCACAGGGGAGGGCTTCCTCTGTGTATTTGCCATCAACAACACCAAGTCCTTTGAAGACATCCATCAGTACAGGGAGCAGATCAAGCGGGTGAAAGATTCAGATGATGTGCCAATGGTGCTGGTGGGCAACAAGTGTGACCTGGCCGCTCGCACTGTTGAGTCTCGGCAGGCCCAGGACCTTGCTCGCAGCTATGGCATCCCCTACATTGAAACATCAGCCAAGACCCGGCAGGGTGTGGAGGATGCCTTCTACACACTAGTACGTGAGATTCGGCAGCATAAACTGCGGAAACTGAACCCGCCTGATGAGAGTGGCCCTGGCTGCATGAGCTGCAAGTGTGTGCTGTCCTGACACCAGGCTCAGGACGAGGAGGTGCCGGATGCAGGGAGGAGGTGCTGTCGGAAGGAAGGAAAGAGGAGGGAAGGAAGGAAACGATGCTGGAGCCAGTCCAGTCCAGGGATGGTGGACAGATGTGACCAAGACCTTCGCATGGACAATTTGAACAGACTGTCATGAACTATCCCTGTTGCCACTGGCACCCAAGTCCTCCGCCCCTCTCAGCTCCCTTGGGCGCCTATGAGGGCACATGTTGAATCACAGTAAATTATTTGATGGTCTTGACTTGTCTCTGGCTGGAAGTAGGAGGTGTAGTGCCTGTGGCCTCACAGAAGATACTGGGGACCTGGGATCTATCATCTGCCTTGTTCCTGTTTCTAGAAGAGGCTGGGGAGGCTGGCCTGGGACCTGGGACTGTGCAGCCCTTCTCTTCTGCCTGCCTCAACTGTCTTGTGTTTCCTGCAGAAAGTTATAAATAACACAAGAATAGTCAGGTGATATGAAAAAAAAAAAAAAAAAAAAAAA\tHRAS\tNM_001130441.1\t0.5617977528089888\tCAGPVGARPRPRPAPAPAPGAVAPASGGAGAPGLAAPVEAMTEYKLVVVGAGGVGKSALTIQLIQNHFVDEYDPTIEDSYRKQVVIDGETCLLDILDTAGQEEYSAMRDQYMRTGEGFLCVFAINNTKSFEDIHQYREQIKRVKDSDDVPMVLVGNKCDLAARTVESRQAQDLARSYGIPYIETSAKTRQGVEDAFYTLVREIRQHKLRKLNPPDESGPGCMSCKCVLS*\t23\n",
      "Pan.troglodytes\tCCGGGGCGGGGACTCAGGCGCCTGGGGCGCCGACTGATTACGTAGCGGGCGGGGCCGGAAGTGCCGCTCCTTGGTGGGGGCTGTTCATGGCGGTTCCGGGGTCTCCAACATTTTTCCCGGCTGTGGTCCTAAATCTGTCCAAAGCAGAGGCAGTGGAGCTTGAGGTTCTTGCTGGTGTGAAATGACTGAGTACAAACTGGTGGTGGTTGGAGCAGGTGGTGTTGGGAAAAGCGCACTGACAATCCAGCTAATCCAGAACCACTTTGTAGATGAATATGATCCCACCATAGAGGATTCTTACAGAAAACAAGTGGTTATAGATGGTGAAACCTGTTTGTTGGACATACTGGATACAGCTGGACAAGAAGAGTACAGTGCCATGAGAGACCAATACATGAGGACAGGCGAAGGCTTCCTCTGTGTATTTGCCATCAATAATAGCAAGTCATTTGCAGATATTAACCTCTACAGGGAGCAGATTAAGCGAGTAAAAGACTCGGATGATGTACCTATGGTGCTAGTGGGAAACAAGTGTGATTTGCCAACAAGGACAGTTGATACAAAACAAGCCCACGAACTGGCCAAGAGTTACGGGATTCCATTCATTGAAACCTCAGCCAAGACCAGACAGGGTGTTGAAGATGCTTTTTACACACTGGTAAGAGAAATACGCCAGTACCGAATGAAAAAACTCAACAGCAGTGATGATGGGACTCAGGGTTGTATGGGATTGCCATGTGTGGTGATGTAACAAGATACTTTTAAAGTTTTGTCAGAAAAGAGCCACTTTCAAGCTGCACTGACACCCTGGTCCTGACTTCCCTGGAGGAGAAGTATTCCTGTTGCTATCTTCAGTCTCACAGAGAAGCTCCTGCTACTTCCCCAGCTCTCAGTAGTTTAGTACAATAATCTCTATTTGAGAAGTTCTCAGAATAACTACCTCCTCACTTGGCTGTCTGACCAGAGAATGCACCTCTTGTTACTCCCTGTTATTTTTCTGCCCTGGGTTCTTCCACAGCACAAACACACCTCTGCCACCCCAGGTTTTTCATCTGAAAAGCAGTTCATGTCTGAAACAGAGAACCAAACCGCAAACGTGAAATTCTATTGAAAATAGTGTCTTGAGCTCTAAAGTAGCAACTGCTGGTGATTTTTTTTTTCTTTTTACTGTTGAACTTAGAACTATGCTAATTTTTGGAGAAATGTCATAAATTACTGTTTTGCCAAGAATATAGTTATTATTGCTGTTTGGTTTGTTTATAATGTTATCGGCTCTATTCTCTAAACTGGCATCTGCTCTAGATTCATAAATACAAAAATGAATACTGAATTTTGAGTCTATCCTAGTCTTCACAACTTTGACGTAATTAAATCCAACTTTCACAGTGAAGTGCCTTTTTCCTAGAAGTGGTTTGTAGACTTCCTTTATAATATTTCAGTGGAATAGATGTCTCAAAAATCCTTATGCATGAAATGAATGTCTGAGATACGTCTGTGACTTATCTACCATTGAAGGAAAGCTATATCTATTTGAGAGCAGATGCCATTTTGTACATGTATGAAATTGGTTTTCCAGAAGCCTGTTTTGGGGCTTTCCCAGGAGAAAGATGAAACTGAAAGCATATGAATAATTTCACTTAATTTTTACCTAATCTCCACTTTTTTCATAGGTTACTGCCTATACAATGTATGTAATTTGTTTCCCCTAGCTTACTGATAAACCTAATATTCAATGAACTTCCATTTGTATTCAAATTTGTGTCATACCAGAAAGCTCTGCATTTGCAGATGTTCAAATATTGTAAAACTTTGGTGCATTGTTATTTAATAGCTGTGATCAGTGATTTTCAAACCTCAAATATAGTATATTAACAAATTACATTTTCACTGTATATCATGGTATCTTAATGATGTATATAATTGCCCTCAATCCCCTTCTCACCCCACCCTCTACAGCTTCCCCCACAGCAATAGGGGCTTGATTATTTCAGTTGAGTAAAGCATGGTGCTAATGGACCAGGGTCACAGTTTCAAAACTTGAACAATCCAGTTAGCATCACAGAGAAAGAAATTCTTCTGCATTTGCTCATTGCACCAGTAACTCCAGCTAGTAATTTTGCTAGGTAGCTGCAGTTAGCCCTGCAAGGAAAGAAGAGGTCAGTTAGCACAAACCCTTTACCATGACTGGAAAACTCAGTATCACGTATTTAAACATTTTTTTTTCTTTTAGCCATGTAGAAACTCTAAATTAAGCCAATATTCTCATTTGAGAATGAGGATGTCTCAGCTGAAAAACGTTTTAAATTCTTTTTATTCATAATGTTCTTTGAAGGGTTTAAAACAAGATGTTGATAAATCTAAGCTGATGAGTTTGCTCAAAACAGGAAGTTGAAATTGTTGAGACAGGAATGGAAAATATAATTAATTGATACCTATGAGGATTTGGAGGCTTGGCATTTTAATTTGCAGATAATACCCTGGTAATTCTCATGAAAAATAGACTTGGATAACTTTTGATAAAAGACTAATTCCAAAATGGCCACTTTGTTCCTGTCTTTAATATCTAAATACTTACTGAGGTCCTCCATCTTCTATATTATGAATTTTCATTTATTAAGCAAATGTCATATTACCTTGAAATTCAGAAGAGAAGAAACATATACTGTGTCCAGAGTATAATGAACCTGCAGAGTTGTGCTTCTTACTGCTAATTCTGGGAGCTTTCACAGTACTGTCATCATTTGTAAATGGAAATTCTGCTTTTCTGTTTCTGCTCCTTCTGGAGCAGTGTTACTCTGTAATTTTCCTGAGGCTTATCACCTCAGTCATTTTTTTTTAAATGTCTGTGATTGGCAGTGATTCTTTTTCTTAAAAATCTATTAAATTTGATGTCAAATTAGGGAGAAAGATAGTTACTCATCTTGGGCTCTTGTGCCAATAGCCCTTGTATGTATGTACTTAGAGTTTTCCAAGTATGTTCTAAGCACAGAAGTTTCTAAATGGGGCCAAAATTCAGACTTGAGTATGTTCTTTGAATACCTTAAGAAGTTACAATTAGCCGGGCATGGTGGCCCGTGCCTGTAGTCCCAGCTACTTGAGAGGCTGAGGCAGGAGAATCACTTCAACCCAGGAGGTGGAGGTTACAGTGAGCAGAGATCGTGCCACTGCACTCCAGCCTGGGTGACAAGAGAGACTTGTCTCCAAAAAAAAAGTTACACCTAGGTGTGAATTTTGGCACAAAGGAGTGACAAACTTATAGTTAAAAGCCGAATAACTTCAGTGTGGTATAAAACGTGGTTTTTAGGCTATGTTTGTGATTGCTGAAAAGAATTCTAGTTTACCTCAAAATCCTTCTCTTTCCCCAAATTAAGTGCCTGGCCAGCTCTCATAAATTACATATTCCTTTTGGTTTTTTTAAAGGTTACATGTTCAAGAGTGTGAAAATAAGATGTTCTGTCTGAAGGCTACCATGCCGGATCTGTAAATGAACCTGTTAAATGCTGTATTTGCTCCAACAGCTTACTATAGAATGTTACTTAATACAATATCATACTTATTACAATTTTTACTATAGGAGTGTAATAGGTAAAATCAATCTCTATTTTAGTGGGCCCATGTTTAGTCTTTCACCATCCTTTAAACTGCTGTGAATTTTTTTGTCATGACTTGAAAGCAAGGATAGAGAAACACTTTAGAGATATCTGGGTTTTTTAACCATTCCAGAACTTGTGAGCATAATCATATTTGCTTTATATTTATAGTCATGAACTCCTAAGCTGGCAGCTACAACCAAGAACCAAAAAATGGTGCGTTCTGCTTCTTGTAATTCATCTCTGCTAATAAATTATAAGAAGCGAGGAAAATTAGGGAAAATATTTTATTTGGATGGTTTCTATAAACAAGGGACTATAATTCTTGTACATTATTTTTCATCTTTGCTGTTTCTTTGAGCAGTCTAATGTGCCACACAATTATCTAAGGTATTTGTTTTCTATAAGAATTGTTTTAAAAGTATTCTTGTTACCAGAGTAGTTGTATTATATTTCAAAATGTAAGATGATTTTTTAAAGCCTGAGTACTGACCTAAGATGGAATTGTATGAACTCTGCTCTGGAGGGAGGGGAGGATGTCCGTGGAAGTTGTAAGACTTTTATTTTTTTGTGCCATCAAATATAGGTAAAAATAATTGTGCAATTCTGCTGTTTAAACAGGAACTATTGGCCTCCTTGGCCCTAAATGGAAGGGCCGATATTTTAAGTTGATTATTTTATTGTAAATTAATCCAACCTAGTTCTTTTTAATTTGGTTGAATGTTTTTCTTGTTAAATGATGTTTAAAAAATAAAAACTGGAAGTTCTTGGCTTAGTCATAA\tNRAS\tXM_001149822.5\t0.37763037511436415\tVPMVLVGNKCDLPTRTVDTKQAHELAKSYGIPFIETSAKTRQGVEDAFYTLVREIRQYRMKKLNSSDDGTQGCMGLPCVVM*\t11\n",
      "Rattus.norvegicus\tCGGCTGGGGAAGGCGGTGGCGGCGGCTGCTCGGCCCGGAGTCCCGCTCCCGCGCCATTTCGGACCCGGAGCGAGCGCGGCGCCGGCCTGAAGGCGGCGGCGGGAGCCTGAGGCGCGGCGGCTCCGCGGAGCGGAGAGAGGCCTGCTGAAAATGACTGAGTATAAACTTGTGGTAGTTGGAGCTGGTGGCGTAGGCAAGAGTGCCTTGACGATACAGCTAATTCAGAATCACTTTGTGGATGAATATGATCCTACGATAGAGGACTCCTACAGGAAACAAGTAGTAATTGATGGAGAAACCTGTCTCTTGGATATTCTCGACACAGCAGGTCAAGAGGAGTACAGTGCAATGAGGGACCAGTACATGAGAACTGGGGAGGGCTTTCTTTGTGTATTTGCCATAAATAATACTAAATCATTTGAAGATATTCACCATTATAGAGAACAAATTAAAAGAGTAAAGGACTCTGAAGATGTGCCTATGGTCCTAGTAGGGAATAAGTGTGACTTGCCTTCTAGAACAGTAGACACGAAACAGGCTCAGGAGTTAGCAAGGAGTTATGGGATTCCATTCATTGAGACCTCAGCGAAGACAAGACAGAGAGTGGAGGATGCTTTTTATACATTGGTGAGAGAGATCCGACAGTACAGATTGAAAAAAATCAGCAAAGAAGAAAAGACTCCTGGCTGTGTGAAAATTAAAAAATGCGTTATAATGTAATCTGGGTGTTGACGATGCCTTCTATACATTAGTCCGAGAAATTCGAAAACATAAAGAAAAGATGAGCAAAGATGGGAAAAAGAAGAAGAAGAAGTCAAGGACAAGGTGTATAGTCATGTGAATAGTTTGTACTCTTTCTTAA\tKRAS\tXM_039107022.1\t0.46403712296983757\tMTEYKLVVVGAGGVGKSALTIQLIQNHFVDEYDPTIEDSYRKQVVIDGETCLLDILDTAGQEEYSAMRDQYMRTGEGFLCVFAINNTKSFEDIHHYREQIKRVKDSEDVPMVLVGNKCDLPSRTVDTKQAQELARSYGIPFIETSAKTRQRVEDAFYTLVREIRQYRLKKISKEEKTPGCVKIKKCVIM*\t22\n",
      "Mus.musculus\tGCAGCCCGAGCCGCACCCGCCGCGGACGGAGCTCATGCGCGGGCCCAGCCGGCGCCCGTCCGCGCCCCCGCCCTGCCCCGGCCCCGGCCCCGGCCCCGGGGGCAGTCGCGCCAGCAAGCGGTGGGGCAGGAGCTCCTGGATTGGCAGCCGCTGTAGAAGCTATGACAGAATACAAGCTTGTGGTGGTGGGCGCTGGAGGCGTGGGAAAGAGTGCCCTGACCATCCAGCTGATCCAGAACCACTTTGTGGACGAGTATGATCCCACTATAGAGGACTCCTACCGGAAACAGGTGGTCATTGATGGGGAGACATGTCTACTGGACATCTTAGACACAGCAGGTCAAGAAGAGTATAGTGCCATGCGGGACCAGTACATGCGCACAGGGGAGGGCTTCCTCTGTGTATTTGCCATCAACAACACCAAGTCCTTCGAGGACATCCATCAGTACAGGGAGCAGATCAAGCGGGTGAAAGATTCAGATGATGTGCCAATGGTGCTGGTGGGCAACAAGTGTGACCTGGCTGCTCGCACTGTTGAGTCTCGGCAGGCCCAGGACCTTGCTCGCAGCTATGGCATCCCCTACATTGAAACATCAGCCAAGACCCGGCAGGGCGTGGAGGATGCCTTCTATACACTAGTCCGTGAGATTCGGCAGCATAAATTGCGGAAACTGAACCCACCCGATGAGAGTGGTCCTGGCTGCATGAGCTGCAAATGTGTGCTGTCCTGACACCAGGCTCAGGACATGGAGGTGCCGGATGCAGGGAGGAGGTGCCGACGGAAGGAAGGAAAGAGGCGGGAAGGAAGGAAACGGTGCTGGAGCCAGGCCAGTCCAGGGATGGTGGACAGATGTGACCAAGACCTTCGCATGGACAATTTGAACAGACTGTCATGAACTGTCCCTGTTGCCACTGGCACCCAAGTCCTCCACCCCTCTCAGTTCCCTCCGGGCGCCTGCCTGTGAGGGCACACGTTGCATCACAGTAAATTATTTGATGGTCTTGA\tHRAS\tNM_008284.3\t0.5904572564612326\tMTEYKLVVVGAGGVGKSALTIQLIQNHFVDEYDPTIEDSYRKQVVIDGETCLLDILDTAGQEEYSAMRDQYMRTGEGFLCVFAINNTKSFEDIHQYREQIKRVKDSDDVPMVLVGNKCDLAARTVESRQAQDLARSYGIPYIETSAKTRQGVEDAFYTLVREIRQHKLRKLNPPDESGPGCMSCKCVLS*\t22\n",
      "Bos.taurus\tCCGCCGCGGACGGGACCCATGCGTCGGGCGAGCCCTGCGCCCCGGCCCCGGCCCCTGCCGCCGCCCCCGCTCCGGCCCCGGCCCGGGGGGCAGTCGAGCCAGTGAGCGGTGGGACCGGCGACCACTGCAGCGCCTCGTGCTGCGGTCTCTTGAGGAGCAATGACGGAGTATAAGCTCGTGGTGGTGGGCGCCGGTGGCGTGGGGAAGAGCGCCCTGACTATCCAGCTCATTCAGAATCACTTCGTGGACGAGTACGACCCCACCATCGAGGACTCCTACCGGAAGCAAGTGGTCATCGATGGGGAGACGTGCCTGCTGGACATCCTGGACACAGCGGGCCAGGAGGAATACAGCGCCATGCGAGACCAGTACATGCGCACCGGGGAGGGCTTTCTCTGCGTGTTTGCTATCAACCACGTCAAGTCCTTCGAGGACATCCACCAGTACCGGGAGCAGATCAAGCGGGTGAAGGACTCGGATGACGTGCCCATGGTGTTGGTTGGGAACAAGTGCGACCTGGCCGCGCGCACCGTGGAGTCTCGGCAGGCCCAGGACCTCGCCCGCAGCTACGGCATCCCGTACATCGAGACCTCCGCCAAGACCCGCCAGGGCGTGGAGGATGCTTTCTACACCCTGGTGCGCGAGATCCGGCAGCACAAGGTGCGCAAGCTGAGCCCGCCGGACGAGGGCGGCCCCGGCTGCCTGAGCTGCAGGTGCCTGCTCTCCTGACGGCAGCGTGGGCGCGGAGCGCTGGGTGCCATGCAGGAGGCGGCGCAGCAGGGGTGGAGGGAGGTGCCGCCAGAGCCCAGCCCCCCAGGCCAGTGGGCAGTGCCCGCGGGCCTCCCGGGACGCTTCGCACAGACTCTGGTGAACTGATGCTGCTGGCCCCCAGCCTCGCTCTCCTCCAGCCCTGTCCTGGCCCAGCGGGCGCAGGCCGAGTCGCAGTAAATTATTTCATGGTCTTGAAAAAAAAAAAAA\tHRAS\tNM_001242346.1\t0.6707566462167689\tGETCLLDILDTAGQEEYSAMRDQYMRTGEGFLCVFAINHVKSFEDIHQYREQIKRVKDSDDVPMVLVGNKCDLAARTVESRQAQDLARSYGIPYIETSAKTRQGVEDAFYTLVREIRQHKVRKLSPPDEGGPGCLSCRCLLS*\t16\n",
      "Callithrix.jacchus\tGGGCCCGGCAGAGTCTTCGCCGCCCGCAGCCCGAGCCGCACCCGCCGCGGACGGAGCCCATGCGCGGGGCGAGTCGCGCGTCCCCGCCCCCGCCCCGCCCCGCCCCGGCCCCGGCCCCGGCCCCGGGGGCAGTCGCGCCAGTGAGCGGTGGGGCAGGAGACCCTGCAGCACCCCGGGCTGCAGGCCCTGAGGAGCGATGACAGAATATAAGCTCGTGGTGGTGGGCGCCGGTGGCGTGGGAAAGAGTGCCCTGACCATCCAGCTGATCCAGAACCACTTCGTGGATGAATATGACCCCACGATAGAGGACTCCTACCGGAAGCAGGTGGTCATTGATGGGGAGACATGCCTGCTGGACATCCTGGACACGGCCGGCCAGGAGGAGTACAGCGCCATGCGGGACCAGTACATGCGCACTGGGGAGGGCTTCCTGTGTGTCTTCGCCATCAACAACACCAAGTCCTTCGAGGACATCCACCAGTACAGGGAGCAGATCAAGCGGGTGAAGGACTCAGACGACGTGCCCATGGTGCTGGTGGGGAACAAGTGTGACCTGGCTGCACGCACCGTGGAGTCTCGGCAGGCTCAGGACCTCGCCCGAAGCTATGGCATCCCCTACATCGAGACCTCGGCCAAAACGCGGCAGGGAGTGGAGGATGCTTTTTACACGCTGGTGCGTGAGATTCGGCAGCACAAGCTGCGGAAGCTGAACCCTCCCGACGAGAGTGGCCCCGGCTGCATGAGCTGCAAGTGTGTGCTCTCCTGACACAGCACAGGCTTCAGGACATGGAGGTGCCGGATGCAGGGAGGAGGTGCAGACGGAAGGAGGAGGAGGAAGGAAGGAAGGAAGGAAGGAAGGGCTGCTGGAGCCCAGCCACCCAGGGACCGTGGGCCGAGGTGACCGCAGACCCTCCAAGGGACGCTTTGCGCAGACTGTCTTGAGCATCCCTAATGCCATGGGAACCGCAGCCCTTAGCTCCCCTCCCAGGCCTCTGTGGGCCCTTGTTGGGTGCAGATGGGAACACAGTAAATTATTGGATGGTCTTGA\tHRAS\tXM_035263941.2\t0.6450381679389313\tGETCLLDILDTAGQEEYSAMRDQYMRTGEGFLCVFAINNTKSFEDIHQYREQIKRVKDSDDVPMVLVGNKCDLAARTVESRQAQDLARSYGIPYIETSAKTRQGVEDAFYTLVREIRQHKLRKLNPPDESGPGCMSCKCVLS*\t17\n",
      "Homo.sapiens\tCTAGGCGGCGGCCGCGGCGGCGGAGGCAGCAGCGGCGGCGGCAGTGGCGGCGGCGAAGGTGGCGGCGGCTCGGCCAGTACTCCCGGCCCCCGCCATTTCGGACTGGGAGCGAGCGCGGCGCAGGCACTGAAGGCGGCGGCGGGGCCAGAGGCTCAGCGGCTCCCAGGCCTGCTGAAAATGACTGAATATAAACTTGTGGTAGTTGGAGCTGGTGGCGTAGGCAAGAGTGCCTTGACGATACAGCTAATTCAGAATCATTTTGTGGACGAATATGATCCAACAATAGAGGATTCCTACAGGAAGCAAGTAGTAATTGATGGAGAAACCTGTCTCTTGGATATTCTCGACACAGCAGGTCAAGAGGAGTACAGTGCAATGAGGGACCAGTACATGAGGACTGGGGAGGGCTTTCTTTGTGTATTTGCCATAAATAATACTAAATCATTTGAAGATATTCACCATTATAGAGAACAAATTAAAAGAGTTAAGGACTCTGAAGATGTACCTATGGTCCTAGTAGGAAATAAATGTGATTTGCCTTCTAGAACAGTAGACACAAAACAGGCTCAGGACTTAGCAAGAAGTTATGGAATTCCTTTTATTGAAACATCAGCAAAGACAAGACAGAGAGTGGAGGATGCTTTTTATACATTGGTGAGAGAGATCCGACAATACAGATTGAAAAAAATCAGCAAAGAAGAAAAGACTCCTGGCTGTGTGAAAATTAAAAAATGCATTATAATGTAATCTGGGTGTTGATGATGCCTTCTATACATTAGTTCGAGAAATTCGAAAACATAAAGAAAAGATGAGCAAAGATGGTAAAAAGAAGAAAAAGAAGTCAAAGACAAAGTGTGTAATTATGTAAATACAATTTGTACTTTTTTCTTAAGGCATACTAGTACAAGTGGTAATTTTTGTACATTACACTAAATTATTAGCATTTGTTTTAGCATTACCTAATTTTTTTCCTGCTCCATGCAGACTGTTAGCTTTTACCTTAAATGCTTATTTTAAAATGACAGTGGAAGTTTTTTTTTCCTCTAAGTGCCAGTATTCCCAGAGTTTTGGTTTTTGAACTAGCAATGCCTGTGAAAAAGAAACTGAATACCTAAGATTTCTGTCTTGGGGCTTTTGGTGCATGCAGTTGATTACTTCTTATTTTTCTTACCAATTGTGAATGTTGGTGTGAAACAAATTAATGAAGCTTTTGAATCATCCCTATTCTGTGTTTTATCTAGTCACATAAATGGATTAATTACTAATTTCAGTTGAGACCTTCTAATTGGTTTTTACTGAAACATTGAGGGAACACAAATTTATGGGCTTCCTGATGATGATTCTTCTAGGCATCATGTCCTATAGTTTGTCATCCCTGATGAATGTAAAGTTACACTGTTCACAAAGGTTTTGTCTCCTTTCCACTGCTATTAGTCATGGTCACTCTCCCCAAAATATTATATTTTTTCTATAAAAAGAAAAAAATGGAAAAAAATTACAAGGCAATGGAAACTATTATAAGGCCATTTCCTTTTCACATTAGATAAATTACTATAAAGACTCCTAATAGCTTTTCCTGTTAAGGCAGACCCAGTATGAAATGGGGATTATTATAGCAACCATTTTGGGGCTATATTTACATGCTACTAAATTTTTATAATAATTGAAAAGATTTTAACAAGTATAAAAAATTCTCATAGGAATTAAATGTAGTCTCCCTGTGTCAGACTGCTCTTTCATAGTATAACTTTAAATCTTTTCTTCAACTTGAGTCTTTGAAGATAGTTTTAATTCTGCTTGTGACATTAAAAGATTATTTGGGCCAGTTATAGCTTATTAGGTGTTGAAGAGACCAAGGTTGCAAGGCCAGGCCCTGTGTGAACCTTTGAGCTTTCATAGAGAGTTTCACAGCATGGACTGTGTCCCCACGGTCATCCAGTGTTGTCATGCATTGGTTAGTCAAAATGGGGAGGGACTAGGGCAGTTTGGATAGCTCAACAAGATACAATCTCACTCTGTGGTGGTCCTGCTGACAAATCAAGAGCATTGCTTTTGTTTCTTAAGAAAACAAACTCTTTTTTAAAAATTACTTTTAAATATTAACTCAAAAGTTGAGATTTTGGGGTGGTGGTGTGCCAAGACATTAATTTTTTTTTTAAACAATGAAGTGAAAAAGTTTTACAATCTCTAGGTTTGGCTAGTTCTCTTAACACTGGTTAAATTAACATTGCATAAACACTTTTCAAGTCTGATCCATATTTAATAATGCTTTAAAATAAAAATAAAAACAATCCTTTTGATAAATTTAAAATGTTACTTATTTTAAAATAAATGAAGTGAGATGGCATGGTGAGGTGAAAGTATCACTGGACTAGGAAGAAGGTGACTTAGGTTCTAGATAGGTGTCTTTTAGGACTCTGATTTTGAGGACATCACTTACTATCCATTTCTTCATGTTAAAAGAAGTCATCTCAAACTCTTAGTTTTTTTTTTTTACAACTATGTAATTTATATTCCATTTACATAAGGATACACTTATTTGTCAAGCTCAGCACAATCTGTAAATTTTTAACCTATGTTACACCATCTTCAGTGCCAGTCTTGGGCAAAATTGTGCAAGAGGTGAAGTTTATATTTGAATATCCATTCTCGTTTTAGGACTCTTCTTCCATATTAGTGTCATCTTGCCTCCCTACCTTCCACATGCCCCATGACTTGATGCAGTTTTAATACTTGTAATTCCCCTAACCATAAGATTTACTGCTGCTGTGGATATCTCCATGAAGTTTTCCCACTGAGTCACATCAGAAATGCCCTACATCTTATTTCCTCAGGGCTCAAGAGAATCTGACAGATACCATAAAGGGATTTGACCTAATCACTAATTTTCAGGTGGTGGCTGATGCTTTGAACATCTCTTTGCTGCCCAATCCATTAGCGACAGTAGGATTTTTCAAACCTGGTATGAATAGACAGAACCCTATCCAGTGGAAGGAGAATTTAATAAAGATAGTGCTGAAAGAATTCCTTAGGTAATCTATAACTAGGACTACTCCTGGTAACAGTAATACATTCCATTGTTTTAGTAACCAGAAATCTTCATGCAATGAAAAATACTTTAATTCATGAAGCTTACTTTTTTTTTTTGGTGTCAGAGTCTCGCTCTTGTCACCCAGGCTGGAATGCAGTGGCGCCATCTCAGCTCACTGCAACCTCCATCTCCCAGGTTCAAGCGATTCTCGTGCCTCGGCCTCCTGAGTAGCTGGGATTACAGGCGTGTGCCACTACACTCAACTAATTTTTGTATTTTTAGGAGAGACGGGGTTTCACCCTGTTGGCCAGGCTGGTCTCGAACTCCTGACCTCAAGTGATTCACCCACCTTGGCCTCATAAACCTGTTTTGCAGAACTCATTTATTCAGCAAATATTTATTGAGTGCCTACCAGATGCCAGTCACCACACAAGGCACTGGGTATATGGTATCCCCAAACAAGAGACATAATCCCGGTCCTTAGGTAGTGCTAGTGTGGTCTGTAATATCTTACTAAGGCCTTTGGTATACGACCCAGAGATAACACGATGCGTATTTTAGTTTTGCAAAGAAGGGGTTTGGTCTCTGTGCCAGCTCTATAATTGTTTTGCTACGATTCCACTGAAACTCTTCGATCAAGCTACTTTATGTAAATCACTTCATTGTTTTAAAGGAATAAACTTGATTATATTGTTTTTTTATTTGGCATAACTGTGATTCTTTTAGGACAATTACTGTACACATTAAGGTGTATGTCAGATATTCATATTGACCCAAATGTGTAATATTCCAGTTTTCTCTGCATAAGTAATTAAAATATACTTAAAAATTAATAGTTTTATCTGGGTACAAATAAACAGGTGCCTGAACTAGTTCACAGACAAGGAAACTTCTATGTAAAAATCACTATGATTTCTGAATTGCTATGTGAAACTACAGATCTTTGGAACACTGTTTAGGTAGGGTGTTAAGACTTACACAGTACCTCGTTTCTACACAGAGAAAGAAATGGCCATACTTCAGGAACTGCAGTGCTTATGAGGGGATATTTAGGCCTCTTGAATTTTTGATGTAGATGGGCATTTTTTTAAGGTAGTGGTTAATTACCTTTATGTGAACTTTGAATGGTTTAACAAAAGATTTGTTTTTGTAGAGATTTTAAAGGGGGAGAATTCTAGAAATAAATGTTACCTAATTATTACAGCCTTAAAGACAAAAATCCTTGTTGAAGTTTTTTTAAAAAAAGCTAAATTACATAGACTTAGGCATTAACATGTTTGTGGAAGAATATAGCAGACGTATATTGTATCATTTGAGTGAATGTTCCCAAGTAGGCATTCTAGGCTCTATTTAACTGAGTCACACTGCATAGGAATTTAGAACCTAACTTTTATAGGTTATCAAAACTGTTGTCACCATTGCACAATTTTGTCCTAATATATACATAGAAACTTTGTGGGGCATGTTAAGTTACAGTTTGCACAAGTTCATCTCATTTGTATTCCATTGATTTTTTTTTTCTTCTAAACATTTTTTCTTCAAACAGTATATAACTTTTTTTAGGGGATTTTTTTTTAGACAGCAAAAACTATCTGAAGATTTCCATTTGTCAAAAAGTAATGATTTCTTGATAATTGTGTAGTAATGTTTTTTAGAACCCAGCAGTTACCTTAAAGCTGAATTTATATTTAGTAACTTCTGTGTTAATACTGGATAGCATGAATTCTGCATTGAGAAACTGAATAGCTGTCATAAAATGAAACTTTCTTTCTAAAGAAAGATACTCACATGAGTTCTTGAAGAATAGTCATAACTAGATTAAGATCTGTGTTTTAGTTTAATAGTTTGAAGTGCCTGTTTGGGATAATGATAGGTAATTTAGATGAATTTAGGGGAAAAAAAAGTTATCTGCAGATATGTTGAGGGCCCATCTCTCCCCCCACACCCCCACAGAGCTAACTGGGTTACAGTGTTTTATCCGAAAGTTTCCAATTCCACTGTCTTGTGTTTTCATGTTGAAAATACTTTTGCATTTTTCCTTTGAGTGCCAATTTCTTACTAGTACTATTTCTTAATGTAACATGTTTACCTGGAATGTATTTTAACTATTTTTGTATAGTGTAAACTGAAACATGCACATTTTGTACATTGTGCTTTCTTTTGTGGGACATATGCAGTGTGATCCAGTTGTTTTCCATCATTTGGTTGCGCTGACCTAGGAATGTTGGTCATATCAAACATTAAAAATGACCACTCTTTTAATTGAAATTAACTTTTAAATGTTTATAGGAGTATGTGCTGTGAAGTGATCTAAAATTTGTAATATTTTTGTCATGAACTGTACTACTCCTAATTATTGTAATGTAATAAAAATAGTTACAGTGAC\tKRAS\tNM_001369786.1\t0.3614546797120177\tMTEYKLVVVGAGGVGKSALTIQLIQNHFVDEYDPTIEDSYRKQVVIDGETCLLDILDTAGQEEYSAMRDQYMRTGEGFLCVFAINNTKSFEDIHHYREQIKRVKDSEDVPMVLVGNKCDLPSRTVDTKQAQDLARSYGIPFIETSAKTRQRVEDAFYTLVREIRQYRLKKISKEEKTPGCVKIKKCIIM*\t22\n",
      "Taeniopygia.guttata\tGCGCGGGGCGGCGGCGGCGGCGGCGGGGCCGGGCCGGGCCCGGCGAGGCCGCGGGGCCATGACCGAGTACAAGCTGGTGGTGGTGGGCGCCGGCGGCGTGGGCAAGAGCGCGCTGACCATCCAGCTCATCCAGAACCACTTCGTGGACGAGTACGACCCCACCATCGAGGACTCGTACCGCAAGCAGGTGGTGATCGATGGCGAGACGTGCCTGCTGGACATCCTGGACACGGCGGGGCAGGAGGAGTACAGCGCCATGAGGGACCAGTACATGAGGACAGGGGAGGGCTTCCTCTGCGTCTTCGCCATCAACAACAGCAAATCCTTCGCCGACATCAACCTCTACAGAGAACAGATCAAGAGAGTGAAGGACTCGGATGACGTGCCCATGGTGCTGGTGGGGAACAAGTGTGATCTGCCCACGAGAACAGTGGACACAAAACAGGCCCAAGAATTGGCAAAAAGCTACGGAATCCCCTTCATAGAGACCTCTGCAAAAACGAGACAGGGTGTGGAAGATGCTTTTTACACCCTGGTGAGGGAGATCCGGCAGTACCGGATGAAGAAGCTCAACAGCAGCGAGGATGGGAACCAGGGCTGCATGGGACTGTCCTGCCTTGTCATGTGAGAAGATGCCAAGAAAACGTGGTTCAGGTGCAGCTGCTGGACGAGCCTCGATCTCCTGTGCTGCCTCTCCTGCTGATCCTTGCAGTGTTGGGGTGCAGGGACAGACTCTGGGCACCAGAGTTAATTAGCACAAGGTTCTTCTCCGTGCTCCATCTGAAGAGAACATCCATGGCATCTACCTCCCTGCTCAGCTCACGGAGCAGCAGCACCTCGGGATGTGCTGGGATTCTTCTCTCACTGTTACCTGGGTTTGTTCCAGAAGAAAACCAGTCACAAAAGTGAACTATAGAGACTAAATGCTGTGAAAAAGATGACACTTTACCTCTAGAGTAAAAGCTAGAAGTGCTGTGTGTCCCCTGTCTGTTGGATTCCGTGCAGTGCTGTCAGAGGAGTGGCACAGTTGGTGTCACACGGGGTTGTGCCACCAGGAGTGCCCCTGTCCCCTCCCAGCTGGGTGTCTGCTCTCTGTGCACCTGAACAGCAGCAGTGCAACATCTCCAGTGCCAGGAGTGCCACCTGCCCGACCCTCCATTTCTGTAATAAAAAGGAAAGCCTTTTCTAACTAAGTGCCTGTTTGCTAAGAAGATTTGAAGTTGTCCCTTGGGTTGAGGAAAACCCCAAGGACTGGAATTTCTTGGGAGCTCATTATGTCAAGCAGGCAAGTGTGCTGTGGGTGATCTGGGCCTGCCAGGATCCTCCAGCAGGAATTTGGAGGCTGGAAGGTCCAGCAGGCACTTGTGAGACTCTGGGACAAGGGAGGGGACACACTGCATCTGTGTTTTACTTTCTTTGTGGGTGGAACAGTTTATACTCTGTATTGTTTTCCTGCAGCATTCAGATCTCTTCCAAGTTGGACCAAACCTGTCAGCTGTTCGTTTTTAACATGAACTGCCAGCATTTCTGGGCAGCTTCTCACTAATTAATCTGGTAACTGGAGGTTGCTTTGGACAGCTGCTATTCAGCTCTCTCTGTAACTTGCAGATTGTTTTATTCTGAATTATTTTCTTACCACAGACTGTAAAGAGTCTCTTCAAGATGTCTCTAGACTGTCAAATATAGTTGGAATTTCCTTGTCAGGGAAGGAGTGGGGGTGTTGGGGTTGACTCTGTCAGGGGTGCAGAAAGTGGCTGCTCCATCCCTGGCAGCGCCCAGGGCCAGGTCGGGCAGGTTTGGGGCAGCCTGGGACAGTGGGAGGTGTCCCTGCATGGCAGGGCTGGGACGGGATGAGCTTTAAGGTCCTTTCCAACCCAAACCATCCTGGGATTCTGTGATGGAGGGGAAAAGGCTGAGAGCTGCCACAGGCACCTGAGCCAGCTTCTGATTGCAGGGTCCTCAAAAAATGAGGCAGGAAATGAGTTCAGTGATGGCTCCACAGAAGGTTTGGGACAGACTGGTGGAATTCTGAGCGAGGAAACTGTGAGCCATTCCCTCCAGCTGAGGGAACTGAGAGCTGAGCCAGTTCCTCCCAGAACAAAACCTCCTCCCCTGGTGCACAGGTGTGGTCACTGCTGCAAAGGCTCCAGTGCCCTGGGTGCTGTGTCCTCCCCTCTCCTTGTGCTGCTGGGGCTGCTCAGGCTGCAGAGCTGAACTCCCAGCGAGGAGGAGGAGGAGGAGGAGGAGGAGGAAGGAGCCCTCAGCCAACAGAGGGAGCATTTGGTCAGTGCCAGGCCCGAGGAGCAGGGCAGTGCAGGAGGCTCAGTTTCAGGCTGTTGGTGTCAGTCACACATCTTCATTTGGAAGGCTCGATTTCAAATGGGCACTGGAAATCAGTAAACAGAGAGAGAAGAATTTTTTCCTTTTAATGTTGCTTACTTAACAGTCTTAATTCTCTTCTTGAAATGAAGAGGATCAAACTGCATCACATTTTCTTTATCTGTGATAATCCTTATAAATACTTTTTTCAATTTATTTTAACTTTGACTGACGTGACTGATAAGAATTAAATCCACAAAAAATTTAACATAAAATATTATTTTCCAGCACCATACACACAATGGTGGGCAGAATTGTGGGGACCATTGGCTCGAGTTTGATGTTGCCCAGAGCAGCTGTGGCTGCCCCACTTCTGAAAGTGTCCAAGGCCAGGATGGAGCAACCTGGGACAGTGGAAGGTGTCCCTGCCCATGGGATGAGCTTTAAGGTCCCTTCCAGCCCAAACCATTCCACGACTGATGTCATGCTGCAGGTTAAACCTGACAGAGCTGCCACCACTGCACAGCCAGGGCTGAGAAAGCTTTGCCAGGAGGATTTTCTGAAAACACCCCTGGGAAATGAGAAAAGTGCACCCCTGGTCAGGTAGATCCAGCAGGAAGGGGCAGTGTGGAGTTGTGAGGACACTGAATGGTGACATTCTGTCACCCAGGCCCATGGATGGGGTTTGATTTCTTGGGAAATGCAGGAAATTGTTTCCTGTATTTGTGAGACATGGGAAGCCTCTGGCATTTGATGTTTGAAGGGTGTCTGGTCAACCTGGAGAATTATTTGGGTGGAGGTTCATCATAGCTACGCTCCACATTCCCCAGCATGCTCTGGTTGCCATGAAAATGTACCAGCTGAAGCTCCAAAAGCTGGGAATTCTCAGCAATGGGTGGGAACTGACTGGAAAATGCATCTGCTGCTCTTTGCTGTTCCCTTTCTCTTGGGCTCTATAAAACCTGAAAAGGGAAAAAGCCCTGGTGAGGATAGGTCTGCAGTTGTGTCACCTTTGGAACCTTTAGAATAGATTTTTAGGACTTTTTCAGTCTTTAGGGTGCTGCAGAGATTACCTGCAGAGGTGACACTTCCAACTCCATCAGTGTAGTTCCAAATCCAGCAAAAAAATACAAAATCAGGGCGTTGTACTAGTCAGGAGTGTGAACTGAATGGTTGTAATTTGTTTCCAGCTGTCTCACAGAGAACTCTGGGTCTGGTGGCAGCCAAGAACTGGAAGGACAAAACCCTGTGAACTTTTGGGAAAATTATTTAGAAGATAAGCACAGAAGGTTTTGCACAAGACAGGTCCCTGGGAAAGGTGGTTTAGTAGATTTGGTCCAAATATTGTTATTTAGAACAGCATAACTCTGCACTAGTGCCAAGGTGATTTAACTGCCCTGATGGGCAGAACAGACATGAACAACTTTTGAGGTAAAATGTTAAAAATATTAAAATATTTTAAAAGGGTAAAGCTCTTGTTCAGAACTTCCAAGTGCCAATGACTGGAACAAATGTTTCTGTTGCTGTGGCTGAGCACAGCTCAGTGGAACCAGTGGAATTCTGTGGTTGTTTCTCTGTGTCCTCACTCAAACAAATTTCTTGCTCAAACAACTGCTCAGATTCTGTCCTTGTCCTTGCTGGCACTTTGGATTTTAAGCAGGATGTTTAAGGTGAGATAATTTTTAGTGCAGCTCAGCCTTCAAATTGGATTTCGAGCAGCCTCAGGCCTGTGGGGGAAGGAGAGCAGTGGAAGTTTGAATCATATTCTGACCTGACTGTGCTCCTCAAAAACCCCAAACCTTGAGTGTGTGCCTGTGTGTAACCCTCAGGATGGTGGGGAAATGTTGGGATCTGGACTTTTAACCCAAGGGCTAATTTGTTGTCACTTTGTTTAATTATTTGCTTTCAATAATGCATCTCTTTTGGTTTGAATTGAAGTAAATTATTTTGCTTCTTAAATAACTTTTTTAAAGAATAAACTTTGAATTCTTTGGTTGTTTGA\tNRAS\tXM_002194335.6\t0.4943300161999537\tGETCLLDILDTAGQEEYSAMRDQYMRTGEGFLCVFAINNSKSFADINLYREQIKRVKDSDDVPMVLVGNKCDLPTRTVDTKQAQELAKSYGIPFIETSAKTRQGVEDAFYTLVREIRQYRMKKLNSSEDGNQGCMGLSCLVM*\t18\n",
      "Homo.sapiens\tCTAGGCGGCGGCCGCGGCGGCGGAGGCAGCAGCGGCGGCGGCAGTGGCGGCGGCGAAGGTGGCGGCGGCTCGGCCAGTACTCCCGGCCCCCGCCATTTCGGACTGGGAGCGAGCGCGGCGCAGGCACTGAAGGCGGCGGCGGGGCCAGAGGCTCAGCGGCTCCCAGGCCTGCTGAAAATGACTGAATATAAACTTGTGGTAGTTGGAGCTGGTGGCGTAGGCAAGAGTGCCTTGACGATACAGCTAATTCAGAATCATTTTGTGGACGAATATGATCCAACAATAGAGGATTCCTACAGGAAGCAAGTAGTAATTGATGGAGAAACCTGTCTCTTGGATATTCTCGACACAGCAGGTCAAGAGGAGTACAGTGCAATGAGGGACCAGTACATGAGGACTGGGGAGGGCTTTCTTTGTGTATTTGCCATAAATAATACTAAATCATTTGAAGATATTCACCATTATAGAGAACAAATTAAAAGAGTTAAGGACTCTGAAGATGTACCTATGGTCCTAGTAGGAAATAAATGTGATTTGCCTTCTAGAACAGTAGACACAAAACAGGCTCAGGACTTAGCAAGAAGTTATGGAATTCCTTTTATTGAAACATCAGCAAAGACAAGACAGGGTGTTGATGATGCCTTCTATACATTAGTTCGAGAAATTCGAAAACATAAAGAAAAGATGAGCAAAGATGGTAAAAAGAAGAAAAAGAAGTCAAAGACAAAGTGTGTAATTATGTAAATACAATTTGTACTTTTTTCTTAAGGCATACTAGTACAAGTGGTAATTTTTGTACATTACACTAAATTATTAGCATTTGTTTTAGCATTACCTAATTTTTTTCCTGCTCCATGCAGACTGTTAGCTTTTACCTTAAATGCTTATTTTAAAATGACAGTGGAAGTTTTTTTTTCCTCTAAGTGCCAGTATTCCCAGAGTTTTGGTTTTTGAACTAGCAATGCCTGTGAAAAAGAAACTGAATACCTAAGATTTCTGTCTTGGGGCTTTTGGTGCATGCAGTTGATTACTTCTTATTTTTCTTACCAATTGTGAATGTTGGTGTGAAACAAATTAATGAAGCTTTTGAATCATCCCTATTCTGTGTTTTATCTAGTCACATAAATGGATTAATTACTAATTTCAGTTGAGACCTTCTAATTGGTTTTTACTGAAACATTGAGGGAACACAAATTTATGGGCTTCCTGATGATGATTCTTCTAGGCATCATGTCCTATAGTTTGTCATCCCTGATGAATGTAAAGTTACACTGTTCACAAAGGTTTTGTCTCCTTTCCACTGCTATTAGTCATGGTCACTCTCCCCAAAATATTATATTTTTTCTATAAAAAGAAAAAAATGGAAAAAAATTACAAGGCAATGGAAACTATTATAAGGCCATTTCCTTTTCACATTAGATAAATTACTATAAAGACTCCTAATAGCTTTTCCTGTTAAGGCAGACCCAGTATGAAATGGGGATTATTATAGCAACCATTTTGGGGCTATATTTACATGCTACTAAATTTTTATAATAATTGAAAAGATTTTAACAAGTATAAAAAATTCTCATAGGAATTAAATGTAGTCTCCCTGTGTCAGACTGCTCTTTCATAGTATAACTTTAAATCTTTTCTTCAACTTGAGTCTTTGAAGATAGTTTTAATTCTGCTTGTGACATTAAAAGATTATTTGGGCCAGTTATAGCTTATTAGGTGTTGAAGAGACCAAGGTTGCAAGGCCAGGCCCTGTGTGAACCTTTGAGCTTTCATAGAGAGTTTCACAGCATGGACTGTGTCCCCACGGTCATCCAGTGTTGTCATGCATTGGTTAGTCAAAATGGGGAGGGACTAGGGCAGTTTGGATAGCTCAACAAGATACAATCTCACTCTGTGGTGGTCCTGCTGACAAATCAAGAGCATTGCTTTTGTTTCTTAAGAAAACAAACTCTTTTTTAAAAATTACTTTTAAATATTAACTCAAAAGTTGAGATTTTGGGGTGGTGGTGTGCCAAGACATTAATTTTTTTTTTAAACAATGAAGTGAAAAAGTTTTACAATCTCTAGGTTTGGCTAGTTCTCTTAACACTGGTTAAATTAACATTGCATAAACACTTTTCAAGTCTGATCCATATTTAATAATGCTTTAAAATAAAAATAAAAACAATCCTTTTGATAAATTTAAAATGTTACTTATTTTAAAATAAATGAAGTGAGATGGCATGGTGAGGTGAAAGTATCACTGGACTAGGAAGAAGGTGACTTAGGTTCTAGATAGGTGTCTTTTAGGACTCTGATTTTGAGGACATCACTTACTATCCATTTCTTCATGTTAAAAGAAGTCATCTCAAACTCTTAGTTTTTTTTTTTTACAACTATGTAATTTATATTCCATTTACATAAGGATACACTTATTTGTCAAGCTCAGCACAATCTGTAAATTTTTAACCTATGTTACACCATCTTCAGTGCCAGTCTTGGGCAAAATTGTGCAAGAGGTGAAGTTTATATTTGAATATCCATTCTCGTTTTAGGACTCTTCTTCCATATTAGTGTCATCTTGCCTCCCTACCTTCCACATGCCCCATGACTTGATGCAGTTTTAATACTTGTAATTCCCCTAACCATAAGATTTACTGCTGCTGTGGATATCTCCATGAAGTTTTCCCACTGAGTCACATCAGAAATGCCCTACATCTTATTTCCTCAGGGCTCAAGAGAATCTGACAGATACCATAAAGGGATTTGACCTAATCACTAATTTTCAGGTGGTGGCTGATGCTTTGAACATCTCTTTGCTGCCCAATCCATTAGCGACAGTAGGATTTTTCAAACCTGGTATGAATAGACAGAACCCTATCCAGTGGAAGGAGAATTTAATAAAGATAGTGCTGAAAGAATTCCTTAGGTAATCTATAACTAGGACTACTCCTGGTAACAGTAATACATTCCATTGTTTTAGTAACCAGAAATCTTCATGCAATGAAAAATACTTTAATTCATGAAGCTTACTTTTTTTTTTTGGTGTCAGAGTCTCGCTCTTGTCACCCAGGCTGGAATGCAGTGGCGCCATCTCAGCTCACTGCAACCTCCATCTCCCAGGTTCAAGCGATTCTCGTGCCTCGGCCTCCTGAGTAGCTGGGATTACAGGCGTGTGCCACTACACTCAACTAATTTTTGTATTTTTAGGAGAGACGGGGTTTCACCCTGTTGGCCAGGCTGGTCTCGAACTCCTGACCTCAAGTGATTCACCCACCTTGGCCTCATAAACCTGTTTTGCAGAACTCATTTATTCAGCAAATATTTATTGAGTGCCTACCAGATGCCAGTCACCACACAAGGCACTGGGTATATGGTATCCCCAAACAAGAGACATAATCCCGGTCCTTAGGTAGTGCTAGTGTGGTCTGTAATATCTTACTAAGGCCTTTGGTATACGACCCAGAGATAACACGATGCGTATTTTAGTTTTGCAAAGAAGGGGTTTGGTCTCTGTGCCAGCTCTATAATTGTTTTGCTACGATTCCACTGAAACTCTTCGATCAAGCTACTTTATGTAAATCACTTCATTGTTTTAAAGGAATAAACTTGATTATATTGTTTTTTTATTTGGCATAACTGTGATTCTTTTAGGACAATTACTGTACACATTAAGGTGTATGTCAGATATTCATATTGACCCAAATGTGTAATATTCCAGTTTTCTCTGCATAAGTAATTAAAATATACTTAAAAATTAATAGTTTTATCTGGGTACAAATAAACAGGTGCCTGAACTAGTTCACAGACAAGGAAACTTCTATGTAAAAATCACTATGATTTCTGAATTGCTATGTGAAACTACAGATCTTTGGAACACTGTTTAGGTAGGGTGTTAAGACTTACACAGTACCTCGTTTCTACACAGAGAAAGAAATGGCCATACTTCAGGAACTGCAGTGCTTATGAGGGGATATTTAGGCCTCTTGAATTTTTGATGTAGATGGGCATTTTTTTAAGGTAGTGGTTAATTACCTTTATGTGAACTTTGAATGGTTTAACAAAAGATTTGTTTTTGTAGAGATTTTAAAGGGGGAGAATTCTAGAAATAAATGTTACCTAATTATTACAGCCTTAAAGACAAAAATCCTTGTTGAAGTTTTTTTAAAAAAAGCTAAATTACATAGACTTAGGCATTAACATGTTTGTGGAAGAATATAGCAGACGTATATTGTATCATTTGAGTGAATGTTCCCAAGTAGGCATTCTAGGCTCTATTTAACTGAGTCACACTGCATAGGAATTTAGAACCTAACTTTTATAGGTTATCAAAACTGTTGTCACCATTGCACAATTTTGTCCTAATATATACATAGAAACTTTGTGGGGCATGTTAAGTTACAGTTTGCACAAGTTCATCTCATTTGTATTCCATTGATTTTTTTTTTCTTCTAAACATTTTTTCTTCAAACAGTATATAACTTTTTTTAGGGGATTTTTTTTTAGACAGCAAAAACTATCTGAAGATTTCCATTTGTCAAAAAGTAATGATTTCTTGATAATTGTGTAGTAATGTTTTTTAGAACCCAGCAGTTACCTTAAAGCTGAATTTATATTTAGTAACTTCTGTGTTAATACTGGATAGCATGAATTCTGCATTGAGAAACTGAATAGCTGTCATAAAATGAAACTTTCTTTCTAAAGAAAGATACTCACATGAGTTCTTGAAGAATAGTCATAACTAGATTAAGATCTGTGTTTTAGTTTAATAGTTTGAAGTGCCTGTTTGGGATAATGATAGGTAATTTAGATGAATTTAGGGGAAAAAAAAGTTATCTGCAGATATGTTGAGGGCCCATCTCTCCCCCCACACCCCCACAGAGCTAACTGGGTTACAGTGTTTTATCCGAAAGTTTCCAATTCCACTGTCTTGTGTTTTCATGTTGAAAATACTTTTGCATTTTTCCTTTGAGTGCCAATTTCTTACTAGTACTATTTCTTAATGTAACATGTTTACCTGGAATGTATTTTAACTATTTTTGTATAGTGTAAACTGAAACATGCACATTTTGTACATTGTGCTTTCTTTTGTGGGACATATGCAGTGTGATCCAGTTGTTTTCCATCATTTGGTTGCGCTGACCTAGGAATGTTGGTCATATCAAACATTAAAAATGACCACTCTTTTAATTGAAATTAACTTTTAAATGTTTATAGGAGTATGTGCTGTGAAGTGATCTAAAATTTGTAATATTTTTGTCATGAACTGTACTACTCCTAATTATTGTAATGTAATAAAAATAGTTACAGTGAC\tKRAS\tNM_001369787.1\t0.36198753070092576\tMTEYKLVVVGAGGVGKSALTIQLIQNHFVDEYDPTIEDSYRKQVVIDGETCLLDILDTAGQEEYSAMRDQYMRTGEGFLCVFAINNTKSFEDIHHYREQIKRVKDSEDVPMVLVGNKCDLPSRTVDTKQAQDLARSYGIPFIETSAKTRQGVDDAFYTLVREIRKHKEKMSKDGKKKKKKSKTKCVIM*\t23\n",
      "Mus.musculus\tGCAGCCCGAGCCGCACCCGCCGCGGACGGAGCTCATGCGCGGGCCCAGCCGGCGCCCGTCCGCGCCCCCGCCCTGCCCCGGCCCCGGCCCCGGCCCCGGGGGCAGTCGCGCCAGCAAGCGGTGGGGCAGGAGCTCCTGGATTGGCAGCCGCTGTAGAAGCTATGACAGAATACAAGCTTGTGGTGGTGGGCGCTGGAGGCGTGGGAAAGAGTGCCCTGACCATCCAGCTGATCCAGAACCACTTTGTGGACGAGTATGATCCCACTATAGAGGACTCCTACCGGAAACAGGTGGTCATTGATGGGGAGACATGTCTACTGGACATCTTAGACACAGCAGGTCAAGAAGAGTATAGTGCCATGCGGGACCAGTACATGCGCACAGGGGAGGGCTTCCTCTGTGTATTTGCCATCAACAACACCAAGTCCTTCGAGGACATCCATCAGTACAGGGAGCAGATCAAGCGGGTGAAAGATTCAGATGATGTGCCAATGGTGCTGGTGGGCAACAAGTGTGACCTGGCTGCTCGCACTGTTGAGTCTCGGCAGGCCCAGGACCTTGCTCGCAGCTATGGCATCCCCTACATTGAAACATCAGCCAAGACCCGGCAGGGCAGCCGCTCTGGCTCCAGCTCCGGGACCCTCTGGGATCCCCCCTCCCCCGGGACCCATGTGACCCAGCGGCCCTCAAGCTGGCGTGGAGGATGCCTTCTATACACTAGTCCGTGAGATTCGGCAGCATAAATTGCGGAAACTGAACCCACCCGATGAGAGTGGTCCTGGCTGCATGAGCTGCAAATGTGTGCTGTCCTGACACCAGGTGAGGCAGGGACCAGCGAGACGTCTGGGGCAGTGACCTCAGCTAGCCAGATGAACTTCATATCCACTCTGATGTCCTTGCTCCCCCAATTCTGCCAATCCCCCCCGCCTGCAGTCAGTCATGTCCTTTGTGCCCGTCCCGGCACAGGCTCAGGACATGGAGGTGCCGGATGCAGGGAGGAGGTGCCGACGGAAGGAAGGAAAGAGGCGGGAAGGAAGGAAACGGTGCTGGAGCCAGGCCAGTCCAGGGATGGTGGACAGATGTGACCAAGACCTTCGCATGGACAATTTGAACAGACTGTCATGAACTGTCCCTGTTGCCACTGGCACCCAAGTCCTCCACCCCTCTCAGTTCCCTCCGGGCGCCTGCCTGTGAGGGCACACGTTGCATCACAGTAAATTATTTGATGGTCTTGA\tHRAS\tNM_001130444.2\t0.6008097165991902\tCAGPAGARPRPRPAPAPAPAPGAVAPASGGAGAPGLAAAVEAMTEYKLVVVGAGGVGKSALTIQLIQNHFVDEYDPTIEDSYRKQVVIDGETCLLDILDTAGQEEYSAMRDQYMRTGEGFLCVFAINNTKSFEDIHQYREQIKRVKDSDDVPMVLVGNKCDLAARTVESRQAQDLARSYGIPYIETSAKTRQGSRSGSSSGTLWDPPSPGTHVTQRPSSWRGGCLLYTSP*\t32\n",
      "Homo.sapiens\tAGGCCCGCCCGAGTCTCCGCCGCCCGTGCCCTGCGCCCGCAACCCGAGCCGCACCCGCCGCGGACGGAGCCCATGCGCGGGGCGAACCGCGCGCCCCCGCCCCCGCCCCGCCCCGGCCTCGGCCCCGGCCCTGGCCCCGGGGGCAGTCGCGCCTGTGAACGGTGGGGCAGGAGACCCTGTAGGAGGACCCCGGGCCGCAGGCCCCTGAGGAGCGATGACGGAATATAAGCTGGTGGTGGTGGGCGCCGGCGGTGTGGGCAAGAGTGCGCTGACCATCCAGCTGATCCAGAACCATTTTGTGGACGAATACGACCCCACTATAGAGGATTCCTACCGGAAGCAGGTGGTCATTGATGGGGAGACGTGCCTGTTGGACATCCTGGATACCGCCGGCCAGGAGGAGTACAGCGCCATGCGGGACCAGTACATGCGCACCGGGGAGGGCTTCCTGTGTGTGTTTGCCATCAACAACACCAAGTCTTTTGAGGACATCCACCAGTACAGGGAGCAGATCAAACGGGTGAAGGACTCGGATGACGTGCCCATGGTGCTGGTGGGGAACAAGTGTGACCTGGCTGCACGCACTGTGGAATCTCGGCAGGCTCAGGACCTCGCCCGAAGCTACGGCATCCCCTACATCGAGACCTCGGCCAAGACCCGGCAGGGAGTGGAGGATGCCTTCTACACGTTGGTGCGTGAGATCCGGCAGCACAAGCTGCGGAAGCTGAACCCTCCTGATGAGAGTGGCCCCGGCTGCATGAGCTGCAAGTGTGTGCTCTCCTGACGCAGCACAAGCTCAGGACATGGAGGTGCCGGATGCAGGAAGGAGGTGCAGACGGAAGGAGGAGGAAGGAAGGACGGAAGCAAGGAAGGAAGGAAGGGCTGCTGGAGCCCAGTCACCCCGGGACCGTGGGCCGAGGTGACTGCAGACCCTCCCAGGGAGGCTGTGCACAGACTGTCTTGAACATCCCAAATGCCACCGGAACCCCAGCCCTTAGCTCCCCTCCCAGGCCTCTGTGGGCCCTTGTCGGGCACAGATGGGATCACAGTAAATTATTGGATGGTCTTGA\tHRAS\tNM_005343.4\t0.6429906542056075\tMTEYKLVVVGAGGVGKSALTIQLIQNHFVDEYDPTIEDSYRKQVVIDGETCLLDILDTAGQEEYSAMRDQYMRTGEGFLCVFAINNTKSFEDIHQYREQIKRVKDSDDVPMVLVGNKCDLAARTVESRQAQDLARSYGIPYIETSAKTRQGVEDAFYTLVREIRQHKLRKLNPPDESGPGCMSCKCVLS*\t22\n",
      "Bos.taurus\tCCGCCGCGGACGGGACCCATGCGTCGGGCGAGCCCTGCGCCCCGGCCCCGGCCCCTGCCGCCGCCCCCGCTCCGGCCCCGGCCCGGGGGGCAGTCGAGCCAGTGAGCGGTGGGACCGGCGACCACTGCAGCGCCTCGTGCTGCGGTCTCTTGAGGAGCAATGACGGAGTATAAGCTCGTGGTGGTGGGCGCCGGTGGCGTGGGGAAGAGCGCCCTGACTATCCAGCTCATTCAGAATCACTTCGTGGACGAGTACGACCCCACCATCGAGGACTCCTACCGGAAGCAAGTGGTCATCGATGGGGAGACGTGCCTGCTGGACATCCTGGACACAGCGGGCCAGGAGGAATACAGCGCCATGCGAGACCAGTACATGCGCACCGGGGAGGGCTTTCTCTGCGTGTTTGCTATCAACCACGTCAAGTCCTTCGAGGACATCCACCAGTACCGGGAGCAGATCAAGCGGGTGAAGGACTCGGATGACGTGCCCATGGTGTTGGTTGGGAACAAGTGCGACCTGGCCGCGCGCACCGTGGAGTCTCGGCAGGCCCAGGACCTCGCCCGCAGCTACGGCATCCCGTACATCGAGACCTCCGCCAAGACCCGCCAGGGCAGCCGCTCTGGCTCTGGCTCCAGCTCCGGGACCCTCTGGGACCCTCCGGGACCCCCGTGACCCAGCCGCCCCTCTCGCTGGCGTGGAGGATGCTTTCTACACCCTGGTGCGCGAGATCCGGCAGCACAAGGTGCGCAAGCTGAGCCCGCCGGACGAGGGCGGCCCCGGCTGCCTGAGCTGCAGGTGCCTGCTCTCCTGACGGCAGCGTGGGCGCGGAGCGCTGGGTGCCATGCAGGAGGCGGCGCAGCAGGGGTGGAGGGAGGTGCCGCCAGAGCCCAGCCCCCCAGGCCAGTGGGCAGTGCCCGCGGGCCTCCCGGGACGCTTCGCACAGACTCTGGTGAACTGATGCTGCTGGCCCCCAGCCTCGCTCTCCTCCAGCCCTGTCCTGGCCCAGCGGGCGCAGGCCGAGTCGCAGTAAATTATTTCATGGTCTTGAAAAAAAAAAAAA\tHRAS\tNM_001242347.1\t0.6773584905660377\tMTEYKLVVVGAGGVGKSALTIQLIQNHFVDEYDPTIEDSYRKQVVIDGETCLLDILDTAGQEEYSAMRDQYMRTGEGFLCVFAINHVKSFEDIHQYREQIKRVKDSDDVPMVLVGNKCDLAARTVESRQAQDLARSYGIPYIETSAKTRQGSRSGSGSSSGTLWDPPGPP*\t24\n",
      "Taeniopygia.guttata\tGGGCGTGTGCCGCGGCCGCCGGCGGGGCGCGCTCCCGCTCCGCTCCCGCTCTCCCCGCACGCACATTGTCCGGGCGCGGCGGCGGCACAGCGCCCCGGCGCCCCGTGCCAATGCGGGGCGGGCGCGGCACGCCGGGGGCGCCTCCACCACCGCGGTGGAAACTTCCCCTCGCCGCCGGGCCGACGCGCGGCTGAAGCCCCCGGCGGGGAGGAGCGGAGCGGGGTTTCGCCCGCCTGGGGGGGCGCCTCGTCTAGTTTGGTTTTTCCTGCATTGGAAGGGCAAAAGCGAATACTGCTATCCGGCTTTAAACTTCCGCGCTCCGCTCTCCAGGACGCGCATCCCGACCGGCGGGGTGGGCGAGCCGGTGGTGGTGCTCCTGGAAGTCCTGAGCTGGGGTCAGCTGGAAGATGACCGAATACAAGCTGGTGGTGGTGGGAGCAGGTGGTGTTGGGAAGAGTGCTTTGACAATACAGCTCATTCAGAACCATTTTGTGGATGAATATGACCCCACGATAGAGGATTCCTACAGAAAGCAAGTAGTCATTGATGGAGAGACCTGTTTGTTAGACATTTTGGACACCGCAGGGCAGGAGGAGTATAGTGCCATGAGAGACCAGTACATGAGAACAGGGGAAGGATTCCTGTGTGTCTTCGCCATCAACAACACCAAGTCCTTTGAAGATATTCACCAGTACAGGGAGCAGATCAAGAGGGTGAAAGACTCAGATGATGTTCCCATGGTGCTGGTGGGGAATAAATGTGACCTCCCTGCGCGGACAGTGGAGACCCGGCAAGCGCAGGACCTGGCCCGGAGCTACGGGATCCCCTACATAGAAACGTCTGCCAAAACCAGACAGGGCGTTGAGGATGCCTTCTACACCTTGGTGCGGGAGATCCGGCAGCATAAGCTGCGCAAGCTGAATCCCCCGGATGAGAGCGGCCCCGGCTGCATGAACTGTAAATGTGTGGTATCGTGACTATGCTGTCTGGACCGTGTCTTGGCGAGGTTCCCACTGTGCAGTGTGCAAGGAAGAGGTGAAGCAAAGGAAGAAGCAAATGGATTCAGAGGAGAAGTACTGGGGGGGGGGGGAGAGAAGCAGGACGAAGAGGACAGGGGGAGCATGAGGCCCTCCAAGGACTATCTCGCACTTCACCCAAGTTTGCGGCAAGCAACTTTTTTTTTTTTTTTTTAATCCCCATCCCCTTATCCTTTGGCCTCCTCCCAACCCGGCAACTGTACAAAGCCACAGATTGAATCACAGTAAATTATTATTTGATCGTCTCAACAAAAAAAAAAAAAAAA\tHRAS\tNM_001245553.1\t0.5786646201074443\tMTEYKLVVVGAGGVGKSALTIQLIQNHFVDEYDPTIEDSYRKQVVIDGETCLLDILDTAGQEEYSAMRDQYMRTGEGFLCVFAINNTKSFEDIHQYREQIKRVKDSDDVPMVLVGNKCDLPARTVETRQAQDLARSYGIPYIETSAKTRQGVEDAFYTLVREIRQHKLRKLNPPDESGPGCMNCKCVVS*\t21\n",
      "Rattus.norvegicus\tATGACTGAGTATAAACTTGTGGTAGTTGGAGCTGGTGGCGTAGGCAAGAGTGCCTTGACGATACAGCTAATTCAGAATCACTTTGTGGATGAATATGATCCTACGATAGAGGACTCCTACAGGAAACAAGTAGTAATTGATGGAGAAACCTGTCTCTTGGATATTCTCGACACAGCAGGTCAAGAGGAGTACAGTGCAATGAGGGACCAGTACATGAGAACTGGGGAGGGCTTTCTTTGTGTATTTGCCATAAATAATACTAAATCATTTGAAGATATTCACCATTATAGAGAACAAATTAAAAGAGTAAAGGACTCTGAAGATGTGCCTATGGTCCTAGTAGGGAATAAGTGTGACTTGCCTTCTAGAACAGTAGACACGAAACAGGCTCAGGAGTTAGCAAGGAGTTATGGGATTCCATTCATTGAGACCTCAGCGAAGACAAGACAGGGTGTTGACGATGCCTTCTATACATTAGTCCGAGAAATTCGAAAACATAAAGAAAAGATGAGCAAAGATGGGAAAAAGAAGAAGAAGAAGTCAAGGACAAGGTGTATAGTCATGTGAATAGTTTGTACTCTTTCTTAAGGCACACTTAAGTAAAGTGTGATTTTTGTACATTACACTAAATTATTAGCATTTGTTTTAGCATTACCTAATC\tKRAS\tNM_031515.3\t0.3918305597579425\tMTEYKLVVVGAGGVGKSALTIQLIQNHFVDEYDPTIEDSYRKQVVIDGETCLLDILDTAGQEEYSAMRDQYMRTGEGFLCVFAINNTKSFEDIHHYREQIKRVKDSEDVPMVLVGNKCDLPSRTVDTKQAQELARSYGIPFIETSAKTRQGVDDAFYTLVREIRKHKEKMSKDGKKKKKKSRTRCIVM*\t23\n",
      "Danio.rerio\tCACGTTGTCGTGTGTTATTACACTGTAAGTAAAGTGCATTAGTCATCGGTCGTATAACCGTATGCGGACTGGAATCATTAGTGTCGGTTATCGGTCAGTTATCGATCAAGCCCTCCGCCCTGCACCTCTCATTGAAAGGACACCGCTCTGGATTGTTTGGGTCTACAGATGTTTAGTCCATTATAATGCAAGATGCATGCTGATGCTCGGAAGAAGCTGCTCGACTGCGTGTTATTCGTCACTTTAATCGCCTCCACCTACTGAAAATAGCCGTAAACAGCTGAAAATCGTTGATATTTTGGGGTGAAGAATGACCGAATATAAGCTTGTGGTCGTGGGAGCTGGAGGCGTAGGCAAAAGCGCTCTCACCATCCAACTCATCCAGAACCACTTTGTGGATGAATATGACCCAACTATAGAGGACTCGTACAGGAAGCAGGTGGTGATTGACGGAGAAACGTGTCTACTGGACATCCTGGACACTGCAGGTCAGGAGGAATACAGTGCCATGAGGGACCAGTACATGAGGACAGGAGAGGGCTTCCTCTGTGTCTTTGCCATCAATAACACAAAGTCCTTTGAGGACATTCACCACTACAGGGAGCAGATAAAGCGAGTAAAGGACTCCGAGGACGTCCCCATGGTTCTGGTGGGGAATAAGTGTGATCTTCAGTCCCACAATGTGGACTCCAAGCAGGCTCAGGATTTAGCACGCAGCTACGGCATCCCATTTATAGAGACCTCAGCAAAGACAAGACAGGGTGTGGACGACGCGTTTTATACTTTAGTCCGAGAAATCCGGAAACACAAGGAGAAGATGAGCAAGGAGGGCAAAAAGAAAAAGAAGAAATCCAAAACAAAATGTGCATTAATGTGAACAAGTCTTTCCTGTCATTACGGACTCAAAAGTACCACAACTGCATTTTGTACATTTACACTAAATTATTCGCCTCTTCAGAATACAGAATGGATCCCTGTTCTACTTGCTTTCTTAAAAGAAAATAAGCTTTACTCGTTCGGTGCCAGTTGCCCCAAAGTGTTGGTCCGTTGACGCCTTGTTTTATGGCTTATGTTAGCAGACGGGCTGTCAGAACTGGGTATGTTTTGCAGTTGGTTTGAGTAGTTTTAGCAGATTTCTAAAGAGAAGTGTGGATTTAAAATGGTGTGCAGAGATTAGCTGTTAGACTGCATGCGAGTCACTTGATTTTTGATGGAATTGAAACTTTGAGGAACTATGATTGTTATTTTGTTTTTAATGGACCAACACTTCTTTTGGGGAGATGATTTGATACATTATCACTGTGTATGACCCTGCCTTTGGTTGTCCCAGACTTCCAAAAACGACATGCATGTGAACTTCCATTGTAGTCGGATTAACATGCCCTCTCTATAAAGCCATGGTAGTGTGTGTGTGTGTGTATATATGGTGAAATCTTAACCACGTTAACATTATTTCCCCGTTTGCATGCTTTATGTTCTTTAAACTTCCAGGGAACGGTCATGTCTTGAATACTGTTTAATAGCCACTGTTGTGTCGTTGGTCCAGACAGGCGGTATTGTTTAAACATGGCTTTTTTTTCTCTTTATTTAAATTTATGAAGGTTGTTTGGAAGCTCATTTCCACCACTGTATTATTCCTACTTATAAAAACAAATTACAATTCTGAATATCTTGCAATTGTGAGGAGGAGTCTCATGTTAATATTTGTAATGGAGTTGCAAAGTCTGTTAACTTTCTCCCTCAACTGCGTCTGTGCATCACAATTACGAGTCACAACTCTGTAGTTAAAAGGTTAGGATTGCAAGAAGTAAACTACTGTGAGTTGCATCAAAGTCCTTTTAATGGGATGGTTCACCCGAAAAATGAACATGCATTCATTACTTAGGCTGCATTTACACTGCACTGTTCAAGTGGCTCAATTCCCAAAATTTTTATTTTTTTTTTCTCCCATGTGGCACAGATCGGATATGGCTCATGTACATGGAAGCAGGAACAAATCACATGGATTCCAATTTACTCAAATCAGATTCAGGCCTTGTTCATATGTGGAAATTTAACCGATATGAATCGGATCGGTGTTCTCGTGTCTGCATTGTAAGCAGGTAGATCAGATTTTCACCTGTCAATGCGTCGCGCGTCATCAAAAACCATAGCGAATGACGTCAAGTCTGACACTTTCATTTAATAACAGACTTCAGCAGAGTCCCAAACCTTAAATGTCATACACAAGGACTCAAACAGCTTTTATATTGTCATATAGCACAGGTATTTAAGCATGTTAACGATAGCGAAATGTCCGGCACGTAACCAATATAAACTAGTGCATAGCTACATCACGTGCATAAATCACCGCATGGACATTAGGTAGCCTAAAGGTTTAAAAAAGCCAATATAATCAAAAGAAGATAGACAAATAAAAACCTTTCTGTCATAAAACAGCTTGTCAAAAGCTGTGAAGATTAAATACAGGAATAGAGAAAAGAGCGCTCTTATTATCAGCTGTTAGTCAGCGCCCACTCTTATTTTTTTTCCTGGTCATTGTGCCTTTGCCGTGCACTGTGTAAATGCAAACGATCGGATACGAGTCACTTTTATAAGATGCAAGCAGGTCATCAAAAAAAAAAAAAAAAACGATCCTACGATCAGATACAGTCACAAAATCGGAATTAACCATCAAGATCTGCTGTGTAAATGCAGCCTTACACTCACTCGAGTGCTTTCAAGCCATTATGGGGTTCTTTCTTTCATTGAACACTAAGTTACTTTGAAAAAAGTTAGAGACCTGTAACCATTGACTTCCACAGTACTTGTTTAACAGGAAAGAAATTCAAACAGGTTTATGACAGACAAGTAAATGATTTTCATTTTTGGGGTAACCATCTCTTGAAGGCAAGTCCTTTCACTCGGTGGCCATCTTTGAAACCCCTTTAATGCTGTGTTCACACCAGATGCTGAACATTAAGTTTACTTTTCATTTGCGCATCAAATTCGCTTAATTCGAGCATCAAATTCATTTCACGATAAACGATTCGCTTCTGTCTGCCTGGTGACTTTAGTTTCATTGCTAACATGGATTTTATTGAGGGAGTAGCTGTGTTTGTGCTTTAGGAAGGCTGAAAACAGCGTGTATTCATTTGGCACTATTTGGAGATGCACTTAGCTCTTTGAGTTCATAAACTCCTAAAGAAACTATACCTGGATGGAGGCTTTCAGCAGTGCTTCCCACTGTACCCAGCCCAGTTTAATGAACTGTTGTCCAGTGTCACCGGTATTTCCTCTCGGGACACCAACAAGCGCTACTTCTGATTGGTTAATGCAAATGTGAATGTCAGCTGAAGTTCAGAGTTTCCAACTCTAGTGATTTACGTGATATGCAAATAAATAACCTGCAGCGCAAAATGATCTACTCGTGCCGCTTCATTCCTGCAAATTTCATCATTCGTGCTGCCTCGTTCTCGTGTATTGCGTCGTAGGATGTCTATTCGCTTATTTGCATTGACTTAAAATGTAAATCACTCATGGTTGACGCTTCATCTGTGTCTGGTGTGAACGCAGCATTAGTCATGCAAGTATTTTATCCCACTGAATGGGGAAACATCAGATTCTCTGGAACAGTTTGCCAAGCTCCGATTTAAATTTCATATTTGGAATCATCAATGACATTTAACACAAACTCTCTTGTAATTTTAGCTTGTAAACATTGTAAAACAAAAAGTGTTTTTCCTCATTCCTTCACTAATGCGCAATGCCAATTCGTAACTATGATTTAGTGGCTAATTCATATGAATTTGTATGACCTTATTCATACATTTTAGTACTTTTTACTCATACTCCAATGATGGGTGGGGTTTGGTGTCATGCCTCTTTAAATATCGTACATTTTTCGTAAAACTGAACTATTCATACGAATTAGCCACTAAACTGACAAAACATAAAATAGTTATGTCTCCTCATGCAATCAGGCTGGCATGCGCAACCGAACGGAACAAATTCACAACACCACCCTCCTTTTATGGCCATTTCTGAAGGACGTAATCAGACGTAATCCTTTCAATCAAACCATGTTACTTCCATTAGAGTCAACATCTTGCATCTTACACTCCATCCTCTAAATCATGCATTGTCTGTTTACGCTGGTCTTTTGAGGTAATTTCCAACTTATTTCTGACTGCAAATCTCCCAAAATCATGGCAATCTCTTTGTTTACAAATTTTGTGAGCGTTCAAGTGGTTGCTGTCATGTGATTTTGCATTTGAATGGTTGAGGCAGGAAAGATGACTGTTTATAAGGCAAGATTCTAGTGTTCGCTGACTCCAGTGGATTCAAAATGAAGCTGCAGAAACTGTCGTGAAAACATGTCTGGACTGTCTATAGCATGGGTCTCAAACTCAATTCCTAGGGGGCCACAGCTCTTAATGGCTGCGTCCAAAGTCGCATACTTCCATACTATATAGTACGCTAAAAACAGTACATCAGCATAGTAGTAAGTCCGAATTCAAAAATCAGTAAGTGATGACCTACTACCAGGTGATGACCCACCACTTCCGGCGAGATTCTGAAGTGAGCATCGAATGCACGCTACGCTATTCCACGATAAACTGAGAAGTGGAAGTGAAGCGACGCAACTGAAGCTGCGGTCACACTGCACTTTTCTCCACACGCACACGAACGCGTATGACCACAAACGCAAGCTCTAGCAACAAGTTTCGCAATTCGCTGCATTGGAAAGTTCAAGCTTGGCGAAATCGCATCACATGATTGCGTGATAGCAATTAAAGATCAAAACATGACCATTGGACAGGATTTTAAACCAGACCAATCGCTTGCTTTTTTAATGTCTAATAATTTTTTAATCCCGCCCCTTCTCCCAGTGACGTATGACAGAATTTCGCAAGTTCAAACTCTAGTGTGACCGCAGCTTCACGCAGTTAGATCATGCCAAAATGGCGGGTGTAGTACGTCTAAATTCCATTCATGCTACTCTTATTCATACTGTATAGAACGTACTTTTCTAACGGCAGAGTAGTACATTTTAATTTCAAATGCAGTACCTACTGAGCAGTAGGCGTTTTCGGTCGCAGCCTTGGTGTTGGAAAGAGTCACGAACAGCTTCATTAGTTGGATCAAAACTGTGCAGAGCTGCGGCCCTCCAGGAATTGAGTTTGAGACCCATACTCTATAGCAGTGGTGTCCAAGTTCAGTCCTGGAGGGCCGGTGTCCTGGAGAGTTTAGTTCCAACCCCAATCAAACACACCCTAACCAGCTAATTGGGCTCTTACTGGATATACTAGAAACTTCCTGGCAGGTGTGTTGAAGCAAGCTAAACTTAGCAGGACACCGGCCCTCCAGGACTAAGTTTAGACACCTCTGCTCTATAGTGATTAATTGACTCTTTTACTAGAAGGCGGGGCTTCCTTCACTGGAGTGTCCATGTTGACTGTTGCATTTTTTTCTTATTTCAAACTATACAACTGACACGTCTTTTGGTGCATCTTGCATTTCTGAAAGGGGGAAAAACTATTTATGAATGTAAACCTGGAATAGTCCTAAGACGCAAAGAAGACAATTGAGACTTCCGAGGAATGCGTAAAATCTGAATCATGAGAATTTGTATTTATTTTATTTTTGTTGCTATTCTGTATTGGAATAGCAGCTAGGTTTCATTTCCTTCCTTTTGTAATGAGATTTTCACCTCTTGGTTGGTTAAGAGAGCATTTGACATAACACCTCTGGCTAAAAACAACAGTAATTTTAAAGTTGAGATACTGTACAAAAAAGTGATTAGGATCGAAGCACAAACACATTTGTATTCAGAGAAAAGTCATACTAAAAGATAAAGCTGCTGTTGATCAGTCAGAATCAAGTATTTAGGAAAGCGTTAAATACGGTTCCACTTTGGAAGGATCTACACTAGTTAAAGCCTCACTTCTGCTTTCAGAGGTGTGAATTTTTACCCTCTTGTGCTCAGCCAAACAGCGCCTTAGAAGTCTGAATTAACACTTTGATTTATTTTTTTTGCTAAATTTTGATTCACGAGTATAGCCTACCATTGTGATTTTAAATTGTATGTTAATGGAATAAAACAAATGCCTTGTTCCTGCTGCCATCACCCATCAAGTCATTACTCCACCAGTTTGATGTCCAACAGAGCTTTCCTTTTGAACATTTAAATTCCCAAGAGGCTGTCGGAGTCTAGTATACTATGGTAAAACGGGGCAAGAACTAGCTTTCAGTTCTGGAGGGCAAATTTTCAGCCATCACTCAAACCAAAGAGAGTGATATAAAGATTTTTATTTTGCGTGGCAATACTTGTGATGTCATGAGATGATGTCATGTGTGCAACAAGCAGTACGTTGCTTTAAAACTCCTTCGGTGAGTGGTTTTACCATGGTAGTTTTGTTTTCTGATAATTACTTGCATGCAATTTGACTAATACTGAGGATCTACATGCAAAATAAATCAGGATGTCCGTTCTTATGCAAAGTATTTGTTGTGTGATTTCTGTTCCCTTTAAATCAAGCAGTCTGTAATGGAAGTAGCAAGGTCACTAGATTTTTTTTTTTACTTGTTTCTGAAATGTTTTCTGTTTGTGTGCCAAATGCAAATGTTGATAAAACGGTTCACGTATATATGGACCTGGGTTTACCAACCTTTGTATGGATGTGATGATAAAGATGAATATTTTGTAAATTGTGCTTTTGGTTTAATGAACTGATCGACGCTTAATTGAAATTAAGGGTCACATGTTAACGTCTATGAGAAAGTGCTGATCTGAGGTCATCTTTCGCCTTTCATGTGTTGGTGAATGTGATTTTATTAGAATTGGAAAATAAAGCTGTTCTCAGATCTGCACAGTTTTATAAATGCAACCCAGTCTTGTTTTCCCCATTAATCTCACCAGTCTTATTTAATGTGTAATTAAAAGAAGAACTTAAAACCCAAAAAAAAAAAAAAAAAAA\tKRAS\tNM_001003744.1\t0.3991952866791206\tMTEYKLVVVGAGGVGKSALTIQLIQNHFVDEYDPTIEDSYRKQVVIDGETCLLDILDTAGQEEYSAMRDQYMRTGEGFLCVFAINNTKSFEDIHHYREQIKRVKDSEDVPMVLVGNKCDLQSHNVDSKQAQDLARSYGIPFIETSAKTRQGVDDAFYTLVREIRKHKEKMSKEGKKKKKKSKTKCALM*\t22\n",
      "Taeniopygia.guttata\tCTGCCCGTCCCAGCGCCGCGCACTTCGGGCGCTCCACGCGTGACAAGCCCGCGGGAGGGGCGGGACGCTCGGCGGTGACACCCGGCGGTAACCGCGGCGGGGCTTCCCCCTCTGCTTCTTTCCTCTCTCCACAGCGATTCGTGCTGAAATGCGGCGCCCCACGCTGGCATGAGCCCCCGCGTCGGGAGCAGCGCGCCCCGGGCACCGCCGCTTTCCCTGGCCGCAGCTCGGTGTCGGGAAGAAAGCGCTGTCGCCGACTGTCGCCGCGGAGTCACCGCTCGCGGCAGCGCCGGACGCCGGGCGAGGCACGGACGGTTTGGCACACTGGAAGCATGGCTACAAGTGCCGTTCCCAGCGAAAACCTCCCCACCTACAAGCTGGTGGTTGTTGGAGATGGTGGTGTGGGGAAGAGTGCTCTCACTATTCAGTTTTTCCAGAAGATTTTTGTGCCAGACTATGACCCAACTATTGAAGACTCCTACCTGAAGCACACAGAAATCGACGGGCAGTGGGCAATTCTTGATGTTCTGGATACTGCAGGCCAAGAGGAGTTCAGTGCAATGCGGGAGCAGTACATGAGGACTGGAGATGGTTTCCTCATCGTCTACTCGGTGACAGACAAGGCCAGCTTCGAGCACGTGGACCGCTTCCACCAGCTGATCCTCAGAGTCAAGGACAGGGAGTCTTTTCCAATGATTTTGGTGGCAAACAAAGTTGATCTAATGCACTTACGGAAAATTACAAGAGAACAGGGGAGAGAAATGGCAACAAAACATAATATTCCTTATATAGAAACGAGTGCCAAGGACCCACCTCTGAACGTGGACAAGGCCTTCCATGATCTCGTGAGGGTAATAAGGCAACAGATCCCAGAGAAAAGCCAGAAGAAGAAGAAAAAGACCAAATGGCGAGGGGACAGAGCCACGGGCTCCCATAAACTCCAGTGTGTGATTTTGTGACGGGACACCCTGGGAGTGCCTTGGATGCCTCCCTCCTCCCTCCTGACCCCCCACCAGCCCAGGCAAGGAGCCACAGCTCGATGCTGATGCCCACAGGGCCCCGTGGCCCCCCGGGCTCCCCACGGCGGCTCAGACTCGGAGCAGGCGGCTCAAAGGATCCGGACCCCAGAGAGGGGCTGCACGTAGGGCCAGCGTGGGAGCTGTGCAAATGGGAGGCAGAAGGGATCAGCAGGACCTCAACTCTCAACATCCCCAGCATCTTCCAGGGGCCTCCATGATGTTTATAAAAACAAACAAAAAAAAAAAGGCCGAAGTTAAAAAAAAAAAAGTGTTGGTTTTATCTGCAAACATTTCTCTTTGTGACCCATTTCTGAACAGCCTTGAATAGCCCCCCTGTTTGGTACAGTTTTCTGTGTATGTGTGGGGGAAGGGAAAGGGTTTTTCTTTCTCTTAATTTTTTTTGTCCTCTTCTTCCTTTTTGTTGTTTGCTCAGCAAGTGTTGGGTTGCAAAGAAACAACGGCCAGGCTTAGATTTTTTGCACTGGACTCTCTTGGGCGGCAGTGCCAAAACACAACTTCATATGAAAGTGCATAGATTTGGAGGAAGAAAATTAATTCCAGCTGCTCTGGGTGCTCCAGACATTGTGTCAGACTCTGGAGGGTTGCCAGCTCACAGACCATAAACTCCAGTTTAGGAAAGGAGGTTTGGGCTTGGATTATATATTTTTTTTCTTACCCTTTGTCAAGAGGTTTTGTTTCTGTTTTGTAACTTCGGACATGTCAAACTTAAGACATTTTGTTAACCTGGAAGTATTTAAATTAAAGTAATTTACAAATGGAA\tMRAS\tXM_032749362.2\t0.5266666666666666\tCGAPRWHEPPRREQRAPGTAAFPGRSSVSGRKRCRRLSPRSHRSRQRRTPGEARTVWHTGSMATSAVPSENLPTYKLVVVGDGGVGKSALTIQFFQKIFVPDYDPTIEDSYLKHTEIDGQWAILDVLDTAGQEEFSAMREQYMRTGDGFLIVYSVTDKASFEHVDRFHQLILRVKDRESFPMILVANKVDLMHLRKITREQGREMATKHNIPYIETSAKDPPLNVDKAFHDLVRVIRQQIPEKSQKKKKKTKWRGDRATGSHKLQCVIL*\t35\n",
      "Equus.caballus\tCGGCCCGGCTCCCCCCGCGCCCAGGCGGCGCTCTATTTTTAGCAGGCGCTGTTGCAATATAAGGAATGCGCGGCGCGCCGGGGCTCGGGGCGCGCGCGGGCTGAGCGGTCGCTTTAAGGAGGCGCCGGGGCGGGGACGGGCGAGAGCGGCCGGCGGGCCCGCGGGCCGGGAGCCGTCAGTCCGGCTGCCGCGGGGCCGGGCGGGCGCGGCGCTGCCTCCTCGCCGGCGCGGGCATGGAGGAGGCGGCCTGAGGGCCAGAGCCGAGCGGGGCCGGAGCGCGCGGTCTGACCTACGAGAAACATGGCAACCAGTGCCGTCCCCAGTGACAACCTCCCCACGTACAAGCTGGTGGTGGTGGGAGATGGGGGCGTGGGCAAGAGTGCCCTCACCATCCAGTTTTTCCAGAAGATCTTTGTGCCTGACTACGACCCCACCATTGAAGACTCCTACCTGAAACATACAGAGATTGACAATCAGTGGGCCATCTTGGACGTTCTGGACACGGCCGGGCAGGAGGAGTTCAGCGCCATGCGGGAGCAGTACATGCGCACGGGGGACGGCTTCCTCATCGTCTACTCGGTCACAGACAAGGCCAGCTTCGAGCACGTGGACCGCTTCCACCAGCTCATCCTGCGCGTCAAGGACAGGGAGTCGTTTCCGATGATCCTCGTGGCCAACAAGGTCGATCTGATGCACTTGAGGAAAATCACCAGGGAGCAAGGAAAAGAAATGGCGACCAAACACAATATTCCGTACATAGAAACCAGTGCCAAGGACCCACCTCTCAACGTCGACAAAGCCTTCCATGACCTTGTTAGAGTCATTAGGCAACAGATCCCGGAAAAAAGCCAGAAGAAGAAGAAGAAAACCAAATGGCGGGGAGACCGGGCCACTGGCACCCACAAACTGCAGTGCATGATATTGTGACGGGCCTGAGGCCCTGGGCACAGTGACTGTGAACTGGCCAGCCCTCGGGACCCCTCCACTGCCTAACCGCACTGAAAACCATTTCTAACCAGACCCTTGGCCCGAGGACTCGGCACAGGGAGGGAGGAAGGGAGGAGCTCGGGGCTGGCTTTGCCGAAAGGGCAGAGGCTTTCCCGTCTGACAAGGGACAAGGAAGTGACACTCCACAGAAGCAGCACCTGAGCCCCCCGTGGTGATCCCACCCGGTCCCCCCCTTGGTGGCTGTGTTGTTTCTTTGAACTACATCGTGTCGGTTCCATGTGGAAGTCTTACCCACGTCCAGAGTCCAGAACAAGCCATGAACAAGCTTCCCCCGCCCCCGGCCACAGTGTCTGAGCTTGGGTGTCTTTTGTAGATTTTTAAATTATTTTAGTGATTATTATTTTATTAAAAGGGTCTGTGCCCACTGCCTGGTGAAGTTTCACATCTTCAGCAGACCTCTCTGATCTCATGTCTGGAATATTGTTGTTGTTGTGTTGACTGAGTTTTTCCAGCAGTGCCAAAACTCAACTCAACGTGGAAGTGGGCTGAGGGAGAGACCGGAAGTCAATGGGGACCGGAGCTGGAGGCCTCGGGAGAAGCAGAGCTGCTCACGGCCTGTAAACTGGAGAGAAGAGACGTGTTCACCCAGAGGGTCTTCCCGTGGATGAGGATGCAGCTCTTAGGAAACAGGATTCTATTTTGCTGAGGGCAGAGGCTGGCACGATGTCCCTTCTAACGGGGGTTTTCATCATCCTGGAAACGTGTAAACTAAAGCAAGCTGGTTGGCTTTGCCGAAGCTTTTTCAGAGGTGTGGGCTCAATTCTGAGTTCTCCGCAGCCATGTAAGGGCTTCCTCAGGCCCACCTCTCCCTGCTCTCTCATCACCTGGGCTGCCTGGTGCCTCTGACACAAACACACGGACATGGGCATGGATGTGTCTCCACATCGAAGTAAGCTAGTGTGGACGCCATCCAGCAAACTCTAGTTCATGCTGAACCTTAACCAAAAGTGATCCAATCATGTTATTACTAAGACAGCAGCGAGACCTGAAGCCATCTTCCCTTGGAGTCAATCAGCTACCACTTCTCACGCCCAGTCAATGTGCAAACCCCTTGAGCATTTACCAACTGACTAATAGGTTGCCCTTCTAGCGCACACTTCTCTGAACCTCTTGGATCTTAACTATAATATATAATTGGAGGAGAAAGGAAGGTTGGGGCACTGACATGGCTCCCATACACTTGTTTCTGCAAGGGGACAGTCCCCCAGCTCCCTCATGATGCCCACCTCCCTCTCAGGTGCTGCTGGTATGAACCTAAGGCTAGAATTTTCCAGCCAGGGTGGGGCTGGAGGGGCAGCAAGAACAATAGCGCACCCCTGAGAGAAGGTCAAAAGATGAGGTGGCACGGCTAGTGGCCTTATTTTCCTTATGTTACAAACCAGGTCACTAGGCAAAGTAGAACATCCCTCAGCAGGTGGCCTGGCCACTGTTTGGAGAAAGAACTCCCAGGACAGTGAGCACCCAGCTGGACATCGGGACCCCTGATCCTTCTCCCGTTCTGGGCCTATGCTGGGTTCCTACCTCAGCAAGCTCACCAGCACTGAGGAGCCCAGCCGAAGAGCGATGCTGCTGCAGAAGGAGACAGGTGGGACTTCTGTTAGTTGGAAATCAAACTTCTTTGGCTAAATGGCCCTTTTTTCTGACTCTAAAAGGAAGGATATCAAAGAACATTCTAGGTCAGGCACTTCAGAGCTTCCCAAGATCCTGTCATGTTAATGGGCATTTCAAACATTAACAGGACAAGGCTGTTTCAGCCCCTCTGCTCCTCTGAGCCATGTCCCCAGCAGCCCCACATGCAGTGTGATGGCAGCTATAGACCAGAGCCGAGGAAGAGGCAAGGCAGGCCGGAGGACATAAGGATGGAGCTGCTTCATGTCAAGGGAGTGGTGAGTAGGACAAGAAGCCCTGCACACAGGGGAGTGTCCACAGCCAGAGAACTTCTGCCACACACGGACCACCACCACACACCCCTACCCACTGTGGAGGCTGCCACTCCCTGAGAGCACTGTGTGGGGAGTCTCTTAGAAGCAGATCAGATGACCTGGAACAAAGCCCCTAACCATGAAGGTAACCAGACAGAGGCCTTCCAACCACTTCTGGTCCCCCCAAGCAGGGCAGTGCATCTGCCCCACCCCTGGCCCCATCTGCCAGGGCATCTGCCCTGCACTCAACCCACAGCGTAACTCCATAGTCCAGGTGGCCTTCCGCAGCCTCTGCTGTTGAGGCAACAGTCAGCCTTCATCTCCATGACATCGTTTTCACCATAGGTGAGATGGGTGAATAACACTTTTAAAAGCCAGTTCCTTGTGTTTTAGAGGACCATGGGCCCTTGTGGCAGTGACAGCTTCTAGATAGGCCAGAGTGGGATGTTTCCTGGGGCGTCCCCAGTATGTCTTCTCCATGGTCACCTGGCAGGGTTGGTCTGGGAAACCATTTGGCCACGCTACTCCATGACTGAGGATCCCACTGGGACTTGTGTCTTTGGTGACATCTTGCTGTTCCCACTGTTTTCTCAGACCACCTGAATAGTGCTACCATCATATCTGCTGGAGCATACCCTTCCTGAAACCCCCTCACTCCATACCCTTGCCACAGTGTACTCTCAGATTTCCTTCTACAGTTCTGACACCCCCCACCCCCATAGAGGGCTCTTTTTCTCCCCAGCAGGCAATCCCAGCCATCCTTCCCACCCCCACAGCCTGGGGCTATGGCCACTGACTTCCCCTGTACTTTGCCACACAGGGGACGCTTGGATGGTTTCTCTTAGGACTTTGCCCTCTACTTTCTTGCGGCGCTTGCTGTGGAGAGTGCCTAGTAGCCTAGTGTGGCCTGTCTCACTGTACCAGGAGACACGACCCACTAGCACATGGCAGCTCTACCCAGAGGCCCCTCAGACGTGGTACAGTGAATCCAGAGCCACAGACAGGTGCCCTCCGTTAGCAGCCCATTGGATTACAAAATCCCATATTGGGCTTCTTCCGAATGAAAGATACTTGAATTACTGAGCGCCTGCGAGCGCCCAGCTTCTGTTACACAGTATTAGCAGGTGGCCATTGTCGTGAAGGGAGAGTGATGCCTGAAGATCTCGAGGATGCTTGAGCCTTTTATGTAACTTTTTCTTAAGTCTTTGTGTATCTCCACTCATTAATAAAGAAAAGCAGAGGA\tMRAS\tXM_023621005.1\t0.5506829618979152\tARRAGARGARGLSGRFKEAPGRGRARAAGGPAGREPSVRLPRGRAGAALPPRRRGHGGGGLRARAERGRSARSDLRETWQPVPSPVTTSPRTSWWWWEMGAWARVPSPSSFSRRSLCLTTTPPLKTPT*\t21\n",
      "Oryctolagus.cuniculus\tCGGGTGCCCCGGGCGCCGACTGATTACGTAGCGGGCGGGGCCGGAAGTGCCGCTCCCTGGTGGGGGCTGTTCATGGCGGTTCCGGGGTCTCCAGCATTTTTCCCGGTTGTAGTGCTGAATTCGTTCGAAGTGGAGGCAGCGGAGCTTGAGGTGCTTGCTGGTGTGAAATGACTGAGTACAAACTGGTGGTGGTTGGAGCAGGTGGTGTTGGGAAAAGCGCACTGACAATCCAGCTAATCCAGAACCACTTTGTGGATGAATATGATCCCACCATAGAGGATTCTTACCGAAAACAGGTGGTTATAGATGGTGAAACCTGTCTGTTGGACATTCTGGATACAGCTGGACAAGAGGAGTACAGTGCCATGAGAGACCAATACATGAGGACAGGCGAAGGCTTCCTCTGTGTGTTTGCCATCAATAATAGCAAATCATTTGCAGATATTAACCTCTACAGGGAGCAGATTAAGCGAGTGAAAGACTCAGATGATGTACCTATGGTGCTGGTAGGAAACAAGTGTGATTTGCCAACAAGGACAGTTGACACAAAACAAGCCCATGAACTGGCCAAGAGTTATGGGATTCCATTCATTGAAACTTCAGCCAAGACCAGACAGGGTGTCGAAGATGCCTTTTACACACTGGTAAGGGAAATACGCCAGTACCGAATGAAAAAGCTCAACAGCAGTGACGATGGGACTCAAGGTTGTATGGGGCTGCCCTGTGTGGTGATGTAACAAGCAACAGGAGATGAAGTTTTCCAGTGGAGTAAAGCATGGTGCTGATGACCAAGGTCACAGTTTCAAAACTTGAATGAACCATTTAGCATCACCAAGAGAGAAACCCTTCCACATCTGCTCCCATGCCAGTAATTCCAGCTCCTAGCTTTGCTGGATTCCTGCTGTTAGTCCTGTAAGGAAACAAGAAGTGAGTTAGCATGAGTCCTTTACCATGGCTGGAAAAAGTGTAGTATCCCAAGGCAGGTCAGTTTAGAAGTCTTTATAAAGTATTTAGACCCAGTTTTTAGCCACATGGAAACTCTAAGCCAATATGTTTTCTCATTTCTTTGAGAATGAGGATGCCTCCAATGAAAATTTTTTTTGATTTTCCTTTTTCATAATGTTCTTTGGAGTGTTTGAAACAGAATGTTGATAAATTTACCTGTGCATAGCAGATAATGAAACCTGATGCGTGTATCCAAAATAAAAAGTAACTTTGGATTGAACCTGCTGTTTGAGAAAGGAGTGAAAAATACAATGAATTGTTTTGAGGATTCAGAGGCATGGCATTTCTGTTTGTAGACAGTTAGTAGTTCTAATGAGAAACAGACTTGGATAACTTTTGATAAAAGACTAATTCCAGAAAGGCCACTTTCTGCTCTGGTATTCTAAAGTCTCCATACTTACTGAGGTCCCTCATCCTCTTAATACAAATGTTCACTTACTAAGCAAACACATATCATTGAAATGAATTCAGAAGAGGGACAGAGACATATACCAGGCCCAGAGTCTGATAAACCCAGAGAGATGTGCTCCTTACAGCTCATTTACAGTACTGCCGTCATGTGTAAACAAAAACTGCTTCTTTGATTGTGCTCCTGTTAGAGCATCGCTCTGTGATTTTCCTGAGGCTAGATCGAGGCTTACCACCTCAGCTGTGTTCCTTTTTTCTAAGTATCTATGTGACTGGCTATGTGACTCTTTTTCTAAAAAGCTTCTGTCAAATTTAATGTCAAATTACAGGGAAAGATAGTTACCCATTTGGGCTCTTGTATGTATGCACCTTTAACAGTTTTCTTTCTAAGCACAGAAGTATCAAAAAGAAGCCAAAATTCAAACCTGAAAATGCTCTTCATAACTTCCTAAGAAGTAATACTGAGGTATGAATTTTGGCAAAATAGAGTGACAAACTTAGAGTTAAAAGCTGAATAATTAGTGTGGTATAAAATGTGGTTTTTAGATTTATGTTTGTAATTGCTGAAAATAATTCTAATTTACCTCAAAAATCTCAAAGTCACTTTCCCCAAGTTAAGTGCCTGGCCAGCTGTCCTAAATTGCATATTGCTTTATTTTTTTATTTTTTTTTTAAGGTTGCACCTTCAGGAGTGTGAAAATAAGATGTTCTGTCCAAAGGCTACTATGCCTGATCTGTAAATGAATCTGTTAAATGTTGTATATGCTCCAGCAACTTACTATAGAATTTTGACTTGGTAACACAAGATAATACTTATTACAGTTTTCACTTTAGGAGTATTACAAGTAAAATTAATCACAAATTTATTTTAGTGGGTGCCATGTTTAGTAGTTTATCAGCCTTTAAACTGCTGTGAATTTTTGTCATGACTTGAAAGCAAAGATAGACCAAAACTTTGGAGAGAGATTTTGATTTTTTCCCATTCCAGAATTTGTGAACATAAGCGTATTTTGCTTTGTATTTACAGTCATGAACTCTTAAGCTGGCAGCTAAATCCAAGAACCAAAACATGGTGCATCTGCTTCTTGTAATTCATCTCTGCTAATAAATTATAAGAAGCAAGAATAATTAATTAGGGAAAACACAAACAAGGGGACTATAATTCTTGTACATTATTTTTCTTCTTTGCTATTTCTTTAAACAGTCTAATGTGCCACAAAAAAAATTTTTTAAGGTATTTGTTTTCTATAAGAATTGTTTTTAAAATGTTCTTATCAGAGTAGTTGTAGATATATTTCAAAATGTAATTGATTTTGAAAAGCCTGAGTACTGACCTAAAACAAGTATATGAACTCTACTCTGAAGGGAAGGGATGGGTGTCAATGGAAGTTTTATGACATTTATATTTCTTTGTCATCATATATGGGTAAAAATATCAGTTGTGCAATTCTGCTGTTTAAAATGAGAGTTATTGGCCTCTTTGGCCCTAAATGAAAAGTTGGTTATTTTATTGTAAATTAAGCCATCCGAATTTGTTTTAAATTTGGTTGAATGTCTTTCTTGTTAAATAATGCTTAAAAAATAAAAACTGGAAGTTC\tNRAS\tXM_051857368.1\t0.3809365659249419\tVPMVLVGNKCDLPTRTVDTKQAHELAKSYGIPFIETSAKTRQGVEDAFYTLVREIRQYRMKKLNSSDDGTQGCMGLPCVVM*\t11\n",
      "Macaca.mulatta\tATGGTAGGTCGCGCCGGGCTGACGGACGGGCGCGGGGTGGGGCGTGCGCGAGCCCGGCCGAGTCTCCGCCGCCCGCTCCCTGCGCCTGCAGCCCCAGCCGCACCCGCCGCGGACGGAGCCCATGCGCGGGGAGAACCGCGCGCCCCCGCCCCCGCCCCGCCCTGGCCTCGGCCCCGGCCCCGGGGGCAGTCGCGCCACTGAGCGGTGGGGCAGGAGACCCTGTAGGACCCCGGGCCGCAGGCCCCTGAGGAGCAATGACGGAATATAAGCTCGTGGTGGTGGGCGCCGGCGGTGTGGGCAAGAGTGCGCTGACCATCCAGCTGATCCAGAACCACTTCGTGGACGAATACGACCCCACGATAGAGGACTCCTACCGGAAACAGGTGGTCATTGATGGGGAGACGTGCCTGTTGGACATCCTGGACACGGCCGGCCAAGAGGAGTACAGCGCCATGCGGGACCAGTACATGCGCACGGGGGAAGGCTTCCTGTGTGTGTTTGCCATCAACAACACCAAGTCCTTTGAGGACATCCACCAGTACAGGGAGCAGATCAAGCGGGTGAAGGACTCAGACGACGTGCCCATGGTGCTGGTGGGGAACAAGTGTGACCTGGCTGCACGCACCGTGGAGTCTCGGCAGGCTCAGGACCTCGCCCGAAGCTATGGTATCCCCTACATTGAGACCTCGGCCAAGACGCGACAGGGCAGCCGCTCTGGCTCTGGCTCCAGCTCCGGGACCCTCTGGGACCCCCCGGGACCCATGTGACCCAGCGGCCCCTCGCGCTGGAGTAGAGGATGCCTTTTACACATTGGTGCGTGAGATTCGGCAGCATAAGCTGCGGAAGCTGAACCCTCCTGATGAGAGTGGCCCCGGCTGCATGAGCTGCAAGTGTGTGCTCTCCTGACGCAGGTGAGGGGGCTCCCAGGGCGGCCGCCACGCCCACCGGATGACCCCGGGCTCCCCACCCCTGCCGGTCTCCTCGCCTGCGATCAGCAGCCTCTTTTGTGCCCCGCCCAGCACAAGCTCAGGACATGGAGGTGCCGGATGCAGGGAGGAGGTGCAGACGGAAGGAAGGAGGAGGAAGGACGGACGGAAGCAAGGAAGGAAGGAAGGGCTGCTGGAGCCCAGCCACCCAGGGACCATGGGCCGAAGTGACCGCAGACCCTCCCAGGGATGCTTTGCACAGACTGTCTTGAGCATCCCAGATGCTACCAGAACCCCAGCCCTTAGCTCCCCTCCCAGGCCTCTGTGGGCCCTTGTCAGGCGCAGATGGGATCGCAGTAAATTATTGGATGGTCTTGA\tHRAS\tXM_015113178.2\t0.6595092024539877\tMTPGSPPLPVSSPAISSLFCAPPSTSSGHGGAGCREEVQTEGRRRKDGRKQGRKEGLLEPSHPGTMGRSDRRPSQGCFAQTVLSIPDATRTPALSSPPRPLWALVRRRWDRSKLLDGL\t22\n",
      "Homo.sapiens\tAGGCCCGCCCGAGTCTCCGCCGCCCGTGCCCTGCGCCCGCAACCCGAGCCGCACCCGCCGCGGACGGAGCCCATGCGCGGGGCGAACCGCGCGCCCCCGCCCCCGCCCCGCCCCGGCCTCGGCCCCGGCCCTGGCCCCGGGGGCAGTCGCGCCTGTGAACGGTGGGGCAGGAGACCCTGTAGGAGGACCCCGGGCCGCAGGCCCCTGAGGAGCGATGACGGAATATAAGCTGGTGGTGGTGGGCGCCGGCGGTGTGGGCAAGAGTGCGCTGACCATCCAGCTGATCCAGAACCATTTTGTGGACGAATACGACCCCACTATAGAGGATTCCTACCGGAAGCAGGTGGTCATTGATGGGGAGACGTGCCTGTTGGACATCCTGGATACCGCCGGCCAGGAGGAGTACAGCGCCATGCGGGACCAGTACATGCGCACCGGGGAGGGCTTCCTGTGTGTGTTTGCCATCAACAACACCAAGTCTTTTGAGGACATCCACCAGTACAGGGAGCAGATCAAACGGGTGAAGGACTCGGATGACGTGCCCATGGTGCTGGTGGGGAACAAGTGTGACCTGGCTGCACGCACTGTGGAATCTCGGCAGGCTCAGGACCTCGCCCGAAGCTACGGCATCCCCTACATCGAGACCTCGGCCAAGACCCGGCAGGGCAGCCGCTCTGGCTCTAGCTCCAGCTCCGGGACCCTCTGGGACCCCCCGGGACCCATGTGACCCAGCGGCCCCTCGCGCTGGAGTGGAGGATGCCTTCTACACGTTGGTGCGTGAGATCCGGCAGCACAAGCTGCGGAAGCTGAACCCTCCTGATGAGAGTGGCCCCGGCTGCATGAGCTGCAAGTGTGTGCTCTCCTGACGCAGGTGAGGGGGACTCCCAGGGCGGCCGCCACGCCCACCGGATGACCCCGGCTCCCCGCCCCTGCCGGTCTCCTGGCCTGCGGTCAGCAGCCTCCCTTGTGCCCCGCCCAGCACAAGCTCAGGACATGGAGGTGCCGGATGCAGGAAGGAGGTGCAGACGGAAGGAGGAGGAAGGAAGGACGGAAGCAAGGAAGGAAGGAAGGGCTGCTGGAGCCCAGTCACCCCGGGACCGTGGGCCGAGGTGACTGCAGACCCTCCCAGGGAGGCTGTGCACAGACTGTCTTGAACATCCCAAATGCCACCGGAACCCCAGCCCTTAGCTCCCCTCCCAGGCCTCTGTGGGCCCTTGTCGGGCACAGATGGGATCACAGTAAATTATTGGATGGTCTTGA\tHRAS\tNM_176795.5\t0.6611111111111111\tMTEYKLVVVGAGGVGKSALTIQLIQNHFVDEYDPTIEDSYRKQVVIDGETCLLDILDTAGQEEYSAMRDQYMRTGEGFLCVFAINNTKSFEDIHQYREQIKRVKDSDDVPMVLVGNKCDLAARTVESRQAQDLARSYGIPYIETSAKTRQGSRSGSSSSSGTLWDPPGPM*\t26\n",
      "Pan.troglodytes\tCACCCGCCGCGGACGGAGCCCATGCGCGGGGCGAACCGCGCGCCCCCGCCCCCGCCCCGCCCCGGCCTCGGCCCCGGCCCTGGCCCCGGGGGCAGTCGCGCCTGTGAACGGTGGGGCAGGAGACCCTGTAGGAGGACCCCGGGCCGCAGGCCCCTGAGGAGCGATGACGGAATATAAGCTGGTGGTGGTGGGCGCCGGCGGTGTGGGCAAGAGTGCGCTGACCATCCAGCTGATCCAGAACCACTTTGTGGACGAATACGACCCCACTATAGAGGATTCCTACCGGAAGCAGGTGGTCATTGATGGGGAGACATGCCTGTTGGACATCCTGGACACGGCCGGCCAGGAGGAGTACAGCGCCATGCGGGATCAGTACATGCGCACCGGGGAGGGCTTCCTGTGTGTGTTTGCTATCAACAACACCAAGTCTTTTGAGGACATCCACCAGTACAGGGAGCAGATCAAACGGGTGAAGGACTCGGATGACGTGCCCATGGTGCTGGTGGGGAACAAGTGTGACCTGGCTGCACGCACTGTGGAATCTCGGCAGGCTCAGGACCTCGCCCGAAGCTACGGCATCCCCTACATCGAGACCTCGGCCAAGACCCGGCAGGGCAGCCGCTCTGGCTCTAGCTCCAGCTCCGGGACCCTCTGGGACCCCCCGGGACCCATGTGACCCAGCGGCCCCTCGCGCTGGAGTGGAGGATGCCTTCTACACGTTGGTGCGTGAGATCCGGCAGCACAAGCTGCGGAAGCTGAACCCTCCTGATGAGAGTGGCCCCGGCTGCATGAGCTGCAAGTGTGTGCTCTCCTGACGCAG\tHRAS\tXM_016919969.3\t0.6536585365853659\tCLLDILDTAGQEEYSAMRDQYMRTGEGFLCVFAINNTKSFEDIHQYREQIKRVKDSDDVPMVLVGNKCDLAARTVESRQAQDLARSYGIPYIETSAKTRQGSRSGSSSSSGTLWDPPGPM*\t20\n",
      "Mus.musculus\tGTTACAGGCACTAGAATTTTAGCAGTCAACAAAACAAGTCAGAATCCTCACTCTCACAGAGTTTATTCTTTATTGGGGGAAAAGAGAAGAGTTAAGAAAATCAAGAGAGCCAGGCATAGTGTGATAAGCCTTTCATCCCAGCAGTCAGGAGGCAGAAGCAGGAGGAGTTCTATGAGTTTGATTGAGGCCAGCTTACTCTTCCATAGAGACCCTCTCAAAACAAACAAAAACCAAAGAGAATTAAAATGAAATACTAAAGCATTAAATGGTGGTGAGTGTCCTGGAGAAAACTAGGAGTAGTGTTCGGGGACTGAGGGGAGACTGCAGTCCCAAAGACGCTCTTTATGGAAGCTCTCACTTAAGAAATGAGACATTTAAACAAGGCTTAAAGCCTATGATATAGGAAGCTCTGGGCATTGGTAGTTAGGAGACAGTTTTTGAGGACAGTCTCAGAGGAAAAGGCCAACCTCCCCATTCTCGGAGCAGCCAGGAGTCAAGGTGAAACACGAAGGACTCCTACAGGAAACAAGTAGTAATTGATGGAGAAACCTGTCTCTTGGATATTCTCGACACAGCAGGTCAAGAGGAGTACAGTGCAATGAGGGACCAGTACATGAGAACTGGGGAGGGCTTTCTTTGTGTATTTGCCATAAATAATACTAAATCATTTGAAGATATTCACCATTATAGAGAACAAATTAAAAGAGTAAAGGACTCTGAAGATGTGCCTATGGTCCTGGTAGGGAATAAGTGTGATTTGCCTTCTAGAACAGTAGACACGAAACAGGCTCAGGAGTTAGCAAGGAGTTACGGGATTCCGTTCATTGAGACCTCAGCAAAGACAAGACAGGGTGTTGACGATGCCTTCTATACATTAGTCCGAGAAATTCGAAAACATAAAGAAAAGATGAGCAAAGATGGGAAGAAGAAGAAGAAGAAGTCAAGGACAAGGTGTACAGTTATGTGAATACTTTGTACTCTTTCTTAAGGCACACTTAAGTAAAAGTGTGATTTTTGTACATTACACTAAATTATTAGCATTTGTTTTAGCATTACCTAATCTTTTTTTTTCTTCTGTTCGTGCAAACTGTCAGCTTTTATCTCAAATGCTTATTTTAAAAGAACAGTGGAAACCTTCTTTTTTCTAAGTGCCAGTATTCCCTGGGTTTTGGACTTAAACTAGCAATGCCTGTGGAAGAGACTAAAGACCTGAGACTCTGTCTTGGGATTTGGTGCATGCAGTTGATTCCTTGCTAGTTCTCTTACCAACTGTGAACACTGATGGGAAGCAGGATAATGAAGCTTCCGGACCATCCCTGCTCTGTGTCCATCTACTCATCCAATGGAGTCATTAGCAGTCAATCGCCGCTTCACTGGACACTGAGGGGTCACAGACTTAGGCTCCCTTTGAGTCGCGTCCAGCGTGTCCTAGACTTTATCATCTTTCAGAGGCGTAGGCAGACTGTTCACAAAGGCTTTCTGTAGCTTTCCACTGCAATTAATCTTGGTCACTCCCTCAAATAGTATATTTTTTCTAGAAAAGGGGAAAAATGGAAAAAAAAAGGCAATGGAAAATGTTGAAATCCATTCAGTTTCCATGTTAGCTAAATTACTGTAAGATTCCTATAATAGCTTTTCCTGGTAAGGCAGACCCAGTATGAAATAGTAATAACCATTTGGGCTATATTTACATGCTACTAAATTTTTGTAATAATTCAAACAACTTTAGCATATATAAAAAGTTCTCATAAGAATTAAGTACAATTCCCCTTTGTCAGATTGTTCTTATCCTAACTTTCAAGTCTTTTTTGAATTTCTGTTGTTGAAAGTAGTTTTAATGGTTGTGAAGCTGAAGATGATCTGAGACAGTTATAGCTTGGCAGGTGTTGAGGAGACCAGAGTTGCAGGGTTGGGCCTTACGTGAACCTGTGACGAACGCTACTGGGTTTTGCAGCACTGCTGCATTCAATGTTGGCGACGCATTGTTTGGTCAACATAGGGGATAAGGAGACTTTGATGGCTTAGTATAATGCATTCTCACCATGTAACAGTCCTACTGACAAATCAAGAAATTTGTTTATAATAATAAAAAATTTTTAAAAATTTCGATGTTCGCTTCAAGGTTGAGATTTTGGGGTAGGAGGCTACAACAAGAGTAAATCTTAAAGCAAGGTTTTAAGAAGGTTTGAAAATGCAGGTTTGACTAGTCTCTCAACTCTAGCTAAACAAACATTCCCAAGTACTTCCCAAATCTGATAGGTATTTAAAATTATCTAATGCTTTAAGAATAGTTAACAGGAAAAAAATCTCCTCAGTGCACTTAAAGCAACCCTTCACATCATTTGAAATGAGATGGAAATATCACTGGACTATGAGGACTGGATGTCTGTCTGATTTTAAGCAAATCACTGTCTGCTTGGTTTTGAATCATCTCAAAGACATTAACCTCCCAGCCGTGTAACATAGTTTACATGTTGACACACCTAGTTATCAAGCTCAGCACAATCTGTAACTGTTTTACATGGATTAACATCTTCACTGCCAGTCTTGGGCAAATTGTGCAAGAGGTAAAATTTATATTTCAGTATCCATTCTCCCATTTCAGGACTCCCCTCCAACATTATGCTGGCTTTCAGCCTGTCTCTCACCTGCCCATCACTTAGTGTAGTTTTAATAATTTCCCCCACTTCAAACTTTGTTTCCACTATGGACAACTTCATGAACTTTGCCCACTAAGGTAGGTACATCAAAGCTGCCCTATGGCTTTCTTCCCCGGGACTGAAAATAACAGACACCATAGTGGGATTTAAACTAATAGATGGTTTTCAGGGCCACTACAACAATTCAATCTCAATCCTTTGGACTTCATTCCTGCTGCCCAGGCCACTGGTGCCTCAGTAGGAATTTTCAAAATTAGTGTGAACAGACAGAGCACAGTCCAGTGGAAGGTGAGCTTAATCTTCATCTAGCCATCATCATGGTAAGTGATAGATTCTATTGTTTTAATAAATACAGTCTAACAATGAAAAACACTTCGAAGTTTCAATCATAAAGCTGTCTTTTTAAAAATTTTATTTACTCAACATTTATTCAGTGCTTGTCATATTCTGGGAATTACACTAGGCACTCAGGGTGCGGTGTCCTCAATCCTTGGCCAGTGGTATGTAGCATGATCTGTAATACCACTAAATAAGGCATATAGCATATGACTTAGACATAATGAAATACATGATTTGAGTTTTGCAGAGAGGAGTTTGGGTTTGTACATTCCCTTCCCCCCCAGTTTAGCAAGAATTGTTTGCTGTGAATCCAATGCAACTTTTAAATCAAACTACTTTATATAATTATTTCATTTTTCTAAAGGAACAGAAGTACCCTAAACTATTTTTTTGAAATGTTCTAAACTGTACATATTCATAGAACATTCTTTGGGTGAATTTTAAGTCTTAAAATGCAATTAGTAATACTTCTCATTTCTATTCAGAGGAACAGGTGTACTTCAAAAGCTGCAGTGTATAATCAGATATTTTTAATGGACAATGTGTTAAAGAAGTGGTAATTACCACTATGTAAATTTGAATTGTGTTACACTTTGGTTAACAAAAGGGGAAAGAATCCTAGAAACAAATATGTTATCTAGTTACTGCAGCCTTAAAGTCCTTGTTGAAGTTAAAAAGCAATGCTAAGTTACAGTCATAGGCATTAACATGTTTATGGGAAGGATATAGTAGGCAAATACAATTTGAGTAAATATTTTCAGTAGGGAATTTTAGGCTCTACTGACTGAGTCACACTGCATAGGAATTTAGATCTTAACTTTTATAGGTTATCGACCTTTGCCACCATTGCACAATTTTGTCCTAACATAAATACAAGTTCTGTGAGGCATGTCAAAAGTTACAGTTTGCATAAATTCATCTCATTTTGTATTCCACTGATTTTACATTTTCCTCAAACATACATACATACATACATACAACACACACACACTCACACATGAAGGGTTTTTTTTTTGTAGGCAATAAAAATTTAACTAATTTCCATTTGTTAAAAAGTAGTGATTTATTGAGAATTATGCAGTCATTTTTTAAACCCAAAAGTTATTTAAAGGTGAATTTATACTCAATAACTTCTGTGTAATACTGGGTAGCATGAATTCTGCATTGAAAAATTGAACAGATAATACCAATAGCTGTAAATTCTGTCAAAACATGAAAATTATTTCTAAAGAAGTACATTAGTTTTCAAAGAACAGTTATTAGAATCAGATCTGTGGTTTAGTTCAATAATTTGAAGTGCCTGTTTGGGATGGTGGTAGGCATTTTAGATGAATTTGGGAAAAATAAAGTTCTGCAGAAATGCCAGTTTCAGACCCCGCTAACCCGCTGAGTGGGCTGTGTGCTGTGTTAGCTCCAGTGCCCCAATCCCGTTTCATGTCTTCATGTTGAAACACTTCTGCATTTTTATTTGAGTGCCAATTTCTTACTAGTGCTATTTCTTAGTGTAACATGTTTACCTGGGATGTATTTTAACTATTTTTGTATAGTGTAAACTGAAACATGCACATTTTGTACATTGTGCTTTCCTTCTTTCCATTCCTTTTCTTTCTGTTTTGTTTGTTTGTTTGTTTGTTTGTTTGTTATGGGACATATGCAGTGTGATCCAGTTGTTTTCCATCCTTTGGTTGCGCTGACCTAGGGAATGTTGGTCATATCAAACATTAAATTTAAAAGTGACCACTCTTAATTAAAATTAACTTTTAAATGTTTATAGGAGTACGTGCTGTGAAGTGATCTGAAATTTGTAATATTTTTGTCATGAACCGTACTGCTCCTAATCATTGTAATGTAATAAAAATAGTTATGGTGACTA\tKRAS\tNM_001403244.1\t0.3704844006568144\tGETCLLDILDTAGQEEYSAMRDQYMRTGEGFLCVFAINNTKSFEDIHHYREQIKRVKDSEDVPMVLVGNKCDLPSRTVDTKQAQELARSYGIPFIETSAKTRQGVDDAFYTLVREIRKHKEKMSKDGKKKKKKSRTRCTVM*\t19\n",
      "Homo.sapiens\tGGGGCCGGAAGTGCCGCTCCTTGGTGGGGGCTGTTCATGGCGGTTCCGGGGTCTCCAACATTTTTCCCGGCTGTGGTCCTAAATCTGTCCAAAGCAGAGGCAGTGGAGCTTGAGGTTCTTGCTGGTGTGAAATGACTGAGTACAAACTGGTGGTGGTTGGAGCAGGTGGTGTTGGGAAAAGCGCACTGACAATCCAGCTAATCCAGAACCACTTTGTAGATGAATATGATCCCACCATAGAGGATTCTTACAGAAAACAAGTGGTTATAGATGGTGAAACCTGTTTGTTGGACATACTGGATACAGCTGGACAAGAAGAGTACAGTGCCATGAGAGACCAATACATGAGGACAGGCGAAGGCTTCCTCTGTGTATTTGCCATCAATAATAGCAAGTCATTTGCGGATATTAACCTCTACAGGGAGCAGATTAAGCGAGTAAAAGACTCGGATGATGTACCTATGGTGCTAGTGGGAAACAAGTGTGATTTGCCAACAAGGACAGTTGATACAAAACAAGCCCACGAACTGGCCAAGAGTTACGGGATTCCATTCATTGAAACCTCAGCCAAGACCAGACAGGGTGTTGAAGATGCTTTTTACACACTGGTAAGAGAAATACGCCAGTACCGAATGAAAAAACTCAACAGCAGTGATGATGGGACTCAGGGTTGTATGGGATTGCCATGTGTGGTGATGTAACAAGATACTTTTAAAGTTTTGTCAGAAAAGAGCCACTTTCAAGCTGCACTGACACCCTGGTCCTGACTTCCCTGGAGGAGAAGTATTCCTGTTGCTGTCTTCAGTCTCACAGAGAAGCTCCTGCTACTTCCCCAGCTCTCAGTAGTTTAGTACAATAATCTCTATTTGAGAAGTTCTCAGAATAACTACCTCCTCACTTGGCTGTCTGACCAGAGAATGCACCTCTTGTTACTCCCTGTTATTTTTCTGCCCTGGGTTCTTCCACAGCACAAACACACCTCTGCCACCCCAGGTTTTTCATCTGAAAAGCAGTTCATGTCTGAAACAGAGAACCAAACCGCAAACGTGAAATTCTATTGAAAACAGTGTCTTGAGCTCTAAAGTAGCAACTGCTGGTGATTTTTTTTTTCTTTTTACTGTTGAACTTAGAACTATGCTAATTTTTGGAGAAATGTCATAAATTACTGTTTTGCCAAGAATATAGTTATTATTGCTGTTTGGTTTGTTTATAATGTTATCGGCTCTATTCTCTAAACTGGCATCTGCTCTAGATTCATAAATACAAAAATGAATACTGAATTTTGAGTCTATCCTAGTCTTCACAACTTTGACGTAATTAAATCCAACTTTCACAGTGAAGTGCCTTTTTCCTAGAAGTGGTTTGTAGACTTCCTTTATAATATTTCAGTGGAATAGATGTCTCAAAAATCCTTATGCATGAAATGAATGTCTGAGATACGTCTGTGACTTATCTACCATTGAAGGAAAGCTATATCTATTTGAGAGCAGATGCCATTTTGTACATGTATGAAATTGGTTTTCCAGAGGCCTGTTTTGGGGCTTTCCCAGGAGAAAGATGAAACTGAAAGCACATGAATAATTTCACTTAATAATTTTTACCTAATCTCCACTTTTTTCATAGGTTACTACCTATACAATGTATGTAATTTGTTTCCCCTAGCTTACTGATAAACCTAATATTCAATGAACTTCCATTTGTATTCAAATTTGTGTCATACCAGAAAGCTCTACATTTGCAGATGTTCAAATATTGTAAAACTTTGGTGCATTGTTATTTAATAGCTGTGATCAGTGATTTTCAAACCTCAAATATAGTATATTAACAAATTACATTTTCACTGTATATCATGGTATCTTAATGATGTATATAATTGCCTTCAATCCCCTTCTCACCCCACCCTCTACAGCTTCCCCCACAGCAATAGGGGCTTGATTATTTCAGTTGAGTAAAGCATGGTGCTAATGGACCAGGGTCACAGTTTCAAAACTTGAACAATCCAGTTAGCATCACAGAGAAAGAAATTCTTCTGCATTTGCTCATTGCACCAGTAACTCCAGCTAGTAATTTTGCTAGGTAGCTGCAGTTAGCCCTGCAAGGAAAGAAGAGGTCAGTTAGCACAAACCCTTTACCATGACTGGAAAACTCAGTATCACGTATTTAAACATTTTTTTTTCTTTTAGCCATGTAGAAACTCTAAATTAAGCCAATATTCTCATTTGAGAATGAGGATGTCTCAGCTGAGAAACGTTTTAAATTCTCTTTATTCATAATGTTCTTTGAAGGGTTTAAAACAAGATGTTGATAAATCTAAGCTGATGAGTTTGCTCAAAACAGGAAGTTGAAATTGTTGAGACAGGAATGGAAAATATAATTAATTGATACCTATGAGGATTTGGAGGCTTGGCATTTTAATTTGCAGATAATACCCTGGTAATTCTCATGAAAAATAGACTTGGATAACTTTTGATAAAAGACTAATTCCAAAATGGCCACTTTGTTCCTGTCTTTAATATCTAAATACTTACTGAGGTCCTCCATCTTCTATATTATGAATTTTCATTTATTAAGCAAATGTCATATTACCTTGAAATTCAGAAGAGAAGAAACATATACTGTGTCCAGAGTATAATGAACCTGCAGAGTTGTGCTTCTTACTGCTAATTCTGGGAGCTTTCACAGTACTGTCATCATTTGTAAATGGAAATTCTGCTTTTCTGTTTCTGCTCCTTCTGGAGCAGTGCTACTCTGTAATTTTCCTGAGGCTTATCACCTCAGTCATTTCTTTTTTAAATGTCTGTGACTGGCAGTGATTCTTTTTCTTAAAAATCTATTAAATTTGATGTCAAATTAGGGAGAAAGATAGTTACTCATCTTGGGCTCTTGTGCCAATAGCCCTTGTATGTATGTACTTAGAGTTTTCCAAGTATGTTCTAAGCACAGAAGTTTCTAAATGGGGCCAAAATTCAGACTTGAGTATGTTCTTTGAATACCTTAAGAAGTTACAATTAGCCGGGCATGGTGGCCCGTGCCTGTAGTCCCAGCTACTTGAGAGGCTGAGGCAGGAGAATCACTTCAACCCAGGAGGTGGAGGTTACAGTGAGCAGAGATCGTGCCACTGCACTCCAGCCTGGGTGACAAGAGAGACTTGTCTCCAAAAAAAAAGTTACACCTAGGTGTGAATTTTGGCACAAAGGAGTGACAAACTTATAGTTAAAAGCTGAATAACTTCAGTGTGGTATAAAACGTGGTTTTTAGGCTATGTTTGTGATTGCTGAAAAGAATTCTAGTTTACCTCAAAATCCTTCTCTTTCCCCAAATTAAGTGCCTGGCCAGCTGTCATAAATTACATATTCCTTTTGGTTTTTTTAAAGGTTACATGTTCAAGAGTGAAAATAAGATGTTCTGTCTGAAGGCTACCATGCCGGATCTGTAAATGAACCTGTTAAATGCTGTATTTGCTCCAACGGCTTACTATAGAATGTTACTTAATACAATATCATACTTATTACAATTTTTACTATAGGAGTGTAATAGGTAAAATTAATCTCTATTTTAGTGGGCCCATGTTTAGTCTTTCACCATCCTTTAAACTGCTGTGAATTTTTTTGTCATGACTTGAAAGCAAGGATAGAGAAACACTTTAGAGATATGTGGGGTTTTTTTACCATTCCAGAGCTTGTGAGCATAATCATATTTGCTTTATATTTATAGTCATGAACTCCTAAGTTGGCAGCTACAACCAAGAACCAAAAAATGGTGCGTTCTGCTTCTTGTAATTCATCTCTGCTAATAAATTATAAGAAGCAAGGAAAATTAGGGAAAATATTTTATTTGGATGGTTTCTATAAACAAGGGACTATAATTCTTGTACATTATTTTTCATCTTTGCTGTTTCTTTGAGCAGTCTAATGTGCCACACAATTATCTAAGGTATTTGTTTTCTATAAGAATTGTTTTAAAAGTATTCTTGTTACCAGAGTAGTTGTATTATATTTCAAAACGTAAGATGATTTTTAAAAGCCTGAGTACTGACCTAAGATGGAATTGTATGAACTCTGCTCTGGAGGGAGGGGAGGATGTCCGTGGAAGTTGTAAGACTTTTATTTTTTTGTGCCATCAAATATAGGTAAAAATAATTGTGCAATTCTGCTGTTTAAACAGGAACTATTGGCCTCCTTGGCCCTAAATGGAAGGGCCGATATTTTAAGTTGATTATTTTATTGTAAATTAATCCAACCTAGTTCTTTTTAATTTGGTTGAATGTTTTTTCTTGTTAAATGATGTTTAAAAAATAAAAACTGGAAGTTCTTGGCTTAGTCATAA\tNRAS\tNM_002524.5\t0.3742487286176607\tMTEYKLVVVGAGGVGKSALTIQLIQNHFVDEYDPTIEDSYRKQVVIDGETCLLDILDTAGQEEYSAMRDQYMRTGEGFLCVFAINNSKSFADINLYREQIKRVKDSDDVPMVLVGNKCDLPTRTVDTKQAHELAKSYGIPFIETSAKTRQGVEDAFYTLVREIRQYRMKKLNSSDDGTQGCMGLPCVVM*\t23\n",
      "Mus.musculus\tGGGGCCGGAAGTGCCGCTCCCTGGCGGGGGCTGTTCATGGCGGTTTCGGGGTCTCCAACAGCTTCTCAGGTTGAAGTCCAAAAGCCTCCCGAGGCGGGGTCTGCGGAGTTTGAGGTTTTTGCTGGTGTGAAATGACTGAGTACAAACTGGTGGTGGTTGGAGCAGGTGGTGTTGGGAAAAGCGCCTTGACGATCCAGCTAATCCAGAACCACTTTGTGGATGAATATGATCCCACCATAGAGGATTCTTACCGAAAGCAAGTGGTGATTGATGGTGAGACCTGCCTGCTGGACATACTGGACACAGCTGGACAAGAGGAGTACAGTGCCATGAGAGACCAGTACATGAGGACAGGCGAAGGGTTCCTCTGTGTATTTGCCATCAATAATAGCAAATCATTTGCAGATATTAACCTCTACAGGGAGCAAATTAAGCGTGTGAAAGATTCTGATGATGTCCCCATGGTGCTGGTAGGCAACAAGTGTGACTTGCCAACAAGGACAGTTGACACAAAGCAAGCCCACGAACTGGCCAAGAGTTACGGAATTCCATTCATTGAGACCTCAGCCAAGACCCGACAGGGTGTGGAGGATGCCTTTTACACACTGGTAAGGGAGATACGCCAGTACCGAATGAAAAAGCTCAACAGCAGTGACGATGGCACTCAAGGTTGTATGGGGCTGCCCTGTGTGCTGATGTAGTAAGACACTTTGAAAGTTCTGTCATCAGAAAAGAGCCACTTTGAAGCTGCACTGATGCCCTGGTTCTGACATCCCTGGAGGAGACCTGTTCCTGCTGCTCTCTGCATCTCAGAGAAGCTCCTGCTTCCTGCTTCCCCGACTCAGTTACTGAGCACAGCCATCTAACCTGAGACCTCTTCAGAATAACTACCTCCTCACTCGGCTGTCTGACCAGAGAAATAGACCTGTCTCTCCCGGTCGTTCTCTGCCCTGGGTTCCCCTAGAAACAGACACAGCCTCCAGCTGGCTTTGTCCTCTGAAAAGCAGTTTACATTGATGCAGAGAACCAAACTAGACATGCCATTCTGTTGACAACAGTTTCTTATACTCTAAGGTAACAACTGCTGGTGATTTTCCCCTGCCCCCAACTGTTGAACTTGGCCTTGTTGGTTTGGGGGGAAAATGTCATAAATTACTTTCTTCCCAAAATATAATTAGTGTTGCTGATTGATTTGTAATGTGATCAGCTATATTCCATAAACTGGCATCTGCTCTGTATTCATAAATGCAAACACGAATACTCTCAACTGCATGCAATTAAATCCAACATTCACAACAAAGTGCCTTTTTCCTAAAAGTGCTCTGTAGGCTCCATTACAGTTTGTAATTGGAATAGATGTGTCAAGAACCATTGTATAGGAAAGTGACTCTGAGCCATCTACCTTTGAGGGAAAGGTGTATGTACCTGATGGCAGATGCTTTGTGTATGCACATGAAGATAGTTTCCCTGTCTGGGATTCTCCCAGGAGAAAGATGGAACTGAAACAATTACAAGTAATTTCATTTAATTCTAGCTAATCTTTTTTTTTTTTTTTTTTTTTTTTGGTAGACTATCACCTATAAATATTTGGAATATCTTCTAGCTTACTGATAATCTAATAATTAATGAGCTTCCATTATAATGAATTGGTTCATACCAGGAAGCCCTCCATTTATAGTATAGATACTGTAAAAATTGGCATGTTGTTACTTTATAGCTGTGATTAATGATTCCTCAGACCTTGCTGAGATATAGTTATTAGCAGACAGGTTATATCTTTGCTGCATAGTTTCTTCATGGAATATATATCTATCTGTATGTGGAGAGAACGTGGCCCTCAGTTCCCTTCTCAGCATCCCTCATCTCTCAGCCTAGAGAAGTTCGAGCATCCTAGAGGGGCTTGAACAGTTATCTCGGTTAAACCATGGTGCTAATGGACCGGGTCATGGTTTCAAAACTTGAACAAGCCAGTTAGCATCACAGAGAAACAGTCCATCCATATTTGCTCCCTGCCTATTATTCCTGCTTACAGACTTTTGCCTGATGCCTGCTGTTAGTGCTACAAGGATAAAGCTTGTGTGGTTCTCACCAGGACTGGAAGTACCTGGTGAGCTCTGGGGTAAGCCTAGATATCTTTACATTTTCAGACCCTTATTCTTAGCCACGTGGAAACTGAAGCCAGAGTCCATACCTCCATCTCCTTCCCCCCCCAAAAAAATTAGATTAATGTTCTTTATATAGCTTTTTTAAAGTATTTAAAACATGTCTATAAGTTAGGCTGCCAACTAACAAAAGCTGATGTGTTTGTTCAAATAAAGAGGTATCCTTCGCTACTCGAGAGAAGAATGTAAAATGCCATTGATTGTTGTCACTTGGAGGCTTGATGTTTGCCCTGATAATTCATTAGTGGGTTTTGTTTGTCACATGATACCTAAGATGTAACTCAGCTCAGTAATTCTAATGAAAACATAAATTGGATACCTTAATTGAAAAAAGCAAACCTAATTCCAAAATGGCCATTTTCTCTTCTGATCTTGTAATACCTAAAATTCTGAGGTCCTTGGGATTCTTTTGTTTATAACAGGATCTTGCTGTGTAGTCCTAGCTGGCCTCAAACTCACAATACTCTTCCTGGATCAATCTCCCAAGTGCTGGGATTACAGGCACATTCCACCACACACACCTGACTGAGCTCGTTCCTAATGAGTTTTCATTAAGCAAATTCCCCATCACCTTGAAACTAATCAGAAGGGGGAAGAAACATTTGCTATGCTCCTGAGTGCTAACACTGGGATCATTCACATGGGGTTTGCATTCCTAGGCAAACTAAACTGCTGCCTTTTACAACAAGGCTCAGTCATCTTCCTGAAGCTGCTGAGACCAGCACTTGGTCTTGTTTTGTTTTAATATGTCTATATGACTGGTGGTGGATCCCTAAATAGTTTATTAATTAAACTCCAGTTAAGGAGAAAGTTACTCACCTTGACCCGTTTGACCATATCCCGTGTGTGTGTGTGTGTGTGTGTGTGTGTGTGTGTGTGTGTGTGTGTGCACGCGTATGTACGTACGTATGTATGTAGGTATGTAGGTGGTTTCCAGTATAAACACAGAAACAAATGGAGCCAATTCAGGTTTCAGATGCCCTTACTAACATATATTCCCACGGGGTGTGGGTTTTGGCACAACAGTGACAAACTTAAAAGCCAAGTAAGAGCCGGGCGTGGTGGCGCACGCCTTTAATCCCAGCACTTGGGAGGCAGAGGCAGGCGGATTTCTGAGTTCTAGGCCATCCTGGTCTACAGTGAGTTCCAGGACAGCCAGTGCTACACAGAGAAACCCTGTCTCGAAAAGCCAAAAAAAAAAAAAAAAAAAAAAAAAAAAAGCCAAGTAGGTCCAGTTGGTATAGTATCAAAGTGTTTTTAGAGTAATTAGTGAAGGTCTGCTTTACCTCAAAGTTGCAGAGCCTCTCTTCCTGAGTTTAAGTGCCTGGCCGGCAGTCACAAATTAACATGTTGCTGTAAGGCAGTTAGTTGAAGCTTTGTTCACACATTGGAGAGTATGAAAATAAAGTGTTCTAAGAGCGCTGATACTGGATCTGTGTAAACCTGGTAAATGCCGTTTGTCCAGGACTTAGCGTGTGTGAGTTGGTAGCTCAGTACGAGTTTACTAGTTCCGCAGTGTGTACAATGGAGGCGGGTTTGTTTTAGCTGGCCACCTGTAGAATCAGCCTTTAAACTGCTGTGAACTTTGTCATGACTTGAATATGAAGATAGACAAAAACTCTGTAAAGACAAATGTTTGTTTTCCCCCTTACAGAACGTGTGAGCTTGGTTTTATCTTCCTTTGTATTTAGTCATAACCTCTCAAGCTGGCAGCTCCGACCAAGGATCAGAAGCTGTGTGCGTTCCACCTGGTGGAATTAGCTCAGCTCTATATGAGAAGTGGAGTTAATGGAAAACGTGTTGACTGGGTGGTTTCTATTTAAAAGAGTGATGATAATTCTTGAACAGTAGTTTTTATTTTGCTATTTCTTTAAGCTGACTGATGTGCCACAAAATTATTTTAAGGTATTTGTGTTTTAAGAGTGTTCTCATGAGATTAGTTGTAGATATTTTTTAAAATACAACTGGTTTTTAAAATCTGAGTATTGCTCTAAGCAAGTGTTTAGACTCTTACGGGAAGGTGGGTGGAAGTTGTTTGGCTTCCGTATTTCCATGCGTGCCGTCAGACATAGGTCAGAACGCCAACTGTGCATCCTGCTGTTTAAAGACCTCTTGGCCTCTGTGACCCTCATGAAGGGGCTGATATTTTAAGTTGACTGTTTGATTGTAAATTAATCCTTTCTAATTTTTAAAGACTTGCTTGACTGTTTTCCTTGTTAAATAATTTTAAAAAAATAAAAAACTGGAAGTTCTTTGCTTAA\tNRAS\tNM_010937.3\t0.4239204160072349\tMTEYKLVVVGAGGVGKSALTIQLIQNHFVDEYDPTIEDSYRKQVVIDGETCLLDILDTAGQEEYSAMRDQYMRTGEGFLCVFAINNSKSFADINLYREQIKRVKDSDDVPMVLVGNKCDLPTRTVDTKQAHELAKSYGIPFIETSAKTRQGVEDAFYTLVREIRQYRMKKLNSSDDGTQGCMGLPCVLM*\t23\n",
      "Pan.troglodytes\tCCGGGGCGGGGACTCAGGCGCCTGGGGCGCCGACTGATTACGTAGCGGGCGGGGCCGGAAGTGCCGCTCCTTGGTGGGGGCTGTTCATGGCGGTTCCGGGGTCTCCAACATTTTTCCCGGCTGTGGTCCTAAATCTGTCCAAAGCAGAGGCAGTGGAGCTTGAGGTTCTTGCTGGTGTGAAATGACTGAGTACAAACTGGTGGTGGTTGGAGCAGGTGGTGTTGGGAAAAGCGCACTGACAATCCAGCTAATCCAGAACCACTTTGTAGATGAATATGATCCCACCATAGAGGATTCTTACAGAAAACAAGTGGTTATAGATGGTGAAACCTGTTTGTTGGACATACTGGATACAGCTGGACAAGAAGAGTACAGTGCCATGAGAGACCAATACATGAGGACAGGCGAAGGCTTCCTCTGTGTATTTGCCATCAATAATAGCAAGTCATTTGCAGATATTAACCTCTACAGGCTGGAGTGCAGTGGAACAATTATGGCTCACTGCAGCCTTGACCTTTCTGGACCCAGGGAGCAGATTAAGCGAGTAAAAGACTCGGATGATGTACCTATGGTGCTAGTGGGAAACAAGTGTGATTTGCCAACAAGGACAGTTGATACAAAACAAGCCCACGAACTGGCCAAGAGTTACGGGATTCCATTCATTGAAACCTCAGCCAAGACCAGACAGGGTGTTGAAGATGCTTTTTACACACTGGTAAGAGAAATACGCCAGTACCGAATGAAAAAACTCAACAGCAGTGATGATGGGACTCAGGGTTGTATGGGATTGCCATGTGTGGTGATGTAACAAGATACTTTTAAAGTTTTGTCAGAAAAGAGCCACTTTCAAGCTGCACTGACACCCTGGTCCTGACTTCCCTGGAGGAGAAGTATTCCTGTTGCTATCTTCAGTCTCACAGAGAAGCTCCTGCTACTTCCCCAGCTCTCAGTAGTTTAGTACAATAATCTCTATTTGAGAAGTTCTCAGAATAACTACCTCCTCACTTGGCTGTCTGACCAGAGAATGCACCTCTTGTTACTCCCTGTTATTTTTCTGCCCTGGGTTCTTCCACAGCACAAACACACCTCTGCCACCCCAGGTTTTTCATCTGAAAAGCAGTTCATGTCTGAAACAGAGAACCAAACCGCAAACGTGAAATTCTATTGAAAATAGTGTCTTGAGCTCTAAAGTAGCAACTGCTGGTGATTTTTTTTTTCTTTTTACTGTTGAACTTAGAACTATGCTAATTTTTGGAGAAATGTCATAAATTACTGTTTTGCCAAGAATATAGTTATTATTGCTGTTTGGTTTGTTTATAATGTTATCGGCTCTATTCTCTAAACTGGCATCTGCTCTAGATTCATAAATACAAAAATGAATACTGAATTTTGAGTCTATCCTAGTCTTCACAACTTTGACGTAATTAAATCCAACTTTCACAGTGAAGTGCCTTTTTCCTAGAAGTGGTTTGTAGACTTCCTTTATAATATTTCAGTGGAATAGATGTCTCAAAAATCCTTATGCATGAAATGAATGTCTGAGATACGTCTGTGACTTATCTACCATTGAAGGAAAGCTATATCTATTTGAGAGCAGATGCCATTTTGTACATGTATGAAATTGGTTTTCCAGAAGCCTGTTTTGGGGCTTTCCCAGGAGAAAGATGAAACTGAAAGCATATGAATAATTTCACTTAATTTTTACCTAATCTCCACTTTTTTCATAGGTTACTGCCTATACAATGTATGTAATTTGTTTCCCCTAGCTTACTGATAAACCTAATATTCAATGAACTTCCATTTGTATTCAAATTTGTGTCATACCAGAAAGCTCTGCATTTGCAGATGTTCAAATATTGTAAAACTTTGGTGCATTGTTATTTAATAGCTGTGATCAGTGATTTTCAAACCTCAAATATAGTATATTAACAAATTACATTTTCACTGTATATCATGGTATCTTAATGATGTATATAATTGCCCTCAATCCCCTTCTCACCCCACCCTCTACAGCTTCCCCCACAGCAATAGGGGCTTGATTATTTCAGTTGAGTAAAGCATGGTGCTAATGGACCAGGGTCACAGTTTCAAAACTTGAACAATCCAGTTAGCATCACAGAGAAAGAAATTCTTCTGCATTTGCTCATTGCACCAGTAACTCCAGCTAGTAATTTTGCTAGGTAGCTGCAGTTAGCCCTGCAAGGAAAGAAGAGGTCAGTTAGCACAAACCCTTTACCATGACTGGAAAACTCAGTATCACGTATTTAAACATTTTTTTTTCTTTTAGCCATGTAGAAACTCTAAATTAAGCCAATATTCTCATTTGAGAATGAGGATGTCTCAGCTGAAAAACGTTTTAAATTCTTTTTATTCATAATGTTCTTTGAAGGGTTTAAAACAAGATGTTGATAAATCTAAGCTGATGAGTTTGCTCAAAACAGGAAGTTGAAATTGTTGAGACAGGAATGGAAAATATAATTAATTGATACCTATGAGGATTTGGAGGCTTGGCATTTTAATTTGCAGATAATACCCTGGTAATTCTCATGAAAAATAGACTTGGATAACTTTTGATAAAAGACTAATTCCAAAATGGCCACTTTGTTCCTGTCTTTAATATCTAAATACTTACTGAGGTCCTCCATCTTCTATATTATGAATTTTCATTTATTAAGCAAATGTCATATTACCTTGAAATTCAGAAGAGAAGAAACATATACTGTGTCCAGAGTATAATGAACCTGCAGAGTTGTGCTTCTTACTGCTAATTCTGGGAGCTTTCACAGTACTGTCATCATTTGTAAATGGAAATTCTGCTTTTCTGTTTCTGCTCCTTCTGGAGCAGTGTTACTCTGTAATTTTCCTGAGGCTTATCACCTCAGTCATTTTTTTTTAAATGTCTGTGATTGGCAGTGATTCTTTTTCTTAAAAATCTATTAAATTTGATGTCAAATTAGGGAGAAAGATAGTTACTCATCTTGGGCTCTTGTGCCAATAGCCCTTGTATGTATGTACTTAGAGTTTTCCAAGTATGTTCTAAGCACAGAAGTTTCTAAATGGGGCCAAAATTCAGACTTGAGTATGTTCTTTGAATACCTTAAGAAGTTACAATTAGCCGGGCATGGTGGCCCGTGCCTGTAGTCCCAGCTACTTGAGAGGCTGAGGCAGGAGAATCACTTCAACCCAGGAGGTGGAGGTTACAGTGAGCAGAGATCGTGCCACTGCACTCCAGCCTGGGTGACAAGAGAGACTTGTCTCCAAAAAAAAAGTTACACCTAGGTGTGAATTTTGGCACAAAGGAGTGACAAACTTATAGTTAAAAGCCGAATAACTTCAGTGTGGTATAAAACGTGGTTTTTAGGCTATGTTTGTGATTGCTGAAAAGAATTCTAGTTTACCTCAAAATCCTTCTCTTTCCCCAAATTAAGTGCCTGGCCAGCTCTCATAAATTACATATTCCTTTTGGTTTTTTTAAAGGTTACATGTTCAAGAGTGTGAAAATAAGATGTTCTGTCTGAAGGCTACCATGCCGGATCTGTAAATGAACCTGTTAAATGCTGTATTTGCTCCAACAGCTTACTATAGAATGTTACTTAATACAATATCATACTTATTACAATTTTTACTATAGGAGTGTAATAGGTAAAATCAATCTCTATTTTAGTGGGCCCATGTTTAGTCTTTCACCATCCTTTAAACTGCTGTGAATTTTTTTGTCATGACTTGAAAGCAAGGATAGAGAAACACTTTAGAGATATCTGGGTTTTTTAACCATTCCAGAACTTGTGAGCATAATCATATTTGCTTTATATTTATAGTCATGAACTCCTAAGCTGGCAGCTACAACCAAGAACCAAAAAATGGTGCGTTCTGCTTCTTGTAATTCATCTCTGCTAATAAATTATAAGAAGCGAGGAAAATTAGGGAAAATATTTTATTTGGATGGTTTCTATAAACAAGGGACTATAATTCTTGTACATTATTTTTCATCTTTGCTGTTTCTTTGAGCAGTCTAATGTGCCACACAATTATCTAAGGTATTTGTTTTCTATAAGAATTGTTTTAAAAGTATTCTTGTTACCAGAGTAGTTGTATTATATTTCAAAATGTAAGATGATTTTTTAAAGCCTGAGTACTGACCTAAGATGGAATTGTATGAACTCTGCTCTGGAGGGAGGGGAGGATGTCCGTGGAAGTTGTAAGACTTTTATTTTTTTGTGCCATCAAATATAGGTAAAAATAATTGTGCAATTCTGCTGTTTAAACAGGAACTATTGGCCTCCTTGGCCCTAAATGGAAGGGCCGATATTTTAAGTTGATTATTTTATTGTAAATTAATCCAACCTAGTTCTTTTTAATTTGGTTGAATGTTTTTCTTGTTAAATGATGTTTAAAAAATAAAAACTGGAAGTTCTTGGCTTAGTCATAA\tNRAS\tXM_054686127.1\t0.37976969970648\tVPMVLVGNKCDLPTRTVDTKQAHELAKSYGIPFIETSAKTRQGVEDAFYTLVREIRQYRMKKLNSSDDGTQGCMGLPCVVM*\t11\n",
      "Danio.rerio\tAATGTTTATGTTGATGTGCTCTGCTTGAGTGGAGAAGCTGTGCTGTCTGTCTAATGAGGAAAACGGCGGCGAGCGGCGGAGCTTTGAGAGGAGCAGCGGGAAGGATGTCGACATATTATTGACTGACTTATCGGCGTCGAGGAGAGCGAGCAGAGCCCTGCGTTTTCTTGTGACAGAGCAGCGGTGAGAATGACGGAGTATAAGTTGGTGGTTGTAGGTGCAGGTGGTGTGGGCAAGAGTGCTCTGACCATTCAGCTCATCCAGAACCACTTCGTTGATGAGTATGACCCAACCATTGAGGATTCATATAGGAAACAAGTGGTGATCGATGGAGAGACCTGTTTGTTGGATATCCTGGATACTGCAGGTCAAGAAGAGTACAGTGCAATGAGAGACCAGTACATGAGGACTGGAGAGGGCTTTCTCTGTGTTTTTGCCATCAACAATACCAAATCTTTTGAGGACATCCATCAATACAGGGAACAAATTAAGAGGGTTAAAGACTCAGATGATGTGCCTATGGTGCTTGTGGGTAATAAATGTGATCTACCAGCGCGCACTGTGGATACAAGACAAGCCCAGGAACTGGCCCGTAGTTATGGGATACCTTACATTGAGACCTCAGCCAAGACACGACAGGGAGTGGAAGATGCCTTTTACACACTTGTTCGTGAAATCAGGCAGCATAAGTTGAGGAAACTGAACCCACCTGATGACAATGGCCAAGACTGTATGAACTGCCGCTGTGTCGTGTCATGATCTGTGAATGCGCATGACGTGGCTTTAAAAGCGCTGCAGCCCTACAGACCACAAACACTGCAACACCTACACACAGACGCTGGACGTTTACAGCAGACTGTGTAAAAGGGAAATCTTTATTCTGTGGCAGCCCTGCAGTCTTTCTATGGGATCTCCCCATCTCTTCTCCTTACGCCGGAGATGATAAAAGCTGTACCTCATTTTAACGGTCTCAACACTGGAGTTGCTTCGACTGGATGAAAGCTGTCACACTTAAATATATCTACATTAAACAAACTATCTACTCGTAACTGGAAGTAATAGCTCAGAACATAACCTCTCATATTGCTTTTGTCAGATGTGGATGTTAGAAAATGCAAGATGGAGAGGAGAACTACTGCGTAACTTAGATTAGCATACGGCTGGATGTGAGAAAGATTTGTATTGTCATTTGCTTAGAGGAAGTCCAACCTAATAAAATGTACATAATGAACGGCGGTCTTCTGCGAACAGGACTTTTAGTGTGTTTATCAGAGGTTATGGCGCAATATGACGCGATTAAATGGTGCGTCTCTGATAAATCTCCATTTTGCACATTGTGTGATATTTTAAAGCGGAGGGCACGCGTTGTTAGCCTTTGGTTTTAGACGGATCTCCAGGTCTTCAAAATTGAATATCAAGATCTGATGGAGTTCATTTATGTTAGACAAATGTATCACAAGTAACTGGACTGGCTAAAGAAGGCCTATTGTTGACCGTTTTTTTTGAAAAAGTAATCATAATACATGCGCTAGCATACTATATATATATAAAAAAAGAAGATACGCTTGGATTGAAAAGCCTTTTTGATATTCTTGCTCACTACAGTTGTTCCCTTGTTCAGAAACAGTCATTTCGAGTATCATATTGTCTAATCTTTCACTTATGCCATATTTATTCCATATTTATGGGTGAAGATGTCGTTTAAATGTGTAATTTAAAGGGAAAGAATATGTATCTTCTATCAGACTTCATATTCCTTGCATTAAATCCTCATTGTAGGCTTTCCCTTGAGGGAATCTTCTTTTGTATTTGCTTTATTCATTAACATTAACTTTGTAATGACAGAGAGAAGCTGGAAGTCTGGATTTCCATTTTTTTTTACATTGTTTAAAATTAGCTAGTCTCGTTGCAAGGTACTTATTTCAAATCATAGTCTTTCTTATTAACATTTGTGAATCTGATTTTATGGCTAGAAGTGAGTGCTTACTCATTCAGACTGAAATTTGATAATTTTTCTCTATAATGATTGCTGACTGTTTTATTCCCATACAGTCTATTGATTGTTCTGAAGGACATACATGGGTGGATGTGATTCTGCCTTTAAATTGCGTGTCAGTAGCTATGGATATGACCTTCAAGGGTTTCTGTAAGCATCCAGAATGTGTTGATGGACTGCCGCAGAGTAATGTGGCTTTATCAGGTGGTTTGATTGCTGCCGCTTAGGCTACTCAACATAGTTTTACATGAACGTTGGGTAATGGCTGTTACTCACAACACTAACTAGCATGTAAAACACAGTCTAAAAATGCATAGAACTCCAATCTATCCTCTATTCGTATGATTTATTTGTTAATTTATTACAGGCCAACTGCTGCTATTAAATCTTTTTTATGACTAAAAACAGAGGGACGACAACACAGTATTATTATGGTGTAATTAAGGACAAATAACCCAAAAGGCTGTGTTGGTTCTGATATTAAGTAAGCATATTAGCATATAAAACTTAAAAACATGATTTTTTCAAAAGAACATGTGTCTGTGGTGTTCAGAAAACACTGAATTTCATTTTGACTACAGTAACGATTATTGTGTGAGAAGTATCAAATAAAAAAAAAGCTTGTTTTGACAAAAAAAAAAAAAAAAAAAAAAAAAAAAAA\tHRASB\tNM_001020629.1\t0.39292435077154686\tMTEYKLVVVGAGGVGKSALTIQLIQNHFVDEYDPTIEDSYRKQVVIDGETCLLDILDTAGQEEYSAMRDQYMRTGEGFLCVFAINNTKSFEDIHQYREQIKRVKDSDDVPMVLVGNKCDLPARTVDTRQAQELARSYGIPYIETSAKTRQGVEDAFYTLVREIRQHKLRKLNPPDDNGQDCMNCRCVVS*\t20\n",
      "Danio.rerio\tTCTGAAGCCGGAAGTCGCCGTGAATCGTGAAGTTCTGGGGAAGCTGCTTGCTCAACTCTTATTCAAAACTTTGGCCAGACTTGTTTAACGGCTGTTTATAATACCTGGATTTGTGGCCTCTCTACGAATCTGGTTACCGCGGGTTACGCTGCCTCCAGACGGGTGTGAAGTGACTTTTGGAGGGCTCCTCATGGCATTATTTTGGGCGAGGGAGCAGTAATAAGCAGAGCCCTGTTGATCAGATCAGCCAGAGGTCGCAGAACTGCAGTGTAAGCGGTGGTCCCTCAGGACTGTAAGATGACTGAGTATAAGCTGGTTGTTGTGGGAGCAGGAGGTGTTGGGAAGAGCGCGTTAACAATCCAGCTCATCCAGAATCACTTTGTGGATGAATATGACCCCACTATTGAGGACTCTTACAGGAAGCAGGTGGTGATTGACGGCGAGACGTGTCTGCTGGACATCCTGGACACTGCAGGCCAGGAAGAGTACAGCGCAATGAGAGACCAGTACATGAGGACAGGAGAGGGTTTCCTCTGCGTCTTCGCTATCAACAACAGCAAATCCTTCGCCGACGTGCATTTGTACAGAGAGCAGATCAAGCGTGTGAAGGACTCGGATGATGTTCCCATGGTCCTAGTGGGGAACAAATGTGATTTGGCAAGGACTGTGGACACCAAGCAAGCTCAGGAACTTGCCAGAAGCTACGGCATTGAGTTTGTAGAAACCTCTGCCAAAACCAGACAGGGAGTCGAGGATGCTTTCTACACCCTTGTCCGTGAGATCCGGCATTATCGCATGAAAAAGCTCAACAGCAGAGAAGACAGGAAGCAGGGCTGTCTGGGCGTGTCCTGTGAAGTCATGTGACCGCACTGTCTCCCTATTTTTGTGTTTGTTTTTTGGAAGCAGTTTGTTAAGCAGGCAGCTGGAAGCCTCATGACCACCGTGTGCATGCGCAGATTTCGCCCTCTGCTGGCTGAAAGGGAATAATGCACAACTGGTCATCTTTCCGGGTTGGCCTGCTGTAATATATATAAATGAGGCCGATGGACATTACATGTTTTAACCGAGGCTTAGTACTTAGGTTTTCCTTCTTCCTTTGGAAGAGCAACTTAAAACGGGCATTGAGATTGGGCATTGGATGATTCTACATTCTCTTCTGACCCCTTATAAACACGGGATCATCAAGCAGATTGGCATTGAGGAAAATAAATAAAAATTAATATTCATGGCACATTTTATCCAAAAATCTGAAGGATTTAATTTTTTTTATTTATATACAATTTATCACATTTACCCTCATTCTTATTATAATTTAGCTATTTTTAATATTCTCTTCTTTTAATAGACATCAAATAAAGGCAAAACCTATTACTGTGATGCATAAAAATGAATATATTATTTCCTCATTAACATAATGATAATTGAGAAGGAAATGTGCTTAACTGCCAATCATCATTTGACATTAAAGCACCACAATGGCAAAAATTCTAGACGTATACACACATATATATAATTTCCGATTAATTGTTTTAATTTTAGGATTATATTTGGAGCTGTTCTTTGCAGGGTGTTTTGACCCGTAGAATGTTTTACAATACATCTGTATGTCCAGAAGAAACTGTTTTCAAGTCATACACTTCAGGATTAGTATAATTTATGACTGTCATTTTCTCAGAATTTGTAAAGGCCTCAGAAGAGAACGAATGAAATGCCCTTTAATCTTAATCCGCAGGTTCAATGCTCAGGAATACTGTGAACACAGAACTTCTTCTTCAAAAAAGTGTGGAATTTTTTCTCTTCAGTTTTTTTTTTTATTTGTTTGTTTTCAAGGTAGCCAAAGAGTTTTAGCATTTACCATTTTTAGATACATTTGCTCTAGAGTTTCACCTTCTTTGCTCTCAGATGATAATTGTATATATTGATATATAATACTTAATGATTTGGTTCAGATGCAGACAATTGGATTGGATTTTAAGCATAGGGGTTTGTTGGATTTTACTTTTAAGGGCCTTTTGAATCATGGTGCTGCTGGTGTTCATGCCAAATCTGCGTGCCGCCTTCTGTGTCCTTTATAGCATGACATCTTTAGCTCATATCAATGTCTTAAATCTTCCAACAAAAGAGTTTTTCTTGGAAGTGTAACGGATCAGAGTAAGGTTTGTTGCATTGTTTCCATGCCTGAGGTCTCCTCTTAAGAGCCGCTGAAGGTTTCCCAAGAAGTTGAAATGATCTTTCTTGTTGACTGTCGTGTTATTTATATGGCATTTGTCTGATACTGTGCCTGATTTCATTGAGAATGAAATCTGCAATGTGTTCTTGTTATTACTGCGGTTGCGTTTGGCCTTCTGTCCTCACACTAACAGAGGCAAGATGTTTGGTAGAAAATACAGACTAAGTTTGCCATTATGTTAACAAATCCTTTCTTTTTTTAAACTATATAGAAACTTGTTTTTTGTATATTTGTTTTACTATTTTAGCACACTTTATCAGTACCACAGACTATCTCTAATCAGAAAGTCATGTGAAAACGAGCATTTCATGTCTTTTTTGGGGGAGGGTGGGGGATTATACATGTGTAACAGATGTGCCTACCATATTACAAGAAGTTTAACCAGTAAATTAACTGGAATCTGA\tNRAS\tNM_131145.2\t0.40280941533788917\tMSRRNCFQVIHFRISIIYDCHFLRICKGLRRERMKCPLILIRRFNAQEYCEHRTSSSKKCGIFSLQFFFLFVCFQGSQRVLAFTIFRYICSRVSPSLLSDDNCIY*\t13\n",
      "Macaca.mulatta\tAGTGGCGCAATCTCGGCTTACTACAACCTCTGCCTCCCGGGCTCACGTGATTTCTCCTGCCTTAGCCTCCCGAGTAGCTGGGATTACAAGCCCGTGCCGCCGTGCCGGGTTGATTTTTGTATTTTTAGTAGAGACGGGGTTTCATCATGTTGCCCAGGCTGGTCTTGAACTCCTGACCTCAGGCGATTCACCCGCCTCGACCTCCCAAAGTGTTAGGATTACAGGCGTGAGCCACCGCACCCGTCTTGAATTGTACACTTCAAAAGGTGGAATTTTATGGTGTTGAATTATATCTTTATTTTTTTAACGTGGGGAAAATGACGCCGCTGGAGAGGAGTTAGCGGAACTGAAACAATGAAATGGTGCGCGAGTGTCGCCTGTCCCCGTCGCATCCATCCCAACGAAGTTTGGGCCCTGGAACGGTGCACCAAGAAGGCCTGCGGGGAGAGGCGCTGGGGCAGGGTAAGGAAGAAAGACGTCTCAGGATTCGAAGGGAATGCGGCTAAGGTGGCGACGGATGTTCGTCTAGGACTGGGGAGGCGTCCGTAGGCTCAGAAGTTGGCCCGGCCGGAGCGGAGATTTAAAGGTTGGAGCGCAGAGGCTCTTAAAGAGGCCGGGTCGAATTCCCATTTGGCGTCCACATTAAAGCCAGCTCCCGGGCGCCACGGATCCGACCCGGGTCTGACCTTCGAGAAACATGGCAACCAGCGCCGTCCCCAGTGACAACCTCCCCACATACAAGCTGGTGGTGGTGGGGGATGGGGGCGTGGGCAAAAGTGCCCTCACCATCCAGTTTTTCCAAAAGATCTTTGTGCCTGACTATGACCCCACCATTGAAGACTCCTACCTGAAACATACAGAGATTGACAATCAGTGGGCCATCTTGGACGTTTTGGACACAGCCGGGCAGGAGGAATTCAGCGCCATGCGGGAGCAGTACATGCGCACGGGGGATGGCTTCCTCATCGTCTACTCCGTCACCGACAAGGCCAGCTTCGAGCACGTGGACCGTTTCCACCAGCTCATCCTGCGTGTCAAAGACAGGGAGTCATTCCCGATGATCCTCGTGGCCAACAAGGTCGATTTGATGCACTTAAGGAAAATCACCAGGGAGCAAGGAAAAGAAATGGCGACCAAACACAATATTCCGTACATAGAAACCAGTGCCAAGGACCCACCTCTCAATGTCGACAAAGCCTTCCATGACCTCGTGAGAGTAATTAGGCAACAGATTCCGGAAAAAAGCCAGAAGAAGAAGAAAAAAACCAAATGGCGGGGAGACCGGGCCACAGGCACCCACAAACTGCAATGTGTGATCTTGTGACAGGCCTGAGGCCCTGGGCACAGTGACTGTGGCCTGGCCATCCCTCGGGGCCCCTCCCCACCTAACTGCACTGAAACCATTTCTAACCACAACCCTTGGCCCAAGGACCTCGTACAGGAAGGGAGAAGGGTGAGTGGGCAGGGAGCAGACAGGGTCTGGCTTTGCTCAGAGGGCACGGGCTTTCCCACCTCTCACAAGAAGCAAGGAAGCCGCCTGTGAGCAGAAGCAGCATCCCAGTGCCCCTGGCCTCCCCATGTGTTGATTCAACCCAGTTCCTGCCCCTCTCTCGGTGGGTGTGCTGTTTCTTGTAACTACATAGTGTTGGTTTGATGTGGAAGTGTTTATCCACATACAAAGTACAAAACAAGCCATGAACAAGCTTCTTCCCCTTACCCCCCATCCACAGTGTCTGAGCTTGGATGTCTTTTATAGATTTTTAAATTATTTTAGTGATTGTTATTTTATTAAAGGGGTCTGGGCTCACTGCCTCGTGAAGTTTCAAGTGTTCAGCAGACCTCTCTGGTAACATATCTGGAATATTGTTGTTTTTTAACTGAGTTTTCCCATCAGTGCCAAAACTCAACTCAATCTGAAAGTAGAGTGACTGAGAGGACAGAAGTGAATGGGAACTGTAGCTGGAAGCCTCAGGCCATGGGTCAAACCTGGGAGGGAAAGAGACCCTACTCATGGCCTAGAAATGAGAGAAGAGAGAGGTATTTACCCAGAGGGTTTTCCTATGGTTGGGGATGCAAATATTAGAAAACAGATTGTATTTTGCTGAAGGGAGTGGCTGTCCTGAGCATGTCAGTTCTAAAAGGGGTTTTCATTATCTTGGAAATGTATAAACTAAAGTAAGCTGATTGGCTTTGCAAACGTGTTCATTTGTTTTTCAGACAGTATGGGTTAAGTTCTCTGCCCTCCCCAGGGGTCTGAGGAGGCTCTGGGTTTCTCAGATCTGTCTCTTGCTGCTTTTTCACGTTGGCTGTGCTGCTTGGTGCCTCTCTGATATGAACACACTGACACGTCAAAGTAACCTAATGTGGACACCATGCAGAAAACTCCAGTTCATGCTGGATCTTAACCAAAAACGATTCAATACTCTTATCACTAAAACAGCACCAAGACCTGAAGCCATCTTCCCTTGGAGTTAACTGACTACCACTTCTGTAAGCCCAGTCAATGAGCAGACCCCTTCCAGTATTTGTAAAAGTAGTGCTGGTTGCCTTTTTGGCAATTTTTATTGACCTGTTGAATCTTGACTATAATATGATCTGACAAGTAAGGAAGGCTGGGCTGATGTGTGGCTCTCATACACCTTCCACAAGGGGGCAGTCTCCCCAGCTCCCTGATGATGCTCAACCCGCCCCACCCCCGCACAGGTGCTGCTGGTGTGAGCCAAAGACTGGAGTTTTTCCAGCTGGGGTGGGAGTGGAGTGACAACAGGAACAACGGTGTACCAAAGAAAAGGTCAGAATATAAGGCAGCACAGCTGGTGACCTTATTTTCTAGATGTTACAAATCAGGTCACTATGCAAACTAGAATATCCTCAGCAGGTGGCCTGGCCACTCTGGAGAAAGAAACCCGAGGAAAGTGAGCACCCACCCGGATGCCAGGACACCTGGGTTCTGAAAATGCGCCGTGTTCCCACCTCGGCAAGATCACCAGCACTGAGGGGCCCAGCTGGAGAGTGATTCTGCTACAAAAGGAGATAGTTGAGACTTTTGTTTGTTGGAAATCAAACTTCTTATTTGACTAAATTGCCCCTTTTTCTGTTCCTAAAAGGAAGGATAAGAGAGAACATTCCAGATGAGGCACTTCAGAGTTTCCTTAGATCCTATAATGTTAAGAGATATTTTAAACACTAAAAGGACAAAGCTCTTCCCAATCCTTATGCTTCCCTAAGTGGCATCTGCAGCAGGTACGTGTGTGTTTGATGGCAGCTGCAAACTGGAGGCGAGGCGGAGGAAAGGCAGGCAGGAAGAAGTGAGGATGGAGATGCTCAGAACTGAGAGCATGGCGGAGTAGGAGAAGAAGCCCTGCACACAGGGCGGTGTCCACGGCCAGAAAACTCCTGCTGGGCACCAACCACTACGAGCGTAACCCATACCCACCATGGAGCTCCCACTCCTCGACGGCACTGAGTGGGGTAGTCTCACTGGAAGCAGATCAGCTGACATAGAAGAGAGACCTTGGCCATAAAGGTGAGAAGACAGGCATTTCAACCACATGGTTGGGACAGAAGGGACAGTGCATCTGTTCATCCATCCTGCTCTTGGCTCACAGTTGAACTCCATAGTGCCTGAGAGAGACTAGTTAAGGGTTGGTCTTCTGTAGCCTCTGCTGTTGAGCCTCTGGTAAGCTTTCATCTCCCATGAACTCATTTCCCCATAAGTGAAATGAGTAAATAATGCCCCATTTGTAGAAGTGGGCCCTCATGACTGAGGTAGCTTCCAGATAGGCCAGAGTAAAGTGTAGAGTGTGCCCCGTGGCATCCCTCCATCATCTTCTCCATCATCATCTACCAGGGTCAGACTGGGAAACCTGGTTGGCCACGCCACACCATGACCGAGGAGCCAACTGGGACTTGTGGCTGTTTGACATCCTCATGTTCCCATTGGTCTTCCGGAGAATAGTGCTACCCTCACATCTCCTGGAGCACAGCCTTCCTGAAATGTCCTCACCCCATGCCTTTGCCATTGTGTGCTCTCAGATTTCCTCCACTATTTGACACCCTTTTTAGAGGGCTGCTTTTTTTTCCAGAGATAATCCTAGCCATCCTCTCCACTCGGGCTATGGCCACTTACTACCCGTGCACTTTGCCACACAGGGGACACCTGGATGGTTTCTCTTAGGACTTTTCCCACCTCCTTCTCATGACATTTGCTGTGGAGAATGCCTGGCTGGCCTCCTGGGGCCTGTCTCGCTTTGCCAGGAGACATGACCCACTAACGTGGCAACTCTAACCCAAAGGCCCCTCAGACATTACAGCAAATCCGGAGCCACAGACAGGTTCCCTGCATTGGTAGCCCATCGTGTTAGAAATTCCATGTCGAGTTTACTTGGAATGAAAGATACTTGAATTATTGTGCGCCCGGGAGTGCCCAGCTTCTGTTTCATAGTCTTAACAGGTGGCCATTGTTGTGAAACGAGAGTGATGCCTGAAGATCTCAATGATATTTGAGCCTTTTATGTAACTTTCTATTAAGTCTTTGTATATCTCGACTGATTAATAAAGAAGAGAAACAC\tMRAS\tXM_015132033.2\t0.5018595493327499\tMATSAVPSDNLPTYKLVVVGDGGVGKSALTIQFFQKIFVPDYDPTIEDSYLKHTEIDNQWAILDVLDTAGQEEFSAMREQYMRTGDGFLIVYSVTDKASFEHVDRFHQLILRVKDRESFPMILVANKVDLMHLRKITREQGKEMATKHNIPYIETSAKDPPLNVDKAFHDLVRVIRQQIPEKSQKKKKKTKWRGDRATGTHKLQCVIL*\t24\n",
      "Pan.troglodytes\tCAGGCCCGCCCGAGTCTCCGCCGCCCGTGCCCTGCGCCCGCAACCCGAGCCGCACCCGCCGCGGACGGAGCCCATGCGCGGGGCGAACCGCGCGCCCCCGCCCCCGCCCCGCCCCGGCCTCGGCCCCGGCCCTGGCCCCGGGGGCAGTCGCGCCTGTGAACGGTGGGGCAGGAGACCCTGTAGGAGGACCCCGGGCCGCAGGCCCCTGAGGAGCGATGACGGAATATAAGCTGGTGGTGGTGGGCGCCGGCGGTGTGGGCAAGAGTGCGCTGACCATCCAGCTGATCCAGAACCACTTTGTGGACGAATACGACCCCACTATAGAGGATTCCTACCGGAAGCAGGTGGTCATTGATGGGGAGACATGCCTGTTGGACATCCTGGACACGGCCGGCCAGGAGGAGTACAGCGCCATGCGGGATCAGTACATGCGCACCGGGGAGGGCTTCCTGTGTGTGTTTGCTATCAACAACACCAAGTCTTTTGAGGACATCCACCAGTACAGGGAGCAGATCAAACGGGTGAAGGACTCGGATGACGTGCCCATGGTGCTGGTGGGGAACAAGTGTGACCTGGCTGCACGCACTGTGGAATCTCGGCAGGCTCAGGACCTCGCCCGAAGCTACGGCATCCCCTACATCGAGACCTCGGCCAAGACCCGGCAGGGAGTGGAGGATGCCTTCTACACGTTGGTGCGTGAGATCCGGCAGCACAAGCTGCGGAAGCTGAACCCTCCTGATGAGAGTGGCCCCGGCTGCATGAGCTGCAAGTGTGTGCTCTCCTGACGCAGCACAAGCTCAGGACGTGGAGGTGCCGGATGCAGGGAGGAGGTGCAGACGGAAGAAGGAGGAAGGAAGGACGGAAGCAAGCAAGGAAGGAAGGGCTGCTGGAGCCCAGTCACCCCGGGACCGTGGGCCGAGGTGACTGCAGACCCTCCCAGGGAGGCTGTGCACAGACTGTCTTGAACATCCCAAATGCCACCGGAACCCCAGCCCTTAGCTCCCCTCCCAGGCCTCTGTGGGCCCTTGTCGGGCACAGATGGGATCACAGTAAATTATTGGATGGTCTTGA\tHRAS\tXM_016919968.3\t0.6433239962651728\tMTEYKLVVVGAGGVGKSALTIQLIQNHFVDEYDPTIEDSYRKQVVIDGETCLLDILDTAGQEEYSAMRDQYMRTGEGFLCVFAINNTKSFEDIHQYREQIKRVKDSDDVPMVLVGNKCDLAARTVESRQAQDLARSYGIPYIETSAKTRQGVEDAFYTLVREIRQHKLRKLNPPDESGPGCMSCKCVLS*\t22\n",
      "\n"
     ]
    }
   ],
   "source": [
    "with open ('RAS_gene_data.txt', 'r') as file:\n",
    "    data = file.read()\n",
    "    print('RNA_gene_data.txt')\n",
    "    print(\"Data contents:\", data[:91381])"
   ]
  },
  {
   "cell_type": "code",
   "execution_count": 126,
   "id": "1d67ffd4-d36b-4e80-8d67-9b977a7b7870",
   "metadata": {},
   "outputs": [
    {
     "name": "stdout",
     "output_type": "stream",
     "text": [
      "C:\\Users\\kaitl\\OneDrive\n"
     ]
    }
   ],
   "source": []
  },
  {
   "cell_type": "code",
   "execution_count": 166,
   "id": "984c2616-4095-4177-9d6d-a1427ee5dab0",
   "metadata": {},
   "outputs": [
    {
     "name": "stderr",
     "output_type": "stream",
     "text": [
      "C:\\Users\\kaitl\\AppData\\Local\\Temp\\ipykernel_16412\\405402171.py:8: ParserWarning: Falling back to the 'python' engine because the 'c' engine does not support regex separators (separators > 1 char and different from '\\s+' are interpreted as regex); you can avoid this warning by specifying engine='python'.\n",
      "  df = pd.read_table('RAS_gene_data.txt', sep='/t') #seperate by tabs\n"
     ]
    },
    {
     "ename": "KeyError",
     "evalue": "'species'",
     "output_type": "error",
     "traceback": [
      "\u001b[1;31m---------------------------------------------------------------------------\u001b[0m",
      "\u001b[1;31mKeyError\u001b[0m                                  Traceback (most recent call last)",
      "File \u001b[1;32m~\\anaconda3\\Lib\\site-packages\\pandas\\core\\indexes\\base.py:3805\u001b[0m, in \u001b[0;36mIndex.get_loc\u001b[1;34m(self, key)\u001b[0m\n\u001b[0;32m   3804\u001b[0m \u001b[38;5;28;01mtry\u001b[39;00m:\n\u001b[1;32m-> 3805\u001b[0m     \u001b[38;5;28;01mreturn\u001b[39;00m \u001b[38;5;28mself\u001b[39m\u001b[38;5;241m.\u001b[39m_engine\u001b[38;5;241m.\u001b[39mget_loc(casted_key)\n\u001b[0;32m   3806\u001b[0m \u001b[38;5;28;01mexcept\u001b[39;00m \u001b[38;5;167;01mKeyError\u001b[39;00m \u001b[38;5;28;01mas\u001b[39;00m err:\n",
      "File \u001b[1;32mindex.pyx:167\u001b[0m, in \u001b[0;36mpandas._libs.index.IndexEngine.get_loc\u001b[1;34m()\u001b[0m\n",
      "File \u001b[1;32mindex.pyx:196\u001b[0m, in \u001b[0;36mpandas._libs.index.IndexEngine.get_loc\u001b[1;34m()\u001b[0m\n",
      "File \u001b[1;32mpandas\\\\_libs\\\\hashtable_class_helper.pxi:7081\u001b[0m, in \u001b[0;36mpandas._libs.hashtable.PyObjectHashTable.get_item\u001b[1;34m()\u001b[0m\n",
      "File \u001b[1;32mpandas\\\\_libs\\\\hashtable_class_helper.pxi:7089\u001b[0m, in \u001b[0;36mpandas._libs.hashtable.PyObjectHashTable.get_item\u001b[1;34m()\u001b[0m\n",
      "\u001b[1;31mKeyError\u001b[0m: 'species'",
      "\nThe above exception was the direct cause of the following exception:\n",
      "\u001b[1;31mKeyError\u001b[0m                                  Traceback (most recent call last)",
      "Cell \u001b[1;32mIn[166], line 17\u001b[0m\n\u001b[0;32m     14\u001b[0m plt\u001b[38;5;241m.\u001b[39mstyle\u001b[38;5;241m.\u001b[39muse(\u001b[38;5;124m'\u001b[39m\u001b[38;5;124mdefault\u001b[39m\u001b[38;5;124m'\u001b[39m)\n\u001b[0;32m     16\u001b[0m \u001b[38;5;66;03m# step 3 creating boxplot \u001b[39;00m\n\u001b[1;32m---> 17\u001b[0m ax1\u001b[38;5;241m.\u001b[39mboxplot([df[df[\u001b[38;5;124m'\u001b[39m\u001b[38;5;124mspecies\u001b[39m\u001b[38;5;124m'\u001b[39m] \u001b[38;5;241m==\u001b[39m g][\u001b[38;5;124m'\u001b[39m\u001b[38;5;124mvalue\u001b[39m\u001b[38;5;124m'\u001b[39m] \u001b[38;5;28;01mfor\u001b[39;00m g \u001b[38;5;129;01min\u001b[39;00m df[\u001b[38;5;124m'\u001b[39m\u001b[38;5;124mspecies\u001b[39m\u001b[38;5;124m'\u001b[39m]\u001b[38;5;241m.\u001b[39munique()],\n\u001b[0;32m     18\u001b[0m             labels\u001b[38;5;241m=\u001b[39mdf[\u001b[38;5;124m'\u001b[39m\u001b[38;5;124mspecies\u001b[39m\u001b[38;5;124m'\u001b[39m]\u001b[38;5;241m.\u001b[39munique())\n\u001b[0;32m     19\u001b[0m ax1\u001b[38;5;241m.\u001b[39mset_title(\u001b[38;5;124m'\u001b[39m\u001b[38;5;124mBoxplot by Group\u001b[39m\u001b[38;5;124m'\u001b[39m)\n\u001b[0;32m     20\u001b[0m ax1\u001b[38;5;241m.\u001b[39mset_ylabel(\u001b[38;5;124m'\u001b[39m\u001b[38;5;124mValue\u001b[39m\u001b[38;5;124m'\u001b[39m)\n",
      "File \u001b[1;32m~\\anaconda3\\Lib\\site-packages\\pandas\\core\\frame.py:4102\u001b[0m, in \u001b[0;36mDataFrame.__getitem__\u001b[1;34m(self, key)\u001b[0m\n\u001b[0;32m   4100\u001b[0m \u001b[38;5;28;01mif\u001b[39;00m \u001b[38;5;28mself\u001b[39m\u001b[38;5;241m.\u001b[39mcolumns\u001b[38;5;241m.\u001b[39mnlevels \u001b[38;5;241m>\u001b[39m \u001b[38;5;241m1\u001b[39m:\n\u001b[0;32m   4101\u001b[0m     \u001b[38;5;28;01mreturn\u001b[39;00m \u001b[38;5;28mself\u001b[39m\u001b[38;5;241m.\u001b[39m_getitem_multilevel(key)\n\u001b[1;32m-> 4102\u001b[0m indexer \u001b[38;5;241m=\u001b[39m \u001b[38;5;28mself\u001b[39m\u001b[38;5;241m.\u001b[39mcolumns\u001b[38;5;241m.\u001b[39mget_loc(key)\n\u001b[0;32m   4103\u001b[0m \u001b[38;5;28;01mif\u001b[39;00m is_integer(indexer):\n\u001b[0;32m   4104\u001b[0m     indexer \u001b[38;5;241m=\u001b[39m [indexer]\n",
      "File \u001b[1;32m~\\anaconda3\\Lib\\site-packages\\pandas\\core\\indexes\\base.py:3812\u001b[0m, in \u001b[0;36mIndex.get_loc\u001b[1;34m(self, key)\u001b[0m\n\u001b[0;32m   3807\u001b[0m     \u001b[38;5;28;01mif\u001b[39;00m \u001b[38;5;28misinstance\u001b[39m(casted_key, \u001b[38;5;28mslice\u001b[39m) \u001b[38;5;129;01mor\u001b[39;00m (\n\u001b[0;32m   3808\u001b[0m         \u001b[38;5;28misinstance\u001b[39m(casted_key, abc\u001b[38;5;241m.\u001b[39mIterable)\n\u001b[0;32m   3809\u001b[0m         \u001b[38;5;129;01mand\u001b[39;00m \u001b[38;5;28many\u001b[39m(\u001b[38;5;28misinstance\u001b[39m(x, \u001b[38;5;28mslice\u001b[39m) \u001b[38;5;28;01mfor\u001b[39;00m x \u001b[38;5;129;01min\u001b[39;00m casted_key)\n\u001b[0;32m   3810\u001b[0m     ):\n\u001b[0;32m   3811\u001b[0m         \u001b[38;5;28;01mraise\u001b[39;00m InvalidIndexError(key)\n\u001b[1;32m-> 3812\u001b[0m     \u001b[38;5;28;01mraise\u001b[39;00m \u001b[38;5;167;01mKeyError\u001b[39;00m(key) \u001b[38;5;28;01mfrom\u001b[39;00m \u001b[38;5;21;01merr\u001b[39;00m\n\u001b[0;32m   3813\u001b[0m \u001b[38;5;28;01mexcept\u001b[39;00m \u001b[38;5;167;01mTypeError\u001b[39;00m:\n\u001b[0;32m   3814\u001b[0m     \u001b[38;5;66;03m# If we have a listlike key, _check_indexing_error will raise\u001b[39;00m\n\u001b[0;32m   3815\u001b[0m     \u001b[38;5;66;03m#  InvalidIndexError. Otherwise we fall through and re-raise\u001b[39;00m\n\u001b[0;32m   3816\u001b[0m     \u001b[38;5;66;03m#  the TypeError.\u001b[39;00m\n\u001b[0;32m   3817\u001b[0m     \u001b[38;5;28mself\u001b[39m\u001b[38;5;241m.\u001b[39m_check_indexing_error(key)\n",
      "\u001b[1;31mKeyError\u001b[0m: 'species'"
     ]
    },
    {
     "data": {
      "image/png": "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",
      "text/plain": [
       "<Figure size 1500x500 with 3 Axes>"
      ]
     },
     "metadata": {},
     "output_type": "display_data"
    }
   ],
   "source": [
    "# step 1 - import libs adn read the data \n",
    "\n",
    "import matplotlib.pyplot as plt\n",
    "import pandas as pd\n",
    "import numpy as np \n",
    "import seaborn as seaborn\n",
    "\n",
    "df = pd.read_table('RAS_gene_data.txt', sep='\\t') #seperate by tabs\n",
    "\n",
    "# step 2 - create figure with 3 subplots \n",
    "fig, (ax1, ax2, ax3) = plt.subplots(1, 3, figsize=(15, 5))\n",
    "\n",
    "# set a sexy style \n",
    "plt.style.use('default')\n",
    "\n",
    "# step 3 creating boxplot \n",
    "ax1.boxplot([df[df['species'] == g]['value'] for g in df['species'].unique()],\n",
    "            labels=df['species'].unique())\n",
    "ax1.set_title('Boxplot by Group')\n",
    "ax1.set_ylabel('Value')\n",
    "\n",
    "#make histogram \n",
    "for group in df['species'].unique():\n",
    "    ax2.hist(df[df['species'] == group]['value'], alpha=0.5, label=group)\n",
    "ax2.set_title('Histogram by Group')\n",
    "ax2.set_xlabel('Value')\n",
    "ax2.set_ylabel('Frequency')\n",
    "ax2.legend()\n",
    "\n",
    "#make scatterplot with lof scale \n",
    "for group in df['species'].unique():\n",
    "    group_data = df[df['species'] == group]\n",
    "    ax3.scatter(group_data['x_value'], group_data['y_value'], alpha=0.6, label=group)\n",
    "ax3.set_xscale('log')\n",
    "ax3.set_yscale('log')\n",
    "ax3.set_title('Scatter Plot (Log Scale)')\n",
    "ax3.set_xlabel('X Value')\n",
    "ax3.set_ylabel('Y Value')\n",
    "ax3.legend()\n",
    "\n",
    "#make it better \n",
    "plt.tight_layout()\n",
    "plt.show()\n",
    "    "
   ]
  },
  {
   "cell_type": "code",
   "execution_count": 148,
   "id": "3a6bafd9-0966-4704-98ec-5b2dc9db0fe0",
   "metadata": {},
   "outputs": [],
   "source": [
    "def where_am_i():\n",
    "    import os\n",
    "    print(\"hey andi ur in \", os.getcwd())\n",
    "    print(\"where theres this - \", os.listdir())\n"
   ]
  },
  {
   "cell_type": "code",
   "execution_count": 152,
   "id": "ca4da2bd-1540-4194-abb3-ecc8f1f56dd9",
   "metadata": {},
   "outputs": [
    {
     "name": "stdout",
     "output_type": "stream",
     "text": [
      "hey andi ur in  C:\\Users\\kaitl\\OneDrive\n",
      "where theres this -  ['.849C9593-D756-4E56-8D6E-42412F2A707B', '.ipynb_checkpoints', 'atlas_is_learning.ipynb', 'Attachments', 'Desktop', 'desktop.ini', 'Documents', 'Getting started with OneDrive.pdf', 'Personal Vault.lnk', 'Pictures', 'RAS_gene_data.txt', 'TOPIC 4 ASSESSMENT 52318936.docx']\n"
     ]
    }
   ],
   "source": [
    "where_am_i()"
   ]
  },
  {
   "cell_type": "code",
   "execution_count": 160,
   "id": "33672961-8f26-4ae9-90ab-9def82dcfac3",
   "metadata": {},
   "outputs": [
    {
     "name": "stdout",
     "output_type": "stream",
     "text": [
      "Index(['species\\tsequence\\tgene\\tseqid\\tGC\\tAA\\tSer.Thr.Count'], dtype='object')\n"
     ]
    }
   ],
   "source": [
    "print(df.columns)"
   ]
  },
  {
   "cell_type": "code",
   "execution_count": null,
   "id": "6b209e91-676e-441c-8ca8-c919c02446f7",
   "metadata": {},
   "outputs": [],
   "source": []
  }
 ],
 "metadata": {
  "kernelspec": {
   "display_name": "Python 3 (ipykernel)",
   "language": "python",
   "name": "python3"
  },
  "language_info": {
   "codemirror_mode": {
    "name": "ipython",
    "version": 3
   },
   "file_extension": ".py",
   "mimetype": "text/x-python",
   "name": "python",
   "nbconvert_exporter": "python",
   "pygments_lexer": "ipython3",
   "version": "3.11.7"
  }
 },
 "nbformat": 4,
 "nbformat_minor": 5
}
# making a small change on github
